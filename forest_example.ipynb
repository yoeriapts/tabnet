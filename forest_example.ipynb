{
 "cells": [
  {
   "cell_type": "code",
   "execution_count": 53,
   "metadata": {
    "ExecuteTime": {
     "end_time": "2023-08-29T13:01:34.104226477Z",
     "start_time": "2023-08-29T13:01:34.033908965Z"
    }
   },
   "outputs": [],
   "source": [
    "from pytorch_tabnet.tab_model import TabNetClassifier\n",
    "\n",
    "import torch\n",
    "from sklearn.preprocessing import LabelEncoder\n",
    "from sklearn.metrics import accuracy_score\n",
    "from sklearn.model_selection import train_test_split\n",
    "import pandas as pd\n",
    "import numpy as np\n",
    "np.random.seed(0)\n",
    "\n",
    "import os\n",
    "import wget\n",
    "from pathlib import Path\n",
    "import shutil\n",
    "import gzip\n",
    "\n",
    "from matplotlib import pyplot as plt\n",
    "%matplotlib inline"
   ]
  },
  {
   "cell_type": "markdown",
   "metadata": {},
   "source": [
    "# Download ForestCoverType dataset"
   ]
  },
  {
   "cell_type": "code",
   "execution_count": 54,
   "metadata": {
    "ExecuteTime": {
     "end_time": "2023-08-29T13:01:34.135528637Z",
     "start_time": "2023-08-29T13:01:34.040282409Z"
    }
   },
   "outputs": [],
   "source": [
    "url = \"https://archive.ics.uci.edu/ml/machine-learning-databases/covtype/covtype.data.gz\"\n",
    "dataset_name = 'forest-cover-type'\n",
    "tmp_out = Path('./data/'+dataset_name+'.gz')\n",
    "out = Path(os.getcwd()+'/data/'+dataset_name+'.csv')"
   ]
  },
  {
   "cell_type": "code",
   "execution_count": 55,
   "metadata": {
    "ExecuteTime": {
     "end_time": "2023-08-29T13:01:34.186773295Z",
     "start_time": "2023-08-29T13:01:34.046985544Z"
    }
   },
   "outputs": [
    {
     "name": "stdout",
     "output_type": "stream",
     "text": [
      "File already exists.\n"
     ]
    }
   ],
   "source": [
    "out.parent.mkdir(parents=True, exist_ok=True)\n",
    "if out.exists():\n",
    "    print(\"File already exists.\")\n",
    "else:\n",
    "    print(\"Downloading file...\")\n",
    "    wget.download(url, tmp_out.as_posix())\n",
    "    with gzip.open(tmp_out, 'rb') as f_in:\n",
    "        with open(out, 'wb') as f_out:\n",
    "            shutil.copyfileobj(f_in, f_out)\n"
   ]
  },
  {
   "cell_type": "markdown",
   "metadata": {},
   "source": [
    "# Load data and split\n",
    "Same split as in original paper"
   ]
  },
  {
   "cell_type": "code",
   "execution_count": 56,
   "metadata": {
    "ExecuteTime": {
     "end_time": "2023-08-29T13:01:34.186924821Z",
     "start_time": "2023-08-29T13:01:34.103839624Z"
    }
   },
   "outputs": [],
   "source": [
    "target = \"Covertype\"\n",
    "\n",
    "bool_columns = [\n",
    "    \"Wilderness_Area1\", \"Wilderness_Area2\", \"Wilderness_Area3\",\n",
    "    \"Wilderness_Area4\", \"Soil_Type1\", \"Soil_Type2\", \"Soil_Type3\", \"Soil_Type4\",\n",
    "    \"Soil_Type5\", \"Soil_Type6\", \"Soil_Type7\", \"Soil_Type8\", \"Soil_Type9\",\n",
    "    \"Soil_Type10\", \"Soil_Type11\", \"Soil_Type12\", \"Soil_Type13\", \"Soil_Type14\",\n",
    "    \"Soil_Type15\", \"Soil_Type16\", \"Soil_Type17\", \"Soil_Type18\", \"Soil_Type19\",\n",
    "    \"Soil_Type20\", \"Soil_Type21\", \"Soil_Type22\", \"Soil_Type23\", \"Soil_Type24\",\n",
    "    \"Soil_Type25\", \"Soil_Type26\", \"Soil_Type27\", \"Soil_Type28\", \"Soil_Type29\",\n",
    "    \"Soil_Type30\", \"Soil_Type31\", \"Soil_Type32\", \"Soil_Type33\", \"Soil_Type34\",\n",
    "    \"Soil_Type35\", \"Soil_Type36\", \"Soil_Type37\", \"Soil_Type38\", \"Soil_Type39\",\n",
    "    \"Soil_Type40\"\n",
    "]\n",
    "\n",
    "int_columns = [\n",
    "    \"Elevation\", \"Aspect\", \"Slope\", \"Horizontal_Distance_To_Hydrology\",\n",
    "    \"Vertical_Distance_To_Hydrology\", \"Horizontal_Distance_To_Roadways\",\n",
    "    \"Hillshade_9am\", \"Hillshade_Noon\", \"Hillshade_3pm\",\n",
    "    \"Horizontal_Distance_To_Fire_Points\"\n",
    "]\n",
    "\n",
    "feature_columns = (\n",
    "    int_columns + bool_columns + [target])\n"
   ]
  },
  {
   "cell_type": "code",
   "execution_count": 57,
   "metadata": {
    "ExecuteTime": {
     "end_time": "2023-08-29T13:01:34.739214462Z",
     "start_time": "2023-08-29T13:01:34.103926798Z"
    }
   },
   "outputs": [],
   "source": [
    "train = pd.read_csv(out, header=None, names=feature_columns)\n",
    "\n",
    "n_total = len(train)\n",
    "\n",
    "# Train, val and test split follows\n",
    "# Rory Mitchell, Andrey Adinets, Thejaswi Rao, and Eibe Frank.\n",
    "# Xgboost: Scalable GPU accelerated learning. arXiv:1806.11248, 2018.\n",
    "\n",
    "train_val_indices, test_indices = train_test_split(\n",
    "    range(n_total), test_size=0.2, random_state=0)\n",
    "train_indices, valid_indices = train_test_split(\n",
    "    train_val_indices, test_size=0.2 / 0.6, random_state=0)\n"
   ]
  },
  {
   "cell_type": "markdown",
   "metadata": {},
   "source": [
    "# Simple preprocessing\n",
    "\n",
    "Label encode categorical features and fill empty cells."
   ]
  },
  {
   "cell_type": "code",
   "execution_count": 58,
   "metadata": {
    "ExecuteTime": {
     "end_time": "2023-08-29T13:01:34.754659940Z",
     "start_time": "2023-08-29T13:01:34.740353393Z"
    }
   },
   "outputs": [],
   "source": [
    "categorical_columns = []\n",
    "categorical_dims =  {}\n",
    "for col in train.columns[train.dtypes == object]:\n",
    "    print(col, train[col].nunique())\n",
    "    l_enc = LabelEncoder()\n",
    "    train[col] = train[col].fillna(\"VV_likely\")\n",
    "    train[col] = l_enc.fit_transform(train[col].values)\n",
    "    categorical_columns.append(col)\n",
    "    categorical_dims[col] = len(l_enc.classes_)\n",
    "\n",
    "for col in train.columns[train.dtypes == 'float64']:\n",
    "    train.fillna(train.loc[train_indices, col].mean(), inplace=True)"
   ]
  },
  {
   "cell_type": "markdown",
   "metadata": {},
   "source": [
    "# Define categorical features for categorical embeddings"
   ]
  },
  {
   "cell_type": "code",
   "execution_count": 59,
   "metadata": {
    "ExecuteTime": {
     "end_time": "2023-08-29T13:01:34.777669348Z",
     "start_time": "2023-08-29T13:01:34.744024174Z"
    }
   },
   "outputs": [],
   "source": [
    "# This is a generic pipeline but actually no categorical features are available for this dataset\n",
    "\n",
    "unused_feat = []\n",
    "\n",
    "features = [ col for col in train.columns if col not in unused_feat+[target]] \n",
    "\n",
    "cat_idxs = [ i for i, f in enumerate(features) if f in categorical_columns]\n",
    "\n",
    "cat_dims = [ categorical_dims[f] for i, f in enumerate(features) if f in categorical_columns]\n"
   ]
  },
  {
   "cell_type": "markdown",
   "metadata": {},
   "source": [
    "# Network parameters"
   ]
  },
  {
   "cell_type": "code",
   "execution_count": 60,
   "metadata": {
    "ExecuteTime": {
     "end_time": "2023-08-29T13:01:34.778155599Z",
     "start_time": "2023-08-29T13:01:34.765993930Z"
    }
   },
   "outputs": [
    {
     "name": "stderr",
     "output_type": "stream",
     "text": [
      "/home/yoeriapts/workspace/tabnet/pytorch_tabnet/abstract_model.py:82: UserWarning: Device used : cuda\n",
      "  warnings.warn(f\"Device used : {self.device}\")\n"
     ]
    }
   ],
   "source": [
    "clf = TabNetClassifier(\n",
    "    n_d=64, n_a=64, n_steps=5,\n",
    "    gamma=1.5, n_independent=2, n_shared=2,\n",
    "    cat_idxs=cat_idxs,\n",
    "    cat_dims=cat_dims,\n",
    "    cat_emb_dim=1,\n",
    "    lambda_sparse=1e-4, momentum=0.3, clip_value=2.,\n",
    "    optimizer_fn=torch.optim.Adam,\n",
    "    optimizer_params=dict(lr=2e-2),\n",
    "    scheduler_params = {\"gamma\": 0.95,\n",
    "                     \"step_size\": 20},\n",
    "    scheduler_fn=torch.optim.lr_scheduler.StepLR, epsilon=1e-15\n",
    ")"
   ]
  },
  {
   "cell_type": "markdown",
   "metadata": {},
   "source": [
    "# Training"
   ]
  },
  {
   "cell_type": "code",
   "execution_count": 61,
   "metadata": {
    "ExecuteTime": {
     "end_time": "2023-08-29T13:01:35.206458223Z",
     "start_time": "2023-08-29T13:01:34.776288875Z"
    }
   },
   "outputs": [],
   "source": [
    "if os.getenv(\"CI\", False):\n",
    "# Take only a subsample to run CI\n",
    "    X_train = train[features].values[train_indices][:1000,:]\n",
    "    y_train = train[target].values[train_indices][:1000]\n",
    "else:\n",
    "    X_train = train[features].values[train_indices]\n",
    "    y_train = train[target].values[train_indices]\n",
    "\n",
    "X_valid = train[features].values[valid_indices]\n",
    "y_valid = train[target].values[valid_indices]\n",
    "\n",
    "X_test = train[features].values[test_indices]\n",
    "y_test = train[target].values[test_indices]"
   ]
  },
  {
   "cell_type": "code",
   "execution_count": 65,
   "outputs": [],
   "source": [
    "#X_valid"
   ],
   "metadata": {
    "collapsed": false,
    "ExecuteTime": {
     "end_time": "2023-08-29T13:02:30.772201706Z",
     "start_time": "2023-08-29T13:02:30.739394617Z"
    }
   }
  },
  {
   "cell_type": "code",
   "execution_count": 10,
   "metadata": {
    "ExecuteTime": {
     "end_time": "2023-08-29T12:28:20.413631990Z",
     "start_time": "2023-08-29T12:28:20.392173729Z"
    }
   },
   "outputs": [],
   "source": [
    "max_epochs = 100 if not os.getenv(\"CI\", False) else 2"
   ]
  },
  {
   "cell_type": "code",
   "execution_count": 11,
   "metadata": {
    "scrolled": true,
    "ExecuteTime": {
     "end_time": "2023-08-29T12:35:58.807631781Z",
     "start_time": "2023-08-29T12:28:20.392944072Z"
    }
   },
   "outputs": [
    {
     "name": "stdout",
     "output_type": "stream",
     "text": [
      "epoch 0  | loss: 1.32746 | train_accuracy: 0.43832 | valid_accuracy: 0.43738 |  0:00:05s\n",
      "epoch 1  | loss: 0.85895 | train_accuracy: 0.12408 | valid_accuracy: 0.12358 |  0:00:09s\n",
      "epoch 2  | loss: 0.7615  | train_accuracy: 0.12087 | valid_accuracy: 0.12095 |  0:00:14s\n",
      "epoch 3  | loss: 0.73034 | train_accuracy: 0.06845 | valid_accuracy: 0.06869 |  0:00:18s\n",
      "epoch 4  | loss: 0.71299 | train_accuracy: 0.13499 | valid_accuracy: 0.1353  |  0:00:23s\n",
      "epoch 5  | loss: 0.69701 | train_accuracy: 0.06534 | valid_accuracy: 0.06526 |  0:00:27s\n",
      "epoch 6  | loss: 0.6878  | train_accuracy: 0.04551 | valid_accuracy: 0.04605 |  0:00:32s\n",
      "epoch 7  | loss: 0.6767  | train_accuracy: 0.05311 | valid_accuracy: 0.05395 |  0:00:36s\n",
      "epoch 8  | loss: 0.66672 | train_accuracy: 0.11718 | valid_accuracy: 0.11694 |  0:00:41s\n",
      "epoch 9  | loss: 0.65553 | train_accuracy: 0.25431 | valid_accuracy: 0.25412 |  0:00:45s\n",
      "epoch 10 | loss: 0.64651 | train_accuracy: 0.28166 | valid_accuracy: 0.28081 |  0:00:50s\n",
      "epoch 11 | loss: 0.64024 | train_accuracy: 0.34425 | valid_accuracy: 0.34455 |  0:00:54s\n",
      "epoch 12 | loss: 0.63515 | train_accuracy: 0.43797 | valid_accuracy: 0.43824 |  0:00:59s\n",
      "epoch 13 | loss: 0.63453 | train_accuracy: 0.47467 | valid_accuracy: 0.47609 |  0:01:04s\n",
      "epoch 14 | loss: 0.63203 | train_accuracy: 0.52082 | valid_accuracy: 0.52006 |  0:01:08s\n",
      "epoch 15 | loss: 0.63059 | train_accuracy: 0.59198 | valid_accuracy: 0.59057 |  0:01:13s\n",
      "epoch 16 | loss: 0.63711 | train_accuracy: 0.64683 | valid_accuracy: 0.64466 |  0:01:17s\n",
      "epoch 17 | loss: 0.63554 | train_accuracy: 0.67452 | valid_accuracy: 0.67352 |  0:01:22s\n",
      "epoch 18 | loss: 0.62956 | train_accuracy: 0.68089 | valid_accuracy: 0.67954 |  0:01:26s\n",
      "epoch 19 | loss: 0.62254 | train_accuracy: 0.72356 | valid_accuracy: 0.71935 |  0:01:31s\n",
      "epoch 20 | loss: 0.61253 | train_accuracy: 0.72559 | valid_accuracy: 0.72444 |  0:01:36s\n",
      "epoch 21 | loss: 0.6068  | train_accuracy: 0.74115 | valid_accuracy: 0.73825 |  0:01:40s\n",
      "epoch 22 | loss: 0.60107 | train_accuracy: 0.75096 | valid_accuracy: 0.74983 |  0:01:45s\n",
      "epoch 23 | loss: 0.59852 | train_accuracy: 0.75304 | valid_accuracy: 0.75225 |  0:01:49s\n",
      "epoch 24 | loss: 0.5947  | train_accuracy: 0.76198 | valid_accuracy: 0.76094 |  0:01:54s\n",
      "epoch 25 | loss: 0.58167 | train_accuracy: 0.76602 | valid_accuracy: 0.76493 |  0:01:58s\n",
      "epoch 26 | loss: 0.58056 | train_accuracy: 0.77343 | valid_accuracy: 0.7718  |  0:02:03s\n",
      "epoch 27 | loss: 0.5688  | train_accuracy: 0.78176 | valid_accuracy: 0.77995 |  0:02:07s\n",
      "epoch 28 | loss: 0.55791 | train_accuracy: 0.78619 | valid_accuracy: 0.78383 |  0:02:12s\n",
      "epoch 29 | loss: 0.55268 | train_accuracy: 0.79    | valid_accuracy: 0.7898  |  0:02:16s\n",
      "epoch 30 | loss: 0.5487  | train_accuracy: 0.78887 | valid_accuracy: 0.78652 |  0:02:21s\n",
      "epoch 31 | loss: 0.54372 | train_accuracy: 0.79594 | valid_accuracy: 0.79395 |  0:02:26s\n",
      "epoch 32 | loss: 0.54167 | train_accuracy: 0.79279 | valid_accuracy: 0.79086 |  0:02:30s\n",
      "epoch 33 | loss: 0.5394  | train_accuracy: 0.79803 | valid_accuracy: 0.79529 |  0:02:35s\n",
      "epoch 34 | loss: 0.52879 | train_accuracy: 0.80029 | valid_accuracy: 0.79761 |  0:02:39s\n",
      "epoch 35 | loss: 0.52157 | train_accuracy: 0.80717 | valid_accuracy: 0.80471 |  0:02:44s\n",
      "epoch 36 | loss: 0.51599 | train_accuracy: 0.80609 | valid_accuracy: 0.80397 |  0:02:48s\n",
      "epoch 37 | loss: 0.51459 | train_accuracy: 0.81054 | valid_accuracy: 0.80743 |  0:02:53s\n",
      "epoch 38 | loss: 0.51104 | train_accuracy: 0.81053 | valid_accuracy: 0.80881 |  0:02:57s\n",
      "epoch 39 | loss: 0.51197 | train_accuracy: 0.8063  | valid_accuracy: 0.80421 |  0:03:02s\n",
      "epoch 40 | loss: 0.50896 | train_accuracy: 0.8134  | valid_accuracy: 0.81003 |  0:03:07s\n",
      "epoch 41 | loss: 0.50179 | train_accuracy: 0.81544 | valid_accuracy: 0.81132 |  0:03:11s\n",
      "epoch 42 | loss: 0.49452 | train_accuracy: 0.82226 | valid_accuracy: 0.81926 |  0:03:16s\n",
      "epoch 43 | loss: 0.48961 | train_accuracy: 0.82273 | valid_accuracy: 0.81969 |  0:03:20s\n",
      "epoch 44 | loss: 0.48276 | train_accuracy: 0.82559 | valid_accuracy: 0.82224 |  0:03:25s\n",
      "epoch 45 | loss: 0.4801  | train_accuracy: 0.82672 | valid_accuracy: 0.82416 |  0:03:29s\n",
      "epoch 46 | loss: 0.48437 | train_accuracy: 0.82488 | valid_accuracy: 0.8227  |  0:03:34s\n",
      "epoch 47 | loss: 0.48333 | train_accuracy: 0.82762 | valid_accuracy: 0.82477 |  0:03:39s\n",
      "epoch 48 | loss: 0.47312 | train_accuracy: 0.83403 | valid_accuracy: 0.83043 |  0:03:43s\n",
      "epoch 49 | loss: 0.4759  | train_accuracy: 0.82827 | valid_accuracy: 0.82428 |  0:03:48s\n",
      "epoch 50 | loss: 0.47096 | train_accuracy: 0.83131 | valid_accuracy: 0.82916 |  0:03:52s\n",
      "epoch 51 | loss: 0.46822 | train_accuracy: 0.83007 | valid_accuracy: 0.82616 |  0:03:57s\n",
      "epoch 52 | loss: 0.46589 | train_accuracy: 0.83498 | valid_accuracy: 0.83171 |  0:04:01s\n",
      "epoch 53 | loss: 0.46296 | train_accuracy: 0.83592 | valid_accuracy: 0.83196 |  0:04:06s\n",
      "epoch 54 | loss: 0.45023 | train_accuracy: 0.8448  | valid_accuracy: 0.83987 |  0:04:10s\n",
      "epoch 55 | loss: 0.44533 | train_accuracy: 0.84286 | valid_accuracy: 0.83837 |  0:04:15s\n",
      "epoch 56 | loss: 0.44106 | train_accuracy: 0.84794 | valid_accuracy: 0.84412 |  0:04:19s\n",
      "epoch 57 | loss: 0.43842 | train_accuracy: 0.85323 | valid_accuracy: 0.84942 |  0:04:24s\n",
      "epoch 58 | loss: 0.4308  | train_accuracy: 0.85199 | valid_accuracy: 0.84718 |  0:04:29s\n",
      "epoch 59 | loss: 0.42621 | train_accuracy: 0.85684 | valid_accuracy: 0.85202 |  0:04:33s\n",
      "epoch 60 | loss: 0.42651 | train_accuracy: 0.85543 | valid_accuracy: 0.85135 |  0:04:38s\n",
      "epoch 61 | loss: 0.42038 | train_accuracy: 0.85705 | valid_accuracy: 0.85249 |  0:04:42s\n",
      "epoch 62 | loss: 0.42023 | train_accuracy: 0.86062 | valid_accuracy: 0.85539 |  0:04:47s\n",
      "epoch 63 | loss: 0.42622 | train_accuracy: 0.85513 | valid_accuracy: 0.8508  |  0:04:51s\n",
      "epoch 64 | loss: 0.43837 | train_accuracy: 0.84142 | valid_accuracy: 0.83646 |  0:04:56s\n",
      "epoch 65 | loss: 0.4492  | train_accuracy: 0.84578 | valid_accuracy: 0.84223 |  0:05:00s\n",
      "epoch 66 | loss: 0.43673 | train_accuracy: 0.85453 | valid_accuracy: 0.85001 |  0:05:05s\n",
      "epoch 67 | loss: 0.43885 | train_accuracy: 0.85272 | valid_accuracy: 0.84862 |  0:05:09s\n",
      "epoch 68 | loss: 0.42796 | train_accuracy: 0.8576  | valid_accuracy: 0.85349 |  0:05:14s\n",
      "epoch 69 | loss: 0.41788 | train_accuracy: 0.86549 | valid_accuracy: 0.8603  |  0:05:18s\n",
      "epoch 70 | loss: 0.40428 | train_accuracy: 0.87059 | valid_accuracy: 0.8658  |  0:05:23s\n",
      "epoch 71 | loss: 0.40144 | train_accuracy: 0.86571 | valid_accuracy: 0.86113 |  0:05:27s\n",
      "epoch 72 | loss: 0.41234 | train_accuracy: 0.86533 | valid_accuracy: 0.8609  |  0:05:32s\n",
      "epoch 73 | loss: 0.40698 | train_accuracy: 0.86929 | valid_accuracy: 0.8644  |  0:05:36s\n",
      "epoch 74 | loss: 0.42657 | train_accuracy: 0.85193 | valid_accuracy: 0.84904 |  0:05:41s\n",
      "epoch 75 | loss: 0.44634 | train_accuracy: 0.84884 | valid_accuracy: 0.84345 |  0:05:45s\n",
      "epoch 76 | loss: 0.42924 | train_accuracy: 0.86134 | valid_accuracy: 0.85672 |  0:05:50s\n",
      "epoch 77 | loss: 0.4144  | train_accuracy: 0.86881 | valid_accuracy: 0.86303 |  0:05:55s\n",
      "epoch 78 | loss: 0.41177 | train_accuracy: 0.86676 | valid_accuracy: 0.86115 |  0:05:59s\n",
      "epoch 79 | loss: 0.42219 | train_accuracy: 0.84019 | valid_accuracy: 0.83717 |  0:06:04s\n",
      "epoch 80 | loss: 0.44954 | train_accuracy: 0.85224 | valid_accuracy: 0.84796 |  0:06:08s\n",
      "epoch 81 | loss: 0.42714 | train_accuracy: 0.86135 | valid_accuracy: 0.8573  |  0:06:13s\n",
      "epoch 82 | loss: 0.41273 | train_accuracy: 0.86761 | valid_accuracy: 0.86252 |  0:06:17s\n",
      "epoch 83 | loss: 0.41822 | train_accuracy: 0.85432 | valid_accuracy: 0.84921 |  0:06:22s\n",
      "epoch 84 | loss: 0.42732 | train_accuracy: 0.85933 | valid_accuracy: 0.85433 |  0:06:26s\n",
      "epoch 85 | loss: 0.4282  | train_accuracy: 0.85484 | valid_accuracy: 0.85087 |  0:06:31s\n",
      "epoch 86 | loss: 0.44623 | train_accuracy: 0.84546 | valid_accuracy: 0.84083 |  0:06:35s\n",
      "epoch 87 | loss: 0.44636 | train_accuracy: 0.84664 | valid_accuracy: 0.84341 |  0:06:40s\n",
      "epoch 88 | loss: 0.44195 | train_accuracy: 0.85585 | valid_accuracy: 0.8516  |  0:06:45s\n",
      "epoch 89 | loss: 0.42494 | train_accuracy: 0.8597  | valid_accuracy: 0.85494 |  0:06:49s\n",
      "epoch 90 | loss: 0.41539 | train_accuracy: 0.86863 | valid_accuracy: 0.86323 |  0:06:54s\n",
      "epoch 91 | loss: 0.4036  | train_accuracy: 0.86826 | valid_accuracy: 0.86298 |  0:06:58s\n",
      "epoch 92 | loss: 0.40335 | train_accuracy: 0.86988 | valid_accuracy: 0.86568 |  0:07:03s\n",
      "epoch 93 | loss: 0.39558 | train_accuracy: 0.87314 | valid_accuracy: 0.86831 |  0:07:07s\n",
      "epoch 94 | loss: 0.39023 | train_accuracy: 0.87529 | valid_accuracy: 0.8692  |  0:07:12s\n",
      "epoch 95 | loss: 0.3957  | train_accuracy: 0.8714  | valid_accuracy: 0.86674 |  0:07:16s\n",
      "epoch 96 | loss: 0.38902 | train_accuracy: 0.8787  | valid_accuracy: 0.87337 |  0:07:21s\n",
      "epoch 97 | loss: 0.38762 | train_accuracy: 0.87666 | valid_accuracy: 0.87127 |  0:07:25s\n",
      "epoch 98 | loss: 0.38695 | train_accuracy: 0.87645 | valid_accuracy: 0.87155 |  0:07:30s\n",
      "epoch 99 | loss: 0.38121 | train_accuracy: 0.87996 | valid_accuracy: 0.87459 |  0:07:34s\n",
      "Stop training because you reached max_epochs = 100 with best_epoch = 99 and best_valid_accuracy = 0.87459\n"
     ]
    },
    {
     "name": "stderr",
     "output_type": "stream",
     "text": [
      "/home/yoeriapts/workspace/tabnet/pytorch_tabnet/callbacks.py:172: UserWarning: Best weights from best epoch are automatically used!\n",
      "  warnings.warn(wrn_msg)\n"
     ]
    }
   ],
   "source": [
    "from pytorch_tabnet.augmentations import ClassificationSMOTE\n",
    "aug = ClassificationSMOTE(p=0.2)\n",
    "\n",
    "clf.fit(\n",
    "    X_train=X_train, y_train=y_train,\n",
    "    eval_set=[(X_train, y_train), (X_valid, y_valid)],\n",
    "    eval_name=['train', 'valid'],\n",
    "    max_epochs=max_epochs, patience=100,\n",
    "    batch_size=16384, virtual_batch_size=256,\n",
    "    augmentations=aug\n",
    ") "
   ]
  },
  {
   "cell_type": "code",
   "execution_count": 12,
   "metadata": {
    "ExecuteTime": {
     "end_time": "2023-08-29T12:35:58.860027314Z",
     "start_time": "2023-08-29T12:35:58.809551787Z"
    }
   },
   "outputs": [
    {
     "data": {
      "text/plain": "[<matplotlib.lines.Line2D at 0x7fdb99204f40>]"
     },
     "execution_count": 12,
     "metadata": {},
     "output_type": "execute_result"
    },
    {
     "data": {
      "text/plain": "<Figure size 640x480 with 1 Axes>",
      "image/png": "[encoded data removed]"
     },
     "metadata": {},
     "output_type": "display_data"
    }
   ],
   "source": [
    "# plot losses\n",
    "plt.plot(clf.history['loss'])"
   ]
  },
  {
   "cell_type": "code",
   "execution_count": 13,
   "metadata": {
    "ExecuteTime": {
     "end_time": "2023-08-29T12:35:58.927801263Z",
     "start_time": "2023-08-29T12:35:58.862193902Z"
    }
   },
   "outputs": [
    {
     "data": {
      "text/plain": "[<matplotlib.lines.Line2D at 0x7fdbc00b7d90>]"
     },
     "execution_count": 13,
     "metadata": {},
     "output_type": "execute_result"
    },
    {
     "data": {
      "text/plain": "<Figure size 640x480 with 1 Axes>",
      "image/png": "[encoded data removed]"
     },
     "metadata": {},
     "output_type": "display_data"
    }
   ],
   "source": [
    "# plot accuracy\n",
    "plt.plot(clf.history['train_accuracy'])\n",
    "plt.plot(clf.history['valid_accuracy'])"
   ]
  },
  {
   "cell_type": "markdown",
   "metadata": {},
   "source": [
    "### Predictions\n"
   ]
  },
  {
   "cell_type": "code",
   "execution_count": 14,
   "metadata": {
    "ExecuteTime": {
     "end_time": "2023-08-29T12:35:59.387767556Z",
     "start_time": "2023-08-29T12:35:58.922586576Z"
    }
   },
   "outputs": [
    {
     "name": "stdout",
     "output_type": "stream",
     "text": [
      "BEST VALID SCORE FOR forest-cover-type : 0.8745877356603007\n",
      "FINAL TEST SCORE FOR forest-cover-type : 0.8770255501148851\n"
     ]
    }
   ],
   "source": [
    "# To get final results you may need to use a mapping for classes \n",
    "# as you are allowed to use targets like [\"yes\", \"no\", \"maybe\", \"I don't know\"]\n",
    "\n",
    "preds_mapper = { idx : class_name for idx, class_name in enumerate(clf.classes_)}\n",
    "\n",
    "preds = clf.predict_proba(X_test)\n",
    "\n",
    "y_pred = np.vectorize(preds_mapper.get)(np.argmax(preds, axis=1))\n",
    "\n",
    "test_acc = accuracy_score(y_pred=y_pred, y_true=y_test)\n",
    "\n",
    "print(f\"BEST VALID SCORE FOR {dataset_name} : {clf.best_cost}\")\n",
    "print(f\"FINAL TEST SCORE FOR {dataset_name} : {test_acc}\")"
   ]
  },
  {
   "cell_type": "code",
   "execution_count": 15,
   "metadata": {
    "ExecuteTime": {
     "end_time": "2023-08-29T12:35:59.851025472Z",
     "start_time": "2023-08-29T12:35:59.395199497Z"
    }
   },
   "outputs": [
    {
     "name": "stdout",
     "output_type": "stream",
     "text": [
      "FINAL TEST SCORE FOR forest-cover-type : 0.8770255501148851\n"
     ]
    }
   ],
   "source": [
    "# or you can simply use the predict method\n",
    "y_pred = clf.predict(X_test)\n",
    "test_acc = accuracy_score(y_pred=y_pred, y_true=y_test)\n",
    "print(f\"FINAL TEST SCORE FOR {dataset_name} : {test_acc}\")"
   ]
  },
  {
   "cell_type": "markdown",
   "metadata": {},
   "source": [
    "# Save and load Model"
   ]
  },
  {
   "cell_type": "code",
   "execution_count": 16,
   "metadata": {
    "ExecuteTime": {
     "end_time": "2023-08-29T12:35:59.906209075Z",
     "start_time": "2023-08-29T12:35:59.845395706Z"
    }
   },
   "outputs": [
    {
     "name": "stdout",
     "output_type": "stream",
     "text": [
      "Successfully saved model at test_model.zip\n"
     ]
    }
   ],
   "source": [
    "# save state dict\n",
    "saved_filename = clf.save_model('test_model')"
   ]
  },
  {
   "cell_type": "code",
   "execution_count": 17,
   "metadata": {
    "ExecuteTime": {
     "end_time": "2023-08-29T12:36:00.004356921Z",
     "start_time": "2023-08-29T12:35:59.908209389Z"
    }
   },
   "outputs": [
    {
     "name": "stderr",
     "output_type": "stream",
     "text": [
      "/home/yoeriapts/workspace/tabnet/pytorch_tabnet/abstract_model.py:82: UserWarning: Device used : cuda\n",
      "  warnings.warn(f\"Device used : {self.device}\")\n"
     ]
    }
   ],
   "source": [
    "# define new model and load save parameters\n",
    "loaded_clf = TabNetClassifier()\n",
    "loaded_clf.load_model(saved_filename)"
   ]
  },
  {
   "cell_type": "code",
   "execution_count": 18,
   "metadata": {
    "ExecuteTime": {
     "end_time": "2023-08-29T12:36:00.964113044Z",
     "start_time": "2023-08-29T12:36:00.005860907Z"
    }
   },
   "outputs": [
    {
     "name": "stdout",
     "output_type": "stream",
     "text": [
      "FINAL TEST SCORE FOR forest-cover-type : 0.8770255501148851\n"
     ]
    }
   ],
   "source": [
    "loaded_preds = loaded_clf.predict_proba(X_test)\n",
    "loaded_y_pred = np.vectorize(preds_mapper.get)(np.argmax(loaded_preds, axis=1))\n",
    "\n",
    "loaded_test_acc = accuracy_score(y_pred=loaded_y_pred, y_true=y_test)\n",
    "\n",
    "print(f\"FINAL TEST SCORE FOR {dataset_name} : {loaded_test_acc}\")"
   ]
  },
  {
   "cell_type": "code",
   "execution_count": 19,
   "metadata": {
    "ExecuteTime": {
     "end_time": "2023-08-29T12:36:00.970493372Z",
     "start_time": "2023-08-29T12:36:00.965182291Z"
    }
   },
   "outputs": [],
   "source": [
    "assert(test_acc == loaded_test_acc)"
   ]
  },
  {
   "cell_type": "markdown",
   "metadata": {},
   "source": [
    "# Global explainability : feat importance summing to 1"
   ]
  },
  {
   "cell_type": "code",
   "execution_count": 20,
   "metadata": {
    "ExecuteTime": {
     "end_time": "2023-08-29T12:36:01.002691683Z",
     "start_time": "2023-08-29T12:36:00.968113868Z"
    }
   },
   "outputs": [
    {
     "data": {
      "text/plain": "array([1.72880831e-01, 1.82164748e-02, 4.85733121e-04, 1.10793879e-02,\n       1.95500509e-02, 7.79269180e-02, 1.00785771e-02, 3.13781764e-02,\n       4.61790591e-03, 9.96770160e-02, 6.41750150e-02, 8.09256768e-03,\n       2.13701825e-02, 5.24763602e-02, 1.33063768e-02, 1.52875264e-02,\n       6.91364740e-03, 4.14096422e-03, 9.33264256e-05, 2.66056176e-04,\n       5.73183549e-06, 1.65271821e-02, 8.70154708e-04, 1.89734067e-04,\n       0.00000000e+00, 3.67260191e-02, 8.12090125e-06, 5.79571136e-04,\n       1.20799859e-05, 1.49322989e-08, 7.96923855e-03, 2.04596448e-03,\n       4.69874039e-03, 2.04906299e-03, 5.92377440e-03, 5.41454488e-02,\n       1.95983918e-02, 1.07847592e-02, 6.87803217e-08, 2.75636166e-04,\n       5.07759401e-03, 4.63382083e-06, 2.44031873e-04, 3.34173581e-02,\n       3.12899690e-02, 1.32822184e-02, 1.60924537e-02, 4.75301128e-03,\n       0.00000000e+00, 2.46453511e-03, 7.43005601e-06, 3.25318157e-02,\n       6.64033774e-02, 8.78350459e-06])"
     },
     "execution_count": 20,
     "metadata": {},
     "output_type": "execute_result"
    }
   ],
   "source": [
    "clf.feature_importances_"
   ]
  },
  {
   "cell_type": "markdown",
   "metadata": {},
   "source": [
    "# Local explainability and masks"
   ]
  },
  {
   "cell_type": "code",
   "execution_count": 21,
   "metadata": {
    "ExecuteTime": {
     "end_time": "2023-08-29T12:36:01.798563468Z",
     "start_time": "2023-08-29T12:36:00.990470473Z"
    }
   },
   "outputs": [],
   "source": [
    "explain_matrix, masks = clf.explain(X_test)"
   ]
  },
  {
   "cell_type": "code",
   "execution_count": 22,
   "metadata": {
    "ExecuteTime": {
     "end_time": "2023-08-29T12:36:02.048518118Z",
     "start_time": "2023-08-29T12:36:01.800760119Z"
    }
   },
   "outputs": [
    {
     "data": {
      "text/plain": "<Figure size 2000x2000 with 5 Axes>",
      "image/png": "[encoded data removed]"
     },
     "metadata": {},
     "output_type": "display_data"
    }
   ],
   "source": [
    "fig, axs = plt.subplots(1, 5, figsize=(20,20))\n",
    "\n",
    "for i in range(5):\n",
    "    axs[i].imshow(masks[i][:50])\n",
    "    axs[i].set_title(f\"mask {i}\")"
   ]
  },
  {
   "cell_type": "markdown",
   "metadata": {},
   "source": [
    "# XGB"
   ]
  },
  {
   "cell_type": "code",
   "execution_count": 68,
   "metadata": {
    "ExecuteTime": {
     "end_time": "2023-08-29T13:07:43.508591424Z",
     "start_time": "2023-08-29T13:07:43.448618677Z"
    }
   },
   "outputs": [
    {
     "data": {
      "text/plain": "array([2, 1, 1, ..., 2, 7, 2])"
     },
     "execution_count": 68,
     "metadata": {},
     "output_type": "execute_result"
    }
   ],
   "source": [
    "#X_train\n",
    "#y_train"
   ]
  },
  {
   "cell_type": "code",
   "execution_count": 44,
   "outputs": [],
   "source": [
    "# The number of trees (or rounds) in an XGBoost model is specified to the XGBClassifier or XGBRegressor class \n",
    "# in the n_estimators argument. The default in the XGBoost library is 100.\n",
    "n_estimators = 1000 if not os.getenv(\"CI\", False) else 20"
   ],
   "metadata": {
    "collapsed": false,
    "ExecuteTime": {
     "start_time": "2023-08-29T12:52:21.963136361Z"
    }
   }
  },
  {
   "cell_type": "code",
   "execution_count": 45,
   "metadata": {
    "scrolled": true,
    "ExecuteTime": {
     "end_time": "2023-08-29T12:52:22.576467801Z",
     "start_time": "2023-08-29T12:52:22.573039101Z"
    }
   },
   "outputs": [],
   "source": [
    "from xgboost import XGBClassifier\n",
    "\n",
    "clf_xgb = XGBClassifier(max_depth=8,\n",
    "    learning_rate=0.1,\n",
    "    n_estimators=n_estimators,\n",
    "    verbosity=0,\n",
    "    silent=None,\n",
    "    objective=\"multi:softmax\",\n",
    "    booster='gbtree',\n",
    "    n_jobs=-1,\n",
    "    nthread=None,\n",
    "    gamma=0,\n",
    "    min_child_weight=1,\n",
    "    max_delta_step=0,\n",
    "    subsample=0.7,\n",
    "    colsample_bytree=1,\n",
    "    colsample_bylevel=1,\n",
    "    colsample_bynode=1,\n",
    "    reg_alpha=0,\n",
    "    reg_lambda=1,\n",
    "    scale_pos_weight=1,\n",
    "    base_score=0.5,\n",
    "    random_state=0,\n",
    "    seed=None,)\n"
   ]
  },
  {
   "cell_type": "code",
   "execution_count": 46,
   "outputs": [
    {
     "name": "stdout",
     "output_type": "stream",
     "text": [
      "(array([1, 2, 3, 4, 5, 6, 7]), array([112996, 151174,  18985,   1481,   5108,   9173,  10955]))\n",
      "(array([1, 2, 3, 4, 5, 6, 7]), array([56632, 75278,  9675,   697,  2499,  4692,  5464]))\n"
     ]
    }
   ],
   "source": [
    "print(np.unique(y_train, return_counts=True))\n",
    "print(np.unique(y_valid, return_counts=True))"
   ],
   "metadata": {
    "collapsed": false,
    "ExecuteTime": {
     "end_time": "2023-08-29T12:52:23.284620740Z",
     "start_time": "2023-08-29T12:52:23.254401543Z"
    }
   }
  },
  {
   "cell_type": "code",
   "execution_count": 47,
   "outputs": [
    {
     "name": "stderr",
     "output_type": "stream",
     "text": [
      "/opt/anaconda/envs/juplab_hk_torch/lib/python3.9/site-packages/xgboost/sklearn.py:835: UserWarning: `early_stopping_rounds` in `fit` method is deprecated for better compatibility with scikit-learn, use `early_stopping_rounds` in constructor or`set_params` instead.\n",
      "  warnings.warn(\n"
     ]
    },
    {
     "name": "stdout",
     "output_type": "stream",
     "text": [
      "[0]\tvalidation_0-mlogloss:1.74261\n",
      "[10]\tvalidation_0-mlogloss:0.90293\n",
      "[20]\tvalidation_0-mlogloss:0.63492\n",
      "[30]\tvalidation_0-mlogloss:0.52119\n",
      "[40]\tvalidation_0-mlogloss:0.46309\n",
      "[50]\tvalidation_0-mlogloss:0.42350\n",
      "[60]\tvalidation_0-mlogloss:0.39951\n",
      "[70]\tvalidation_0-mlogloss:0.38313\n",
      "[80]\tvalidation_0-mlogloss:0.37007\n",
      "[90]\tvalidation_0-mlogloss:0.35967\n",
      "[99]\tvalidation_0-mlogloss:0.34997\n"
     ]
    },
    {
     "data": {
      "text/plain": "XGBClassifier(base_score=0.5, booster='gbtree', callbacks=None,\n              colsample_bylevel=1, colsample_bynode=1, colsample_bytree=1,\n              early_stopping_rounds=None, enable_categorical=False,\n              eval_metric=None, feature_types=None, gamma=0, gpu_id=None,\n              grow_policy=None, importance_type=None,\n              interaction_constraints=None, learning_rate=0.1, max_bin=None,\n              max_cat_threshold=None, max_cat_to_onehot=None, max_delta_step=0,\n              max_depth=8, max_leaves=None, min_child_weight=1, missing=nan,\n              monotone_constraints=None, n_estimators=100, n_jobs=-1,\n              nthread=None, num_parallel_tree=None, objective='multi:softmax', ...)",
      "text/html": "<style>#sk-container-id-2 {color: black;background-color: white;}#sk-container-id-2 pre{padding: 0;}#sk-container-id-2 div.sk-toggleable {background-color: white;}#sk-container-id-2 label.sk-toggleable__label {cursor: pointer;display: block;width: 100%;margin-bottom: 0;padding: 0.3em;box-sizing: border-box;text-align: center;}#sk-container-id-2 label.sk-toggleable__label-arrow:before {content: \"▸\";float: left;margin-right: 0.25em;color: #696969;}#sk-container-id-2 label.sk-toggleable__label-arrow:hover:before {color: black;}#sk-container-id-2 div.sk-estimator:hover label.sk-toggleable__label-arrow:before {color: black;}#sk-container-id-2 div.sk-toggleable__content {max-height: 0;max-width: 0;overflow: hidden;text-align: left;background-color: #f0f8ff;}#sk-container-id-2 div.sk-toggleable__content pre {margin: 0.2em;color: black;border-radius: 0.25em;background-color: #f0f8ff;}#sk-container-id-2 input.sk-toggleable__control:checked~div.sk-toggleable__content {max-height: 200px;max-width: 100%;overflow: auto;}#sk-container-id-2 input.sk-toggleable__control:checked~label.sk-toggleable__label-arrow:before {content: \"▾\";}#sk-container-id-2 div.sk-estimator input.sk-toggleable__control:checked~label.sk-toggleable__label {background-color: #d4ebff;}#sk-container-id-2 div.sk-label input.sk-toggleable__control:checked~label.sk-toggleable__label {background-color: #d4ebff;}#sk-container-id-2 input.sk-hidden--visually {border: 0;clip: rect(1px 1px 1px 1px);clip: rect(1px, 1px, 1px, 1px);height: 1px;margin: -1px;overflow: hidden;padding: 0;position: absolute;width: 1px;}#sk-container-id-2 div.sk-estimator {font-family: monospace;background-color: #f0f8ff;border: 1px dotted black;border-radius: 0.25em;box-sizing: border-box;margin-bottom: 0.5em;}#sk-container-id-2 div.sk-estimator:hover {background-color: #d4ebff;}#sk-container-id-2 div.sk-parallel-item::after {content: \"\";width: 100%;border-bottom: 1px solid gray;flex-grow: 1;}#sk-container-id-2 div.sk-label:hover label.sk-toggleable__label {background-color: #d4ebff;}#sk-container-id-2 div.sk-serial::before {content: \"\";position: absolute;border-left: 1px solid gray;box-sizing: border-box;top: 0;bottom: 0;left: 50%;z-index: 0;}#sk-container-id-2 div.sk-serial {display: flex;flex-direction: column;align-items: center;background-color: white;padding-right: 0.2em;padding-left: 0.2em;position: relative;}#sk-container-id-2 div.sk-item {position: relative;z-index: 1;}#sk-container-id-2 div.sk-parallel {display: flex;align-items: stretch;justify-content: center;background-color: white;position: relative;}#sk-container-id-2 div.sk-item::before, #sk-container-id-2 div.sk-parallel-item::before {content: \"\";position: absolute;border-left: 1px solid gray;box-sizing: border-box;top: 0;bottom: 0;left: 50%;z-index: -1;}#sk-container-id-2 div.sk-parallel-item {display: flex;flex-direction: column;z-index: 1;position: relative;background-color: white;}#sk-container-id-2 div.sk-parallel-item:first-child::after {align-self: flex-end;width: 50%;}#sk-container-id-2 div.sk-parallel-item:last-child::after {align-self: flex-start;width: 50%;}#sk-container-id-2 div.sk-parallel-item:only-child::after {width: 0;}#sk-container-id-2 div.sk-dashed-wrapped {border: 1px dashed gray;margin: 0 0.4em 0.5em 0.4em;box-sizing: border-box;padding-bottom: 0.4em;background-color: white;}#sk-container-id-2 div.sk-label label {font-family: monospace;font-weight: bold;display: inline-block;line-height: 1.2em;}#sk-container-id-2 div.sk-label-container {text-align: center;}#sk-container-id-2 div.sk-container {/* jupyter's `normalize.less` sets `[hidden] { display: none; }` but bootstrap.min.css set `[hidden] { display: none !important; }` so we also need the `!important` here to be able to override the default hidden behavior on the sphinx rendered scikit-learn.org. See: https://github.com/scikit-learn/scikit-learn/issues/21755 */display: inline-block !important;position: relative;}#sk-container-id-2 div.sk-text-repr-fallback {display: none;}</style><div id=\"sk-container-id-2\" class=\"sk-top-container\"><div class=\"sk-text-repr-fallback\"><pre>XGBClassifier(base_score=0.5, booster=&#x27;gbtree&#x27;, callbacks=None,\n              colsample_bylevel=1, colsample_bynode=1, colsample_bytree=1,\n              early_stopping_rounds=None, enable_categorical=False,\n              eval_metric=None, feature_types=None, gamma=0, gpu_id=None,\n              grow_policy=None, importance_type=None,\n              interaction_constraints=None, learning_rate=0.1, max_bin=None,\n              max_cat_threshold=None, max_cat_to_onehot=None, max_delta_step=0,\n              max_depth=8, max_leaves=None, min_child_weight=1, missing=nan,\n              monotone_constraints=None, n_estimators=100, n_jobs=-1,\n              nthread=None, num_parallel_tree=None, objective=&#x27;multi:softmax&#x27;, ...)</pre><b>In a Jupyter environment, please rerun this cell to show the HTML representation or trust the notebook. <br />On GitHub, the HTML representation is unable to render, please try loading this page with nbviewer.org.</b></div><div class=\"sk-container\" hidden><div class=\"sk-item\"><div class=\"sk-estimator sk-toggleable\"><input class=\"sk-toggleable__control sk-hidden--visually\" id=\"sk-estimator-id-2\" type=\"checkbox\" checked><label for=\"sk-estimator-id-2\" class=\"sk-toggleable__label sk-toggleable__label-arrow\">XGBClassifier</label><div class=\"sk-toggleable__content\"><pre>XGBClassifier(base_score=0.5, booster=&#x27;gbtree&#x27;, callbacks=None,\n              colsample_bylevel=1, colsample_bynode=1, colsample_bytree=1,\n              early_stopping_rounds=None, enable_categorical=False,\n              eval_metric=None, feature_types=None, gamma=0, gpu_id=None,\n              grow_policy=None, importance_type=None,\n              interaction_constraints=None, learning_rate=0.1, max_bin=None,\n              max_cat_threshold=None, max_cat_to_onehot=None, max_delta_step=0,\n              max_depth=8, max_leaves=None, min_child_weight=1, missing=nan,\n              monotone_constraints=None, n_estimators=100, n_jobs=-1,\n              nthread=None, num_parallel_tree=None, objective=&#x27;multi:softmax&#x27;, ...)</pre></div></div></div></div></div>"
     },
     "execution_count": 47,
     "metadata": {},
     "output_type": "execute_result"
    }
   ],
   "source": [
    "clf_xgb.fit(X_train, y_train - 1,\n",
    "            eval_set=[(X_valid, y_valid - 1)],\n",
    "            early_stopping_rounds=40,\n",
    "            verbose=10)"
   ],
   "metadata": {
    "collapsed": false,
    "ExecuteTime": {
     "end_time": "2023-08-29T12:53:13.595802554Z",
     "start_time": "2023-08-29T12:52:23.985106418Z"
    }
   }
  },
  {
   "cell_type": "code",
   "execution_count": 48,
   "metadata": {
    "ExecuteTime": {
     "end_time": "2023-08-29T12:53:16.735061453Z",
     "start_time": "2023-08-29T12:53:16.544527808Z"
    }
   },
   "outputs": [
    {
     "name": "stdout",
     "output_type": "stream",
     "text": [
      "0.8634799950947805\n"
     ]
    }
   ],
   "source": [
    "preds_valid = np.array(clf_xgb.predict_proba(X_valid, ))\n",
    "valid_acc = accuracy_score(y_pred=np.argmax(preds_valid, axis=1) + 1, y_true=y_valid)\n",
    "print(valid_acc)"
   ]
  },
  {
   "cell_type": "code",
   "execution_count": 49,
   "outputs": [
    {
     "name": "stdout",
     "output_type": "stream",
     "text": [
      "0.8632049086512397\n"
     ]
    }
   ],
   "source": [
    "preds_test = np.array(clf_xgb.predict_proba(X_test))\n",
    "test_acc = accuracy_score(y_pred=np.argmax(preds_test, axis=1) + 1, y_true=y_test)\n",
    "print(test_acc)"
   ],
   "metadata": {
    "collapsed": false,
    "ExecuteTime": {
     "end_time": "2023-08-29T12:53:20.817615559Z",
     "start_time": "2023-08-29T12:53:20.694697917Z"
    }
   }
  },
  {
   "cell_type": "code",
   "execution_count": 51,
   "metadata": {
    "ExecuteTime": {
     "end_time": "2023-08-29T12:53:46.184322208Z",
     "start_time": "2023-08-29T12:53:46.141236755Z"
    }
   },
   "outputs": [
    {
     "name": "stdout",
     "output_type": "stream",
     "text": [
      "FINAL TEST SCORE FOR Tabnet on forest-cover-type : 0.8770255501148851\n"
     ]
    }
   ],
   "source": [
    "print(f\"FINAL TEST SCORE FOR Tabnet on {dataset_name} : {loaded_test_acc}\")\n"
   ]
  },
  {
   "cell_type": "code",
   "execution_count": null,
   "outputs": [],
   "source": [],
   "metadata": {
    "collapsed": false
   }
  }
 ],
 "metadata": {
  "kernelspec": {
   "display_name": "Python 3",
   "language": "python",
   "name": "python3"
  },
  "language_info": {
   "codemirror_mode": {
    "name": "ipython",
    "version": 3
   },
   "file_extension": ".py",
   "mimetype": "text/x-python",
   "name": "python",
   "nbconvert_exporter": "python",
   "pygments_lexer": "ipython3",
   "version": "3.7.13"
  },
  "toc": {
   "base_numbering": 1,
   "nav_menu": {},
   "number_sections": true,
   "sideBar": true,
   "skip_h1_title": false,
   "title_cell": "Table of Contents",
   "title_sidebar": "Contents",
   "toc_cell": false,
   "toc_position": {},
   "toc_section_display": true,
   "toc_window_display": false
  }
 },
 "nbformat": 4,
 "nbformat_minor": 2
}
