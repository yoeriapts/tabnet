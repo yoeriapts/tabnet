{
 "cells": [
  {
   "cell_type": "code",
   "execution_count": 1,
   "metadata": {
    "ExecuteTime": {
     "end_time": "2023-08-29T13:33:25.958284391Z",
     "start_time": "2023-08-29T13:33:25.295778492Z"
    }
   },
   "outputs": [
    {
     "name": "stderr",
     "output_type": "stream",
     "text": [
      "/opt/anaconda/envs/juplab_hk_torch/lib/python3.9/site-packages/tqdm/auto.py:22: TqdmWarning: IProgress not found. Please update jupyter and ipywidgets. See https://ipywidgets.readthedocs.io/en/stable/user_install.html\n",
      "  from .autonotebook import tqdm as notebook_tqdm\n"
     ]
    }
   ],
   "source": [
    "from pytorch_tabnet.tab_model import TabNetRegressor\n",
    "\n",
    "import torch\n",
    "from sklearn.preprocessing import LabelEncoder\n",
    "from sklearn.metrics import mean_squared_error\n",
    "\n",
    "import pandas as pd\n",
    "import numpy as np\n",
    "np.random.seed(0)\n",
    "\n",
    "\n",
    "import os\n",
    "import wget\n",
    "from pathlib import Path"
   ]
  },
  {
   "cell_type": "markdown",
   "metadata": {},
   "source": [
    "# Download census-income dataset"
   ]
  },
  {
   "cell_type": "code",
   "execution_count": 2,
   "metadata": {
    "ExecuteTime": {
     "end_time": "2023-08-29T13:33:25.970398256Z",
     "start_time": "2023-08-29T13:33:25.959062968Z"
    }
   },
   "outputs": [],
   "source": [
    "url = \"https://archive.ics.uci.edu/ml/machine-learning-databases/adult/adult.data\"\n",
    "dataset_name = 'census-income'\n",
    "out = Path(os.getcwd()+'/data/'+dataset_name+'.csv')"
   ]
  },
  {
   "cell_type": "code",
   "execution_count": 3,
   "metadata": {
    "ExecuteTime": {
     "end_time": "2023-08-29T13:33:25.985531644Z",
     "start_time": "2023-08-29T13:33:25.961561202Z"
    }
   },
   "outputs": [
    {
     "name": "stdout",
     "output_type": "stream",
     "text": [
      "File already exists.\n"
     ]
    }
   ],
   "source": [
    "out.parent.mkdir(parents=True, exist_ok=True)\n",
    "if out.exists():\n",
    "    print(\"File already exists.\")\n",
    "else:\n",
    "    print(\"Downloading file...\")\n",
    "    wget.download(url, out.as_posix())"
   ]
  },
  {
   "cell_type": "markdown",
   "metadata": {},
   "source": [
    "# Load data and split"
   ]
  },
  {
   "cell_type": "code",
   "execution_count": 4,
   "metadata": {
    "ExecuteTime": {
     "end_time": "2023-08-29T13:33:26.032274758Z",
     "start_time": "2023-08-29T13:33:25.980372692Z"
    }
   },
   "outputs": [],
   "source": [
    "train = pd.read_csv(out)\n",
    "target = ' <=50K'\n",
    "if \"Set\" not in train.columns:\n",
    "    train[\"Set\"] = np.random.choice([\"train\", \"valid\", \"test\"], p =[.8, .1, .1], size=(train.shape[0],))\n",
    "\n",
    "train_indices = train[train.Set==\"train\"].index\n",
    "valid_indices = train[train.Set==\"valid\"].index\n",
    "test_indices = train[train.Set==\"test\"].index"
   ]
  },
  {
   "cell_type": "markdown",
   "metadata": {},
   "source": [
    "# Simple preprocessing\n",
    "\n",
    "Label encode categorical features and fill empty cells."
   ]
  },
  {
   "cell_type": "code",
   "execution_count": 5,
   "metadata": {
    "ExecuteTime": {
     "end_time": "2023-08-29T13:33:26.120984534Z",
     "start_time": "2023-08-29T13:33:26.032019493Z"
    }
   },
   "outputs": [
    {
     "name": "stdout",
     "output_type": "stream",
     "text": [
      " State-gov 9\n",
      " Bachelors 16\n",
      " Never-married 7\n",
      " Adm-clerical 15\n",
      " Not-in-family 6\n",
      " White 5\n",
      " Male 2\n",
      " United-States 42\n",
      " <=50K 2\n",
      "Set 3\n"
     ]
    }
   ],
   "source": [
    "categorical_columns = []\n",
    "categorical_dims =  {}\n",
    "for col in train.columns[train.dtypes == object]:\n",
    "    print(col, train[col].nunique())\n",
    "    l_enc = LabelEncoder()\n",
    "    train[col] = train[col].fillna(\"VV_likely\")\n",
    "    train[col] = l_enc.fit_transform(train[col].values)\n",
    "    categorical_columns.append(col)\n",
    "    categorical_dims[col] = len(l_enc.classes_)\n",
    "\n",
    "for col in train.columns[train.dtypes == 'float64']:\n",
    "    train.fillna(train.loc[train_indices, col].mean(), inplace=True)"
   ]
  },
  {
   "cell_type": "markdown",
   "metadata": {},
   "source": [
    "# Define categorical features for categorical embeddings"
   ]
  },
  {
   "cell_type": "code",
   "execution_count": 6,
   "metadata": {
    "ExecuteTime": {
     "end_time": "2023-08-29T13:33:26.121995392Z",
     "start_time": "2023-08-29T13:33:26.120418008Z"
    }
   },
   "outputs": [],
   "source": [
    "unused_feat = ['Set']\n",
    "\n",
    "features = [ col for col in train.columns if col not in unused_feat+[target]] \n",
    "\n",
    "cat_idxs = [ i for i, f in enumerate(features) if f in categorical_columns]\n",
    "\n",
    "cat_dims = [ categorical_dims[f] for i, f in enumerate(features) if f in categorical_columns]\n",
    "\n",
    "# define your embedding sizes : here just a random choice\n",
    "cat_emb_dim = [5, 4, 3, 6, 2, 2, 1, 10]"
   ]
  },
  {
   "cell_type": "markdown",
   "metadata": {},
   "source": [
    "# Network parameters"
   ]
  },
  {
   "cell_type": "code",
   "execution_count": 7,
   "metadata": {
    "ExecuteTime": {
     "end_time": "2023-08-29T13:33:26.164426043Z",
     "start_time": "2023-08-29T13:33:26.120777395Z"
    }
   },
   "outputs": [
    {
     "name": "stderr",
     "output_type": "stream",
     "text": [
      "/home/yoeriapts/workspace/tabnet/pytorch_tabnet/abstract_model.py:82: UserWarning: Device used : cuda\n",
      "  warnings.warn(f\"Device used : {self.device}\")\n"
     ]
    }
   ],
   "source": [
    "clf = TabNetRegressor(cat_dims=cat_dims, cat_emb_dim=cat_emb_dim, cat_idxs=cat_idxs)"
   ]
  },
  {
   "cell_type": "markdown",
   "metadata": {},
   "source": [
    "# Training"
   ]
  },
  {
   "cell_type": "code",
   "execution_count": 8,
   "metadata": {
    "ExecuteTime": {
     "end_time": "2023-08-29T13:33:26.165079604Z",
     "start_time": "2023-08-29T13:33:26.164195575Z"
    }
   },
   "outputs": [],
   "source": [
    "X_train = train[features].values[train_indices]\n",
    "y_train = train[target].values[train_indices].reshape(-1, 1)\n",
    "\n",
    "X_valid = train[features].values[valid_indices]\n",
    "y_valid = train[target].values[valid_indices].reshape(-1, 1)\n",
    "\n",
    "X_test = train[features].values[test_indices]\n",
    "y_test = train[target].values[test_indices].reshape(-1, 1)"
   ]
  },
  {
   "cell_type": "code",
   "execution_count": 9,
   "metadata": {
    "ExecuteTime": {
     "end_time": "2023-08-29T13:33:26.165724201Z",
     "start_time": "2023-08-29T13:33:26.164498423Z"
    }
   },
   "outputs": [],
   "source": [
    "max_epochs = 100 if not os.getenv(\"CI\", False) else 2"
   ]
  },
  {
   "cell_type": "code",
   "execution_count": 10,
   "metadata": {
    "ExecuteTime": {
     "end_time": "2023-08-29T13:33:26.218748402Z",
     "start_time": "2023-08-29T13:33:26.164684929Z"
    }
   },
   "outputs": [],
   "source": [
    "from pytorch_tabnet.augmentations import RegressionSMOTE\n",
    "aug = RegressionSMOTE(p=0.2)"
   ]
  },
  {
   "cell_type": "code",
   "execution_count": 11,
   "metadata": {
    "scrolled": true,
    "ExecuteTime": {
     "end_time": "2023-08-29T13:34:21.544292977Z",
     "start_time": "2023-08-29T13:33:26.207942321Z"
    }
   },
   "outputs": [
    {
     "name": "stdout",
     "output_type": "stream",
     "text": [
      "epoch 0  | loss: 0.36468 | train_rmsle: 0.62777 | train_mae: 0.88251 | train_rmse: 1.17333 | train_mse: 1.37671 | valid_rmsle: 0.63301 | valid_mae: 0.89826 | valid_rmse: 1.21957 | valid_mse: 1.48736 |  0:00:00s\n",
      "epoch 1  | loss: 0.13472 | train_rmsle: 0.54206 | train_mae: 0.70511 | train_rmse: 0.8231  | train_mse: 0.6775  | valid_rmsle: 0.53616 | valid_mae: 0.69109 | valid_rmse: 0.80668 | valid_mse: 0.65073 |  0:00:01s\n",
      "epoch 2  | loss: 0.1233  | train_rmsle: 0.37803 | train_mae: 0.43987 | train_rmse: 0.51465 | train_mse: 0.26486 | valid_rmsle: 0.37507 | valid_mae: 0.43335 | valid_rmse: 0.5084  | valid_mse: 0.25847 |  0:00:02s\n",
      "epoch 3  | loss: 0.11637 | train_rmsle: 0.31145 | train_mae: 0.33779 | train_rmse: 0.42857 | train_mse: 0.18367 | valid_rmsle: 0.30771 | valid_mae: 0.33166 | valid_rmse: 0.41226 | valid_mse: 0.16996 |  0:00:02s\n",
      "epoch 4  | loss: 0.11149 | train_rmsle: 0.33816 | train_mae: 0.35563 | train_rmse: 0.48601 | train_mse: 0.23621 | valid_rmsle: 0.33377 | valid_mae: 0.34895 | valid_rmse: 0.48551 | valid_mse: 0.23572 |  0:00:03s\n",
      "epoch 5  | loss: 0.11117 | train_rmsle: 0.27647 | train_mae: 0.2898  | train_rmse: 0.37247 | train_mse: 0.13873 | valid_rmsle: 0.27242 | valid_mae: 0.28493 | valid_rmse: 0.36876 | valid_mse: 0.13599 |  0:00:03s\n",
      "epoch 6  | loss: 0.10805 | train_rmsle: 0.25647 | train_mae: 0.26596 | train_rmse: 0.34941 | train_mse: 0.12209 | valid_rmsle: 0.25242 | valid_mae: 0.26215 | valid_rmse: 0.3454  | valid_mse: 0.1193  |  0:00:04s\n",
      "epoch 7  | loss: 0.10655 | train_rmsle: 0.24704 | train_mae: 0.25421 | train_rmse: 0.34114 | train_mse: 0.11638 | valid_rmsle: 0.24322 | valid_mae: 0.25028 | valid_rmse: 0.33591 | valid_mse: 0.11284 |  0:00:04s\n",
      "epoch 8  | loss: 0.10595 | train_rmsle: 0.24475 | train_mae: 0.25275 | train_rmse: 0.33833 | train_mse: 0.11447 | valid_rmsle: 0.24056 | valid_mae: 0.24884 | valid_rmse: 0.33098 | valid_mse: 0.10955 |  0:00:05s\n",
      "epoch 9  | loss: 0.10485 | train_rmsle: 0.24304 | train_mae: 0.2466  | train_rmse: 0.33795 | train_mse: 0.11421 | valid_rmsle: 0.23806 | valid_mae: 0.24128 | valid_rmse: 0.32818 | valid_mse: 0.1077  |  0:00:05s\n",
      "epoch 10 | loss: 0.10356 | train_rmsle: 0.2389  | train_mae: 0.23477 | train_rmse: 0.33491 | train_mse: 0.11216 | valid_rmsle: 0.23504 | valid_mae: 0.23245 | valid_rmse: 0.32782 | valid_mse: 0.10746 |  0:00:06s\n",
      "epoch 11 | loss: 0.10384 | train_rmsle: 0.2305  | train_mae: 0.22896 | train_rmse: 0.32881 | train_mse: 0.10812 | valid_rmsle: 0.22712 | valid_mae: 0.22682 | valid_rmse: 0.3208  | valid_mse: 0.10291 |  0:00:07s\n",
      "epoch 12 | loss: 0.10242 | train_rmsle: 0.2282  | train_mae: 0.22014 | train_rmse: 0.3301  | train_mse: 0.10897 | valid_rmsle: 0.22518 | valid_mae: 0.21835 | valid_rmse: 0.32139 | valid_mse: 0.10329 |  0:00:07s\n",
      "epoch 13 | loss: 0.10285 | train_rmsle: 0.22626 | train_mae: 0.22432 | train_rmse: 0.33065 | train_mse: 0.10933 | valid_rmsle: 0.22291 | valid_mae: 0.22149 | valid_rmse: 0.32803 | valid_mse: 0.10761 |  0:00:08s\n",
      "epoch 14 | loss: 0.10275 | train_rmsle: 0.22797 | train_mae: 0.2265  | train_rmse: 0.33028 | train_mse: 0.10909 | valid_rmsle: 0.22572 | valid_mae: 0.2251  | valid_rmse: 0.33966 | valid_mse: 0.11537 |  0:00:08s\n",
      "epoch 15 | loss: 0.10174 | train_rmsle: 0.22339 | train_mae: 0.21706 | train_rmse: 0.32465 | train_mse: 0.1054  | valid_rmsle: 0.22231 | valid_mae: 0.21647 | valid_rmse: 0.32946 | valid_mse: 0.10855 |  0:00:09s\n",
      "epoch 16 | loss: 0.10123 | train_rmsle: 0.22554 | train_mae: 0.2206  | train_rmse: 0.32802 | train_mse: 0.1076  | valid_rmsle: 0.22416 | valid_mae: 0.21983 | valid_rmse: 0.32644 | valid_mse: 0.10657 |  0:00:09s\n",
      "epoch 17 | loss: 0.10058 | train_rmsle: 0.22239 | train_mae: 0.21535 | train_rmse: 0.32187 | train_mse: 0.1036  | valid_rmsle: 0.22064 | valid_mae: 0.21326 | valid_rmse: 0.31862 | valid_mse: 0.10152 |  0:00:10s\n",
      "epoch 18 | loss: 0.10138 | train_rmsle: 0.22423 | train_mae: 0.22229 | train_rmse: 0.33    | train_mse: 0.1089  | valid_rmsle: 0.22156 | valid_mae: 0.21957 | valid_rmse: 0.32196 | valid_mse: 0.10366 |  0:00:10s\n",
      "epoch 19 | loss: 0.10164 | train_rmsle: 0.2232  | train_mae: 0.22077 | train_rmse: 0.32322 | train_mse: 0.10447 | valid_rmsle: 0.21977 | valid_mae: 0.21716 | valid_rmse: 0.3176  | valid_mse: 0.10087 |  0:00:11s\n",
      "epoch 20 | loss: 0.10072 | train_rmsle: 0.22279 | train_mae: 0.21797 | train_rmse: 0.32104 | train_mse: 0.10307 | valid_rmsle: 0.22064 | valid_mae: 0.21636 | valid_rmse: 0.31749 | valid_mse: 0.1008  |  0:00:11s\n",
      "epoch 21 | loss: 0.10089 | train_rmsle: 0.22298 | train_mae: 0.21703 | train_rmse: 0.32547 | train_mse: 0.10593 | valid_rmsle: 0.22253 | valid_mae: 0.21632 | valid_rmse: 0.3247  | valid_mse: 0.10543 |  0:00:12s\n",
      "epoch 22 | loss: 0.10131 | train_rmsle: 0.2245  | train_mae: 0.22042 | train_rmse: 0.32031 | train_mse: 0.1026  | valid_rmsle: 0.22315 | valid_mae: 0.21936 | valid_rmse: 0.31829 | valid_mse: 0.10131 |  0:00:12s\n",
      "epoch 23 | loss: 0.09946 | train_rmsle: 0.2209  | train_mae: 0.21097 | train_rmse: 0.31951 | train_mse: 0.10209 | valid_rmsle: 0.21893 | valid_mae: 0.20901 | valid_rmse: 0.31578 | valid_mse: 0.09972 |  0:00:13s\n",
      "epoch 24 | loss: 0.09977 | train_rmsle: 0.22314 | train_mae: 0.21548 | train_rmse: 0.31796 | train_mse: 0.1011  | valid_rmsle: 0.22141 | valid_mae: 0.21287 | valid_rmse: 0.31487 | valid_mse: 0.09914 |  0:00:14s\n",
      "epoch 25 | loss: 0.09973 | train_rmsle: 0.22192 | train_mae: 0.21403 | train_rmse: 0.3257  | train_mse: 0.10608 | valid_rmsle: 0.22179 | valid_mae: 0.21329 | valid_rmse: 0.3251  | valid_mse: 0.10569 |  0:00:14s\n",
      "epoch 26 | loss: 0.10056 | train_rmsle: 0.22431 | train_mae: 0.21729 | train_rmse: 0.31964 | train_mse: 0.10217 | valid_rmsle: 0.22398 | valid_mae: 0.21663 | valid_rmse: 0.31738 | valid_mse: 0.10073 |  0:00:15s\n",
      "epoch 27 | loss: 0.09838 | train_rmsle: 0.22389 | train_mae: 0.2163  | train_rmse: 0.32072 | train_mse: 0.10286 | valid_rmsle: 0.22339 | valid_mae: 0.21547 | valid_rmse: 0.31652 | valid_mse: 0.10018 |  0:00:15s\n",
      "epoch 28 | loss: 0.09887 | train_rmsle: 0.22071 | train_mae: 0.2131  | train_rmse: 0.31992 | train_mse: 0.10235 | valid_rmsle: 0.22004 | valid_mae: 0.21203 | valid_rmse: 0.31641 | valid_mse: 0.10011 |  0:00:16s\n",
      "epoch 29 | loss: 0.09756 | train_rmsle: 0.22154 | train_mae: 0.2065  | train_rmse: 0.31817 | train_mse: 0.10123 | valid_rmsle: 0.21975 | valid_mae: 0.20409 | valid_rmse: 0.31201 | valid_mse: 0.09735 |  0:00:16s\n",
      "epoch 30 | loss: 0.09856 | train_rmsle: 0.22118 | train_mae: 0.21314 | train_rmse: 0.31595 | train_mse: 0.09982 | valid_rmsle: 0.22028 | valid_mae: 0.2116  | valid_rmse: 0.31309 | valid_mse: 0.09802 |  0:00:17s\n",
      "epoch 31 | loss: 0.09784 | train_rmsle: 0.22149 | train_mae: 0.21066 | train_rmse: 0.31496 | train_mse: 0.0992  | valid_rmsle: 0.22063 | valid_mae: 0.20926 | valid_rmse: 0.31312 | valid_mse: 0.09804 |  0:00:17s\n",
      "epoch 32 | loss: 0.09768 | train_rmsle: 0.21952 | train_mae: 0.20538 | train_rmse: 0.3162  | train_mse: 0.09998 | valid_rmsle: 0.21993 | valid_mae: 0.20564 | valid_rmse: 0.3141  | valid_mse: 0.09866 |  0:00:18s\n",
      "epoch 33 | loss: 0.09727 | train_rmsle: 0.22379 | train_mae: 0.20776 | train_rmse: 0.3166  | train_mse: 0.10023 | valid_rmsle: 0.22352 | valid_mae: 0.20675 | valid_rmse: 0.31451 | valid_mse: 0.09891 |  0:00:18s\n",
      "epoch 34 | loss: 0.09847 | train_rmsle: 0.2286  | train_mae: 0.21833 | train_rmse: 0.32217 | train_mse: 0.10379 | valid_rmsle: 0.22596 | valid_mae: 0.21513 | valid_rmse: 0.31834 | valid_mse: 0.10134 |  0:00:19s\n",
      "epoch 35 | loss: 0.0994  | train_rmsle: 0.22151 | train_mae: 0.21313 | train_rmse: 0.32235 | train_mse: 0.10391 | valid_rmsle: 0.21794 | valid_mae: 0.20845 | valid_rmse: 0.31708 | valid_mse: 0.10054 |  0:00:19s\n",
      "epoch 36 | loss: 0.09907 | train_rmsle: 0.2218  | train_mae: 0.21661 | train_rmse: 0.31775 | train_mse: 0.10097 | valid_rmsle: 0.21929 | valid_mae: 0.21329 | valid_rmse: 0.31395 | valid_mse: 0.09856 |  0:00:20s\n",
      "epoch 37 | loss: 0.09821 | train_rmsle: 0.22146 | train_mae: 0.20993 | train_rmse: 0.32051 | train_mse: 0.10273 | valid_rmsle: 0.2177  | valid_mae: 0.20555 | valid_rmse: 0.31475 | valid_mse: 0.09907 |  0:00:21s\n",
      "epoch 38 | loss: 0.09825 | train_rmsle: 0.22018 | train_mae: 0.20641 | train_rmse: 0.32278 | train_mse: 0.10419 | valid_rmsle: 0.21711 | valid_mae: 0.20324 | valid_rmse: 0.31832 | valid_mse: 0.10133 |  0:00:21s\n",
      "epoch 39 | loss: 0.09865 | train_rmsle: 0.22046 | train_mae: 0.2075  | train_rmse: 0.31882 | train_mse: 0.10165 | valid_rmsle: 0.2176  | valid_mae: 0.20396 | valid_rmse: 0.31335 | valid_mse: 0.09819 |  0:00:22s\n",
      "epoch 40 | loss: 0.0976  | train_rmsle: 0.22045 | train_mae: 0.21109 | train_rmse: 0.31525 | train_mse: 0.09938 | valid_rmsle: 0.21823 | valid_mae: 0.20871 | valid_rmse: 0.31139 | valid_mse: 0.09696 |  0:00:22s\n",
      "epoch 41 | loss: 0.097   | train_rmsle: 0.22202 | train_mae: 0.21724 | train_rmse: 0.32702 | train_mse: 0.10694 | valid_rmsle: 0.22054 | valid_mae: 0.21506 | valid_rmse: 0.32416 | valid_mse: 0.10508 |  0:00:23s\n",
      "epoch 42 | loss: 0.09835 | train_rmsle: 0.21988 | train_mae: 0.2142  | train_rmse: 0.31967 | train_mse: 0.10219 | valid_rmsle: 0.21691 | valid_mae: 0.2111  | valid_rmse: 0.3149  | valid_mse: 0.09916 |  0:00:23s\n",
      "epoch 43 | loss: 0.09784 | train_rmsle: 0.21907 | train_mae: 0.20964 | train_rmse: 0.319   | train_mse: 0.10176 | valid_rmsle: 0.21695 | valid_mae: 0.20756 | valid_rmse: 0.31564 | valid_mse: 0.09963 |  0:00:24s\n",
      "epoch 44 | loss: 0.09715 | train_rmsle: 0.22262 | train_mae: 0.20965 | train_rmse: 0.31486 | train_mse: 0.09913 | valid_rmsle: 0.2197  | valid_mae: 0.20622 | valid_rmse: 0.31001 | valid_mse: 0.09611 |  0:00:24s\n",
      "epoch 45 | loss: 0.09613 | train_rmsle: 0.21904 | train_mae: 0.20756 | train_rmse: 0.31409 | train_mse: 0.09865 | valid_rmsle: 0.21651 | valid_mae: 0.20504 | valid_rmse: 0.30998 | valid_mse: 0.09609 |  0:00:25s\n",
      "epoch 46 | loss: 0.09685 | train_rmsle: 0.22145 | train_mae: 0.20505 | train_rmse: 0.31428 | train_mse: 0.09877 | valid_rmsle: 0.21864 | valid_mae: 0.20168 | valid_rmse: 0.30972 | valid_mse: 0.09592 |  0:00:25s\n",
      "epoch 47 | loss: 0.09635 | train_rmsle: 0.21796 | train_mae: 0.20299 | train_rmse: 0.31474 | train_mse: 0.09906 | valid_rmsle: 0.21622 | valid_mae: 0.20057 | valid_rmse: 0.31172 | valid_mse: 0.09717 |  0:00:26s\n",
      "epoch 48 | loss: 0.0967  | train_rmsle: 0.21875 | train_mae: 0.20588 | train_rmse: 0.31394 | train_mse: 0.09856 | valid_rmsle: 0.21577 | valid_mae: 0.20212 | valid_rmse: 0.30932 | valid_mse: 0.09568 |  0:00:27s\n",
      "epoch 49 | loss: 0.0967  | train_rmsle: 0.21817 | train_mae: 0.20404 | train_rmse: 0.31266 | train_mse: 0.09775 | valid_rmsle: 0.2163  | valid_mae: 0.2023  | valid_rmse: 0.30952 | valid_mse: 0.0958  |  0:00:27s\n",
      "epoch 50 | loss: 0.09646 | train_rmsle: 0.22357 | train_mae: 0.21226 | train_rmse: 0.31416 | train_mse: 0.0987  | valid_rmsle: 0.22283 | valid_mae: 0.21106 | valid_rmse: 0.31273 | valid_mse: 0.0978  |  0:00:28s\n",
      "epoch 51 | loss: 0.09622 | train_rmsle: 0.22078 | train_mae: 0.20399 | train_rmse: 0.31316 | train_mse: 0.09807 | valid_rmsle: 0.21865 | valid_mae: 0.2014  | valid_rmse: 0.30952 | valid_mse: 0.0958  |  0:00:28s\n",
      "epoch 52 | loss: 0.09589 | train_rmsle: 0.21809 | train_mae: 0.2036  | train_rmse: 0.3167  | train_mse: 0.1003  | valid_rmsle: 0.2176  | valid_mae: 0.20355 | valid_rmse: 0.31677 | valid_mse: 0.10034 |  0:00:29s\n",
      "epoch 53 | loss: 0.09641 | train_rmsle: 0.21658 | train_mae: 0.20165 | train_rmse: 0.31434 | train_mse: 0.09881 | valid_rmsle: 0.21475 | valid_mae: 0.19996 | valid_rmse: 0.31153 | valid_mse: 0.09705 |  0:00:29s\n",
      "epoch 54 | loss: 0.0978  | train_rmsle: 0.21884 | train_mae: 0.21005 | train_rmse: 0.31573 | train_mse: 0.09968 | valid_rmsle: 0.21816 | valid_mae: 0.20867 | valid_rmse: 0.31436 | valid_mse: 0.09882 |  0:00:30s\n",
      "epoch 55 | loss: 0.09685 | train_rmsle: 0.2214  | train_mae: 0.21375 | train_rmse: 0.31454 | train_mse: 0.09894 | valid_rmsle: 0.22034 | valid_mae: 0.21214 | valid_rmse: 0.31277 | valid_mse: 0.09782 |  0:00:30s\n",
      "epoch 56 | loss: 0.09598 | train_rmsle: 0.22198 | train_mae: 0.20221 | train_rmse: 0.3131  | train_mse: 0.09803 | valid_rmsle: 0.22033 | valid_mae: 0.19963 | valid_rmse: 0.31027 | valid_mse: 0.09627 |  0:00:31s\n",
      "epoch 57 | loss: 0.09598 | train_rmsle: 0.22048 | train_mae: 0.20865 | train_rmse: 0.312   | train_mse: 0.09734 | valid_rmsle: 0.21896 | valid_mae: 0.20665 | valid_rmse: 0.30952 | valid_mse: 0.0958  |  0:00:31s\n",
      "epoch 58 | loss: 0.09575 | train_rmsle: 0.21728 | train_mae: 0.20413 | train_rmse: 0.31307 | train_mse: 0.09801 | valid_rmsle: 0.21576 | valid_mae: 0.20249 | valid_rmse: 0.30899 | valid_mse: 0.09548 |  0:00:32s\n",
      "epoch 59 | loss: 0.09669 | train_rmsle: 0.21889 | train_mae: 0.20258 | train_rmse: 0.31296 | train_mse: 0.09794 | valid_rmsle: 0.21789 | valid_mae: 0.20152 | valid_rmse: 0.31113 | valid_mse: 0.0968  |  0:00:32s\n",
      "epoch 60 | loss: 0.09726 | train_rmsle: 0.22533 | train_mae: 0.22626 | train_rmse: 0.33419 | train_mse: 0.11168 | valid_rmsle: 0.22256 | valid_mae: 0.22317 | valid_rmse: 0.32696 | valid_mse: 0.10691 |  0:00:33s\n",
      "epoch 61 | loss: 0.1019  | train_rmsle: 0.22771 | train_mae: 0.22262 | train_rmse: 0.32121 | train_mse: 0.10317 | valid_rmsle: 0.22512 | valid_mae: 0.21987 | valid_rmse: 0.31707 | valid_mse: 0.10053 |  0:00:34s\n",
      "epoch 62 | loss: 0.09755 | train_rmsle: 0.22131 | train_mae: 0.21613 | train_rmse: 0.31723 | train_mse: 0.10063 | valid_rmsle: 0.22016 | valid_mae: 0.21449 | valid_rmse: 0.31491 | valid_mse: 0.09917 |  0:00:34s\n",
      "epoch 63 | loss: 0.09768 | train_rmsle: 0.22283 | train_mae: 0.2162  | train_rmse: 0.31784 | train_mse: 0.10102 | valid_rmsle: 0.22147 | valid_mae: 0.21386 | valid_rmse: 0.3154  | valid_mse: 0.09948 |  0:00:35s\n",
      "epoch 64 | loss: 0.09707 | train_rmsle: 0.21817 | train_mae: 0.20898 | train_rmse: 0.31549 | train_mse: 0.09953 | valid_rmsle: 0.21785 | valid_mae: 0.20833 | valid_rmse: 0.31437 | valid_mse: 0.09883 |  0:00:35s\n",
      "epoch 65 | loss: 0.09606 | train_rmsle: 0.21918 | train_mae: 0.20978 | train_rmse: 0.31229 | train_mse: 0.09752 | valid_rmsle: 0.21787 | valid_mae: 0.20825 | valid_rmse: 0.30973 | valid_mse: 0.09593 |  0:00:36s\n",
      "epoch 66 | loss: 0.09678 | train_rmsle: 0.22124 | train_mae: 0.20825 | train_rmse: 0.31551 | train_mse: 0.09955 | valid_rmsle: 0.22    | valid_mae: 0.20691 | valid_rmse: 0.31264 | valid_mse: 0.09775 |  0:00:36s\n",
      "epoch 67 | loss: 0.09711 | train_rmsle: 0.21702 | train_mae: 0.20877 | train_rmse: 0.31788 | train_mse: 0.10105 | valid_rmsle: 0.21535 | valid_mae: 0.20689 | valid_rmse: 0.31504 | valid_mse: 0.09925 |  0:00:37s\n",
      "epoch 68 | loss: 0.09724 | train_rmsle: 0.2184  | train_mae: 0.2089  | train_rmse: 0.31229 | train_mse: 0.09753 | valid_rmsle: 0.21751 | valid_mae: 0.20751 | valid_rmse: 0.31036 | valid_mse: 0.09632 |  0:00:37s\n",
      "epoch 69 | loss: 0.09573 | train_rmsle: 0.21875 | train_mae: 0.21061 | train_rmse: 0.31532 | train_mse: 0.09942 | valid_rmsle: 0.21738 | valid_mae: 0.20818 | valid_rmse: 0.31226 | valid_mse: 0.09751 |  0:00:38s\n",
      "epoch 70 | loss: 0.09555 | train_rmsle: 0.21748 | train_mae: 0.21004 | train_rmse: 0.3162  | train_mse: 0.09999 | valid_rmsle: 0.2171  | valid_mae: 0.20953 | valid_rmse: 0.3147  | valid_mse: 0.09903 |  0:00:38s\n",
      "epoch 71 | loss: 0.09557 | train_rmsle: 0.21867 | train_mae: 0.21066 | train_rmse: 0.31484 | train_mse: 0.09912 | valid_rmsle: 0.21779 | valid_mae: 0.20925 | valid_rmse: 0.31194 | valid_mse: 0.09731 |  0:00:39s\n",
      "epoch 72 | loss: 0.0946  | train_rmsle: 0.21677 | train_mae: 0.21038 | train_rmse: 0.31798 | train_mse: 0.10111 | valid_rmsle: 0.21571 | valid_mae: 0.20871 | valid_rmse: 0.3159  | valid_mse: 0.09979 |  0:00:40s\n",
      "epoch 73 | loss: 0.09559 | train_rmsle: 0.21655 | train_mae: 0.20688 | train_rmse: 0.31459 | train_mse: 0.09897 | valid_rmsle: 0.21611 | valid_mae: 0.2062  | valid_rmse: 0.31267 | valid_mse: 0.09776 |  0:00:40s\n",
      "epoch 74 | loss: 0.0955  | train_rmsle: 0.21471 | train_mae: 0.20247 | train_rmse: 0.31302 | train_mse: 0.09798 | valid_rmsle: 0.2143  | valid_mae: 0.20147 | valid_rmse: 0.3114  | valid_mse: 0.09697 |  0:00:41s\n",
      "epoch 75 | loss: 0.09451 | train_rmsle: 0.2165  | train_mae: 0.21011 | train_rmse: 0.31301 | train_mse: 0.09798 | valid_rmsle: 0.21572 | valid_mae: 0.20939 | valid_rmse: 0.31109 | valid_mse: 0.09678 |  0:00:41s\n",
      "epoch 76 | loss: 0.09476 | train_rmsle: 0.21684 | train_mae: 0.21097 | train_rmse: 0.31368 | train_mse: 0.09839 | valid_rmsle: 0.21625 | valid_mae: 0.21047 | valid_rmse: 0.31187 | valid_mse: 0.09727 |  0:00:42s\n",
      "epoch 77 | loss: 0.09489 | train_rmsle: 0.21662 | train_mae: 0.20988 | train_rmse: 0.31272 | train_mse: 0.09779 | valid_rmsle: 0.21628 | valid_mae: 0.20943 | valid_rmse: 0.31125 | valid_mse: 0.09688 |  0:00:42s\n",
      "epoch 78 | loss: 0.09396 | train_rmsle: 0.21574 | train_mae: 0.20426 | train_rmse: 0.31131 | train_mse: 0.09691 | valid_rmsle: 0.21559 | valid_mae: 0.2048  | valid_rmse: 0.31044 | valid_mse: 0.09637 |  0:00:43s\n",
      "epoch 79 | loss: 0.09498 | train_rmsle: 0.21481 | train_mae: 0.20248 | train_rmse: 0.30893 | train_mse: 0.09544 | valid_rmsle: 0.21465 | valid_mae: 0.20252 | valid_rmse: 0.30803 | valid_mse: 0.09488 |  0:00:43s\n",
      "epoch 80 | loss: 0.09517 | train_rmsle: 0.2153  | train_mae: 0.20537 | train_rmse: 0.31166 | train_mse: 0.09713 | valid_rmsle: 0.21486 | valid_mae: 0.20465 | valid_rmse: 0.31032 | valid_mse: 0.0963  |  0:00:44s\n",
      "epoch 81 | loss: 0.09413 | train_rmsle: 0.21533 | train_mae: 0.20867 | train_rmse: 0.31395 | train_mse: 0.09857 | valid_rmsle: 0.21658 | valid_mae: 0.21004 | valid_rmse: 0.31509 | valid_mse: 0.09928 |  0:00:44s\n",
      "epoch 82 | loss: 0.09508 | train_rmsle: 0.22058 | train_mae: 0.22477 | train_rmse: 0.32614 | train_mse: 0.10637 | valid_rmsle: 0.22002 | valid_mae: 0.22403 | valid_rmse: 0.32568 | valid_mse: 0.10607 |  0:00:45s\n",
      "epoch 83 | loss: 0.09614 | train_rmsle: 0.21582 | train_mae: 0.20652 | train_rmse: 0.3136  | train_mse: 0.09835 | valid_rmsle: 0.21436 | valid_mae: 0.20499 | valid_rmse: 0.31126 | valid_mse: 0.09688 |  0:00:45s\n",
      "epoch 84 | loss: 0.09479 | train_rmsle: 0.21565 | train_mae: 0.20828 | train_rmse: 0.3174  | train_mse: 0.10074 | valid_rmsle: 0.21668 | valid_mae: 0.20898 | valid_rmse: 0.31847 | valid_mse: 0.10142 |  0:00:46s\n",
      "epoch 85 | loss: 0.09589 | train_rmsle: 0.21698 | train_mae: 0.21228 | train_rmse: 0.3142  | train_mse: 0.09872 | valid_rmsle: 0.21613 | valid_mae: 0.21065 | valid_rmse: 0.31317 | valid_mse: 0.09807 |  0:00:46s\n",
      "epoch 86 | loss: 0.09546 | train_rmsle: 0.21561 | train_mae: 0.2071  | train_rmse: 0.31352 | train_mse: 0.0983  | valid_rmsle: 0.21489 | valid_mae: 0.20601 | valid_rmse: 0.31239 | valid_mse: 0.09759 |  0:00:47s\n",
      "epoch 87 | loss: 0.09423 | train_rmsle: 0.21535 | train_mae: 0.20638 | train_rmse: 0.31277 | train_mse: 0.09782 | valid_rmsle: 0.21523 | valid_mae: 0.2063  | valid_rmse: 0.31271 | valid_mse: 0.09778 |  0:00:48s\n",
      "epoch 88 | loss: 0.094   | train_rmsle: 0.21569 | train_mae: 0.21104 | train_rmse: 0.319   | train_mse: 0.10176 | valid_rmsle: 0.21548 | valid_mae: 0.21039 | valid_rmse: 0.31855 | valid_mse: 0.10147 |  0:00:48s\n",
      "epoch 89 | loss: 0.09489 | train_rmsle: 0.21449 | train_mae: 0.20504 | train_rmse: 0.31006 | train_mse: 0.09613 | valid_rmsle: 0.21496 | valid_mae: 0.20524 | valid_rmse: 0.31049 | valid_mse: 0.09641 |  0:00:49s\n",
      "epoch 90 | loss: 0.09518 | train_rmsle: 0.2164  | train_mae: 0.20632 | train_rmse: 0.3081  | train_mse: 0.09493 | valid_rmsle: 0.21698 | valid_mae: 0.20667 | valid_rmse: 0.3089  | valid_mse: 0.09542 |  0:00:49s\n",
      "epoch 91 | loss: 0.09403 | train_rmsle: 0.21537 | train_mae: 0.20603 | train_rmse: 0.30825 | train_mse: 0.09502 | valid_rmsle: 0.21503 | valid_mae: 0.20536 | valid_rmse: 0.30777 | valid_mse: 0.09472 |  0:00:50s\n",
      "epoch 92 | loss: 0.09456 | train_rmsle: 0.21568 | train_mae: 0.20545 | train_rmse: 0.30733 | train_mse: 0.09445 | valid_rmsle: 0.2161  | valid_mae: 0.20507 | valid_rmse: 0.30771 | valid_mse: 0.09469 |  0:00:50s\n",
      "epoch 93 | loss: 0.09334 | train_rmsle: 0.21359 | train_mae: 0.2031  | train_rmse: 0.30848 | train_mse: 0.09516 | valid_rmsle: 0.21459 | valid_mae: 0.20423 | valid_rmse: 0.30958 | valid_mse: 0.09584 |  0:00:51s\n",
      "epoch 94 | loss: 0.09436 | train_rmsle: 0.21537 | train_mae: 0.20675 | train_rmse: 0.30917 | train_mse: 0.09559 | valid_rmsle: 0.21589 | valid_mae: 0.20717 | valid_rmse: 0.30954 | valid_mse: 0.09582 |  0:00:51s\n",
      "epoch 95 | loss: 0.09422 | train_rmsle: 0.21319 | train_mae: 0.19876 | train_rmse: 0.30695 | train_mse: 0.09422 | valid_rmsle: 0.21474 | valid_mae: 0.19954 | valid_rmse: 0.30856 | valid_mse: 0.09521 |  0:00:52s\n",
      "epoch 96 | loss: 0.09368 | train_rmsle: 0.21459 | train_mae: 0.20445 | train_rmse: 0.30767 | train_mse: 0.09466 | valid_rmsle: 0.21604 | valid_mae: 0.2055  | valid_rmse: 0.30958 | valid_mse: 0.09584 |  0:00:52s\n",
      "epoch 97 | loss: 0.09339 | train_rmsle: 0.21431 | train_mae: 0.20526 | train_rmse: 0.31579 | train_mse: 0.09973 | valid_rmsle: 0.21441 | valid_mae: 0.20516 | valid_rmse: 0.31542 | valid_mse: 0.09949 |  0:00:53s\n",
      "epoch 98 | loss: 0.09311 | train_rmsle: 0.21428 | train_mae: 0.21218 | train_rmse: 0.31086 | train_mse: 0.09664 | valid_rmsle: 0.21606 | valid_mae: 0.21344 | valid_rmse: 0.31323 | valid_mse: 0.09811 |  0:00:54s\n",
      "epoch 99 | loss: 0.09286 | train_rmsle: 0.21323 | train_mae: 0.20704 | train_rmse: 0.31092 | train_mse: 0.09667 | valid_rmsle: 0.21456 | valid_mae: 0.20734 | valid_rmse: 0.31241 | valid_mse: 0.0976  |  0:00:54s\n",
      "Stop training because you reached max_epochs = 100 with best_epoch = 92 and best_valid_mse = 0.09469\n"
     ]
    },
    {
     "name": "stderr",
     "output_type": "stream",
     "text": [
      "/home/yoeriapts/workspace/tabnet/pytorch_tabnet/callbacks.py:172: UserWarning: Best weights from best epoch are automatically used!\n",
      "  warnings.warn(wrn_msg)\n"
     ]
    }
   ],
   "source": [
    "clf.fit(\n",
    "    X_train=X_train, y_train=y_train,\n",
    "    eval_set=[(X_train, y_train), (X_valid, y_valid)],\n",
    "    eval_name=['train', 'valid'],\n",
    "    eval_metric=['rmsle', 'mae', 'rmse', 'mse'],\n",
    "    max_epochs=max_epochs,\n",
    "    patience=50,\n",
    "    batch_size=1024, virtual_batch_size=128,\n",
    "    num_workers=0,\n",
    "    drop_last=False,\n",
    "    augmentations=aug, #aug\n",
    ") "
   ]
  },
  {
   "cell_type": "code",
   "execution_count": 12,
   "metadata": {
    "ExecuteTime": {
     "end_time": "2023-08-29T13:34:21.605518988Z",
     "start_time": "2023-08-29T13:34:21.545203305Z"
    }
   },
   "outputs": [
    {
     "name": "stdout",
     "output_type": "stream",
     "text": [
      "BEST VALID SCORE FOR census-income : 0.09468524153640476\n",
      "FINAL TEST SCORE FOR census-income : 0.09864060683738828\n"
     ]
    }
   ],
   "source": [
    "# Deprecated : best model is automatically loaded at end of fit\n",
    "# clf.load_best_model()\n",
    "\n",
    "preds = clf.predict(X_test)\n",
    "\n",
    "y_true = y_test\n",
    "\n",
    "test_score = mean_squared_error(y_pred=preds, y_true=y_true)\n",
    "\n",
    "print(f\"BEST VALID SCORE FOR {dataset_name} : {clf.best_cost}\")\n",
    "print(f\"FINAL TEST SCORE FOR {dataset_name} : {test_score}\")"
   ]
  },
  {
   "cell_type": "markdown",
   "metadata": {},
   "source": [
    "# Save model and load"
   ]
  },
  {
   "cell_type": "code",
   "execution_count": 13,
   "metadata": {
    "ExecuteTime": {
     "end_time": "2023-08-29T13:34:21.606049727Z",
     "start_time": "2023-08-29T13:34:21.573913089Z"
    }
   },
   "outputs": [
    {
     "name": "stdout",
     "output_type": "stream",
     "text": [
      "Successfully saved model at ./tabnet_model_test_1.zip\n"
     ]
    }
   ],
   "source": [
    "# save tabnet model\n",
    "saving_path_name = \"./tabnet_model_test_1\"\n",
    "saved_filepath = clf.save_model(saving_path_name)"
   ]
  },
  {
   "cell_type": "code",
   "execution_count": 14,
   "metadata": {
    "ExecuteTime": {
     "end_time": "2023-08-29T13:34:21.626691889Z",
     "start_time": "2023-08-29T13:34:21.581255790Z"
    }
   },
   "outputs": [
    {
     "name": "stderr",
     "output_type": "stream",
     "text": [
      "/home/yoeriapts/workspace/tabnet/pytorch_tabnet/abstract_model.py:82: UserWarning: Device used : cuda\n",
      "  warnings.warn(f\"Device used : {self.device}\")\n"
     ]
    }
   ],
   "source": [
    "# define new model with basic parameters and load state dict weights\n",
    "loaded_clf = TabNetRegressor()\n",
    "loaded_clf.load_model(saved_filepath)"
   ]
  },
  {
   "cell_type": "code",
   "execution_count": 15,
   "metadata": {
    "ExecuteTime": {
     "end_time": "2023-08-29T13:34:21.659936124Z",
     "start_time": "2023-08-29T13:34:21.659690323Z"
    }
   },
   "outputs": [
    {
     "name": "stdout",
     "output_type": "stream",
     "text": [
      "FINAL TEST SCORE FOR census-income : 0.09864060683738828\n"
     ]
    }
   ],
   "source": [
    "loaded_preds = loaded_clf.predict(X_test)\n",
    "loaded_test_mse = mean_squared_error(loaded_preds, y_test)\n",
    "\n",
    "print(f\"FINAL TEST SCORE FOR {dataset_name} : {loaded_test_mse}\")"
   ]
  },
  {
   "cell_type": "code",
   "execution_count": 16,
   "metadata": {
    "ExecuteTime": {
     "end_time": "2023-08-29T13:34:21.660029901Z",
     "start_time": "2023-08-29T13:34:21.659785939Z"
    }
   },
   "outputs": [],
   "source": [
    "assert(test_score == loaded_test_mse)"
   ]
  },
  {
   "cell_type": "markdown",
   "metadata": {},
   "source": [
    "# Global explainability : feat importance summing to 1"
   ]
  },
  {
   "cell_type": "code",
   "execution_count": 17,
   "metadata": {
    "ExecuteTime": {
     "end_time": "2023-08-29T13:34:21.703962231Z",
     "start_time": "2023-08-29T13:34:21.659806879Z"
    }
   },
   "outputs": [
    {
     "data": {
      "text/plain": "array([9.84796168e-02, 0.00000000e+00, 0.00000000e+00, 4.04798028e-05,\n       1.37901907e-01, 3.17770389e-01, 1.11752306e-06, 4.70624950e-03,\n       1.23991124e-01, 4.22501498e-02, 1.22739909e-01, 6.15518263e-02,\n       9.05641116e-02, 3.11911392e-06])"
     },
     "execution_count": 17,
     "metadata": {},
     "output_type": "execute_result"
    }
   ],
   "source": [
    "clf.feature_importances_"
   ]
  },
  {
   "cell_type": "markdown",
   "metadata": {},
   "source": [
    "# Local explainability and masks"
   ]
  },
  {
   "cell_type": "code",
   "execution_count": 18,
   "metadata": {
    "ExecuteTime": {
     "end_time": "2023-08-29T13:34:21.716458724Z",
     "start_time": "2023-08-29T13:34:21.703739972Z"
    }
   },
   "outputs": [],
   "source": [
    "explain_matrix, masks = clf.explain(X_test)"
   ]
  },
  {
   "cell_type": "code",
   "execution_count": 19,
   "metadata": {
    "ExecuteTime": {
     "end_time": "2023-08-29T13:34:21.846738089Z",
     "start_time": "2023-08-29T13:34:21.709743552Z"
    }
   },
   "outputs": [],
   "source": [
    "from matplotlib import pyplot as plt\n",
    "%matplotlib inline"
   ]
  },
  {
   "cell_type": "code",
   "execution_count": 20,
   "metadata": {
    "ExecuteTime": {
     "end_time": "2023-08-29T13:34:22.142383652Z",
     "start_time": "2023-08-29T13:34:21.887870547Z"
    }
   },
   "outputs": [
    {
     "data": {
      "text/plain": "<Figure size 2000x2000 with 3 Axes>",
      "image/png": "[encoded data removed]"
     },
     "metadata": {},
     "output_type": "display_data"
    }
   ],
   "source": [
    "fig, axs = plt.subplots(1, 3, figsize=(20,20))\n",
    "\n",
    "for i in range(3):\n",
    "    axs[i].imshow(masks[i][:50])\n",
    "    axs[i].set_title(f\"mask {i}\")\n"
   ]
  },
  {
   "cell_type": "markdown",
   "metadata": {},
   "source": [
    "# XGB"
   ]
  },
  {
   "cell_type": "code",
   "execution_count": 21,
   "metadata": {
    "scrolled": true,
    "ExecuteTime": {
     "end_time": "2023-08-29T13:34:23.656493653Z",
     "start_time": "2023-08-29T13:34:22.143816713Z"
    }
   },
   "outputs": [
    {
     "name": "stdout",
     "output_type": "stream",
     "text": [
      "[0]\tvalidation_0-rmse:0.46992\n",
      "[10]\tvalidation_0-rmse:0.33056\n"
     ]
    },
    {
     "name": "stderr",
     "output_type": "stream",
     "text": [
      "/opt/anaconda/envs/juplab_hk_torch/lib/python3.9/site-packages/xgboost/sklearn.py:835: UserWarning: `early_stopping_rounds` in `fit` method is deprecated for better compatibility with scikit-learn, use `early_stopping_rounds` in constructor or`set_params` instead.\n",
      "  warnings.warn(\n"
     ]
    },
    {
     "name": "stdout",
     "output_type": "stream",
     "text": [
      "[20]\tvalidation_0-rmse:0.30274\n",
      "[30]\tvalidation_0-rmse:0.29676\n",
      "[40]\tvalidation_0-rmse:0.29514\n",
      "[50]\tvalidation_0-rmse:0.29520\n",
      "[60]\tvalidation_0-rmse:0.29497\n",
      "[70]\tvalidation_0-rmse:0.29518\n",
      "[80]\tvalidation_0-rmse:0.29521\n",
      "[90]\tvalidation_0-rmse:0.29574\n",
      "[100]\tvalidation_0-rmse:0.29599\n",
      "[101]\tvalidation_0-rmse:0.29598\n"
     ]
    },
    {
     "data": {
      "text/plain": "XGBRegressor(base_score=0.5, booster='gbtree', callbacks=None,\n             colsample_bylevel=1, colsample_bynode=1, colsample_bytree=1,\n             early_stopping_rounds=None, enable_categorical=False,\n             eval_metric=None, feature_types=None, gamma=0, gpu_id=None,\n             grow_policy=None, importance_type=None,\n             interaction_constraints=None, learning_rate=0.1, max_bin=None,\n             max_cat_threshold=None, max_cat_to_onehot=None, max_delta_step=0,\n             max_depth=8, max_leaves=None, min_child_weight=1, missing=nan,\n             monotone_constraints=None, n_estimators=1000, n_jobs=-1,\n             nthread=None, num_parallel_tree=None, objective='reg:linear', ...)",
      "text/html": "<style>#sk-container-id-1 {color: black;background-color: white;}#sk-container-id-1 pre{padding: 0;}#sk-container-id-1 div.sk-toggleable {background-color: white;}#sk-container-id-1 label.sk-toggleable__label {cursor: pointer;display: block;width: 100%;margin-bottom: 0;padding: 0.3em;box-sizing: border-box;text-align: center;}#sk-container-id-1 label.sk-toggleable__label-arrow:before {content: \"▸\";float: left;margin-right: 0.25em;color: #696969;}#sk-container-id-1 label.sk-toggleable__label-arrow:hover:before {color: black;}#sk-container-id-1 div.sk-estimator:hover label.sk-toggleable__label-arrow:before {color: black;}#sk-container-id-1 div.sk-toggleable__content {max-height: 0;max-width: 0;overflow: hidden;text-align: left;background-color: #f0f8ff;}#sk-container-id-1 div.sk-toggleable__content pre {margin: 0.2em;color: black;border-radius: 0.25em;background-color: #f0f8ff;}#sk-container-id-1 input.sk-toggleable__control:checked~div.sk-toggleable__content {max-height: 200px;max-width: 100%;overflow: auto;}#sk-container-id-1 input.sk-toggleable__control:checked~label.sk-toggleable__label-arrow:before {content: \"▾\";}#sk-container-id-1 div.sk-estimator input.sk-toggleable__control:checked~label.sk-toggleable__label {background-color: #d4ebff;}#sk-container-id-1 div.sk-label input.sk-toggleable__control:checked~label.sk-toggleable__label {background-color: #d4ebff;}#sk-container-id-1 input.sk-hidden--visually {border: 0;clip: rect(1px 1px 1px 1px);clip: rect(1px, 1px, 1px, 1px);height: 1px;margin: -1px;overflow: hidden;padding: 0;position: absolute;width: 1px;}#sk-container-id-1 div.sk-estimator {font-family: monospace;background-color: #f0f8ff;border: 1px dotted black;border-radius: 0.25em;box-sizing: border-box;margin-bottom: 0.5em;}#sk-container-id-1 div.sk-estimator:hover {background-color: #d4ebff;}#sk-container-id-1 div.sk-parallel-item::after {content: \"\";width: 100%;border-bottom: 1px solid gray;flex-grow: 1;}#sk-container-id-1 div.sk-label:hover label.sk-toggleable__label {background-color: #d4ebff;}#sk-container-id-1 div.sk-serial::before {content: \"\";position: absolute;border-left: 1px solid gray;box-sizing: border-box;top: 0;bottom: 0;left: 50%;z-index: 0;}#sk-container-id-1 div.sk-serial {display: flex;flex-direction: column;align-items: center;background-color: white;padding-right: 0.2em;padding-left: 0.2em;position: relative;}#sk-container-id-1 div.sk-item {position: relative;z-index: 1;}#sk-container-id-1 div.sk-parallel {display: flex;align-items: stretch;justify-content: center;background-color: white;position: relative;}#sk-container-id-1 div.sk-item::before, #sk-container-id-1 div.sk-parallel-item::before {content: \"\";position: absolute;border-left: 1px solid gray;box-sizing: border-box;top: 0;bottom: 0;left: 50%;z-index: -1;}#sk-container-id-1 div.sk-parallel-item {display: flex;flex-direction: column;z-index: 1;position: relative;background-color: white;}#sk-container-id-1 div.sk-parallel-item:first-child::after {align-self: flex-end;width: 50%;}#sk-container-id-1 div.sk-parallel-item:last-child::after {align-self: flex-start;width: 50%;}#sk-container-id-1 div.sk-parallel-item:only-child::after {width: 0;}#sk-container-id-1 div.sk-dashed-wrapped {border: 1px dashed gray;margin: 0 0.4em 0.5em 0.4em;box-sizing: border-box;padding-bottom: 0.4em;background-color: white;}#sk-container-id-1 div.sk-label label {font-family: monospace;font-weight: bold;display: inline-block;line-height: 1.2em;}#sk-container-id-1 div.sk-label-container {text-align: center;}#sk-container-id-1 div.sk-container {/* jupyter's `normalize.less` sets `[hidden] { display: none; }` but bootstrap.min.css set `[hidden] { display: none !important; }` so we also need the `!important` here to be able to override the default hidden behavior on the sphinx rendered scikit-learn.org. See: https://github.com/scikit-learn/scikit-learn/issues/21755 */display: inline-block !important;position: relative;}#sk-container-id-1 div.sk-text-repr-fallback {display: none;}</style><div id=\"sk-container-id-1\" class=\"sk-top-container\"><div class=\"sk-text-repr-fallback\"><pre>XGBRegressor(base_score=0.5, booster=&#x27;gbtree&#x27;, callbacks=None,\n             colsample_bylevel=1, colsample_bynode=1, colsample_bytree=1,\n             early_stopping_rounds=None, enable_categorical=False,\n             eval_metric=None, feature_types=None, gamma=0, gpu_id=None,\n             grow_policy=None, importance_type=None,\n             interaction_constraints=None, learning_rate=0.1, max_bin=None,\n             max_cat_threshold=None, max_cat_to_onehot=None, max_delta_step=0,\n             max_depth=8, max_leaves=None, min_child_weight=1, missing=nan,\n             monotone_constraints=None, n_estimators=1000, n_jobs=-1,\n             nthread=None, num_parallel_tree=None, objective=&#x27;reg:linear&#x27;, ...)</pre><b>In a Jupyter environment, please rerun this cell to show the HTML representation or trust the notebook. <br />On GitHub, the HTML representation is unable to render, please try loading this page with nbviewer.org.</b></div><div class=\"sk-container\" hidden><div class=\"sk-item\"><div class=\"sk-estimator sk-toggleable\"><input class=\"sk-toggleable__control sk-hidden--visually\" id=\"sk-estimator-id-1\" type=\"checkbox\" checked><label for=\"sk-estimator-id-1\" class=\"sk-toggleable__label sk-toggleable__label-arrow\">XGBRegressor</label><div class=\"sk-toggleable__content\"><pre>XGBRegressor(base_score=0.5, booster=&#x27;gbtree&#x27;, callbacks=None,\n             colsample_bylevel=1, colsample_bynode=1, colsample_bytree=1,\n             early_stopping_rounds=None, enable_categorical=False,\n             eval_metric=None, feature_types=None, gamma=0, gpu_id=None,\n             grow_policy=None, importance_type=None,\n             interaction_constraints=None, learning_rate=0.1, max_bin=None,\n             max_cat_threshold=None, max_cat_to_onehot=None, max_delta_step=0,\n             max_depth=8, max_leaves=None, min_child_weight=1, missing=nan,\n             monotone_constraints=None, n_estimators=1000, n_jobs=-1,\n             nthread=None, num_parallel_tree=None, objective=&#x27;reg:linear&#x27;, ...)</pre></div></div></div></div></div>"
     },
     "execution_count": 21,
     "metadata": {},
     "output_type": "execute_result"
    }
   ],
   "source": [
    "from xgboost import XGBRegressor\n",
    "\n",
    "clf_xgb = XGBRegressor(max_depth=8,\n",
    "    learning_rate=0.1,\n",
    "    n_estimators=1000,\n",
    "    verbosity=0,\n",
    "    silent=None,\n",
    "    objective='reg:linear',\n",
    "    booster='gbtree',\n",
    "    n_jobs=-1,\n",
    "    nthread=None,\n",
    "    gamma=0,\n",
    "    min_child_weight=1,\n",
    "    max_delta_step=0,\n",
    "    subsample=0.7,\n",
    "    colsample_bytree=1,\n",
    "    colsample_bylevel=1,\n",
    "    colsample_bynode=1,\n",
    "    reg_alpha=0,\n",
    "    reg_lambda=1,\n",
    "    scale_pos_weight=1,\n",
    "    base_score=0.5,\n",
    "    random_state=0,\n",
    "    seed=None,)\n",
    "\n",
    "clf_xgb.fit(X_train, y_train,\n",
    "        eval_set=[(X_valid, y_valid)],\n",
    "        early_stopping_rounds=40,\n",
    "        verbose=10)"
   ]
  },
  {
   "cell_type": "code",
   "execution_count": 22,
   "metadata": {
    "ExecuteTime": {
     "end_time": "2023-08-29T13:34:23.656718008Z",
     "start_time": "2023-08-29T13:34:23.655853009Z"
    }
   },
   "outputs": [
    {
     "name": "stdout",
     "output_type": "stream",
     "text": [
      "0.08693414488964239\n",
      "0.09148941118733249\n"
     ]
    }
   ],
   "source": [
    "preds = np.array(clf_xgb.predict(X_valid))\n",
    "valid_auc = mean_squared_error(y_pred=preds, y_true=y_valid)\n",
    "print(valid_auc)\n",
    "\n",
    "preds = np.array(clf_xgb.predict(X_test))\n",
    "test_auc = mean_squared_error(y_pred=preds, y_true=y_test)\n",
    "print(test_auc)"
   ]
  }
 ],
 "metadata": {
  "kernelspec": {
   "display_name": "Python 3",
   "language": "python",
   "name": "python3"
  },
  "language_info": {
   "codemirror_mode": {
    "name": "ipython",
    "version": 3
   },
   "file_extension": ".py",
   "mimetype": "text/x-python",
   "name": "python",
   "nbconvert_exporter": "python",
   "pygments_lexer": "ipython3",
   "version": "3.7.13"
  },
  "toc": {
   "base_numbering": 1,
   "nav_menu": {},
   "number_sections": true,
   "sideBar": true,
   "skip_h1_title": false,
   "title_cell": "Table of Contents",
   "title_sidebar": "Contents",
   "toc_cell": false,
   "toc_position": {},
   "toc_section_display": true,
   "toc_window_display": false
  }
 },
 "nbformat": 4,
 "nbformat_minor": 2
}
