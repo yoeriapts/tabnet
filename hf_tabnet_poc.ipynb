{
 "cells": [
  {
   "cell_type": "code",
   "execution_count": 1,
   "id": "a2f7e2cae227ee74",
   "metadata": {
    "collapsed": true,
    "ExecuteTime": {
     "end_time": "2023-08-29T15:18:50.487818942Z",
     "start_time": "2023-08-29T15:18:50.424170161Z"
    }
   },
   "outputs": [
    {
     "data": {
      "text/plain": "'/opt/anaconda/envs/juplab_hk_torch/bin/python'"
     },
     "execution_count": 1,
     "metadata": {},
     "output_type": "execute_result"
    }
   ],
   "source": [
    "import sys\n",
    "sys.executable"
   ]
  },
  {
   "cell_type": "code",
   "execution_count": 2,
   "outputs": [
    {
     "name": "stderr",
     "output_type": "stream",
     "text": [
      "/opt/anaconda/envs/juplab_hk_torch/lib/python3.9/site-packages/tqdm/auto.py:22: TqdmWarning: IProgress not found. Please update jupyter and ipywidgets. See https://ipywidgets.readthedocs.io/en/stable/user_install.html\n",
      "  from .autonotebook import tqdm as notebook_tqdm\n"
     ]
    }
   ],
   "source": [
    "from pathlib import Path\n",
    "\n",
    "import numpy as np\n",
    "import pandas as pd\n",
    "from pytorch_tabnet.tab_model import TabNetClassifier\n",
    "\n",
    "import torch\n",
    "from sklearn.preprocessing import LabelEncoder\n",
    "from sklearn.metrics import roc_auc_score\n"
   ],
   "metadata": {
    "collapsed": false,
    "ExecuteTime": {
     "end_time": "2023-08-29T15:18:51.602662495Z",
     "start_time": "2023-08-29T15:18:50.830810727Z"
    }
   },
   "id": "5fa68d3b2cb2d99a"
  },
  {
   "cell_type": "code",
   "execution_count": 3,
   "outputs": [
    {
     "data": {
      "text/plain": "True"
     },
     "execution_count": 3,
     "metadata": {},
     "output_type": "execute_result"
    }
   ],
   "source": [
    "sfds = Path('~/workspace/kinolab/notebooks/Datasets/KINO.DYSPNEA/0.12.7/KINO-DYSPNEA_2023-08-07_1624_rsp_sfds.h5').expanduser()\n",
    "sfds.exists()\n"
   ],
   "metadata": {
    "collapsed": false,
    "ExecuteTime": {
     "end_time": "2023-08-29T15:18:52.104276970Z",
     "start_time": "2023-08-29T15:18:52.077304507Z"
    }
   },
   "id": "initial_id"
  },
  {
   "cell_type": "code",
   "execution_count": 4,
   "outputs": [],
   "source": [
    "df = pd.read_hdf(sfds, key='df')"
   ],
   "metadata": {
    "collapsed": false,
    "ExecuteTime": {
     "end_time": "2023-08-29T15:18:53.236163901Z",
     "start_time": "2023-08-29T15:18:53.175019736Z"
    }
   },
   "id": "d78b41d859e37a22"
  },
  {
   "cell_type": "code",
   "execution_count": 5,
   "outputs": [
    {
     "data": {
      "text/plain": "(385, 55)"
     },
     "execution_count": 5,
     "metadata": {},
     "output_type": "execute_result"
    }
   ],
   "source": [
    "df.shape"
   ],
   "metadata": {
    "collapsed": false,
    "ExecuteTime": {
     "end_time": "2023-08-29T15:19:00.329448735Z",
     "start_time": "2023-08-29T15:19:00.301854277Z"
    }
   },
   "id": "3eece7e2bdfd309"
  },
  {
   "cell_type": "code",
   "execution_count": 6,
   "outputs": [
    {
     "data": {
      "text/plain": "False    221\nTrue     164\nName: HF, dtype: int64"
     },
     "execution_count": 6,
     "metadata": {},
     "output_type": "execute_result"
    }
   ],
   "source": [
    "df.HF.value_counts()"
   ],
   "metadata": {
    "collapsed": false,
    "ExecuteTime": {
     "end_time": "2023-08-29T15:19:01.125030790Z",
     "start_time": "2023-08-29T15:19:01.088560630Z"
    }
   },
   "id": "62b00b0d0adb471e"
  },
  {
   "cell_type": "code",
   "execution_count": 7,
   "outputs": [
    {
     "data": {
      "text/plain": "Index(['age', 'tvexp_grad_p1p0_scg_nrg_rot_max_std',\n       'tvins_rp1_scg_nrg_lin_tmax_mean',\n       'lvexp_grad_p1p0_scg_pwr_lin_max_std',\n       'lvins_grad_p0m1_scg_pwr_rot_max_std', 'tvexp_rm1_scg_pwr_rot_tmin_std',\n       'lvexp_rp1_scg_nrg_lin_tmax_std', 'tvins_rm1_scg_pwr_lin_tmin_mean',\n       'lvexp_rm1_scg_nrg_rot_tmax_mean', 'hvexp_rp1_scg_nrg_rot_tmax_std',\n       'bsa', 'tvins_grad_p1p0_scg_nrg_rot_den_mean',\n       'hvins_grad_p1m1_scg_pwr_lin_min_std', 'rsp_respiratory_rate_ppi_mean',\n       'lvins_grad_p1p0_scg_pwr_rot_max_std',\n       'tvins_grad_p0m1_scg_nrg_rot_max_std',\n       'hvexp_grad_p1p0_scg_pwr_rot_max_mean',\n       'lvexp_grad_p1m1_scg_pwr_rot_min_std', 'bmi', 'height',\n       'hvins_grad_p1p0_scg_nrg_rot_itg_mean', 'hvins_rp0_scg_pwr_rot_min_std',\n       'hvexp_rm1_scg_pwr_rot_tmax_std', 'lvexp_rp0_scg_nrg_lin_tmax_std',\n       'hvexp_rp1_scg_pwr_lin_min_std', 'lvins_rm1_scg_nrg_lin_tmax_std',\n       'weight', 'tvins_rp0_scg_nrg_lin_tmax_mean',\n       'grad_p1p0_scg_pwr_lin_max_mean', 'lvins_rm1_scg_nrg_lin_tmax_mean',\n       'rm1_scg_pwr_lin_tmin_mean', 'tvexp_rp1_scg_pwr_lin_tmin_mean', 'HF',\n       'lvexp_rm1_scg_pwr_rot_tmin_std', 'lvexp_rp0_scg_pwr_lin_tmax_mean',\n       'lvins_grad_p1m1_scg_pwr_rot_max_mean',\n       'tvexp_grad_p1p0_scg_pwr_rot_min_std', 'lvins_rp1_scg_nrg_rot_tmax_std',\n       'scg_heart_rate_ppi_mean', 'sex', 'lvexp_grad_p0m1_scg_nrg_lin_max_std',\n       'patient_id', 'hvins_rp0_scg_nrg_rot_tmax_mean',\n       'lvins_grad_p0m1_scg_pwr_rot_max_mean', 'scg_heart_rate_ppi_std',\n       'rsp_respiratory_rate_ppi_median', 'scg_stats_pwr_rot_median',\n       'lvins_rp0_scg_nrg_rot_den_std', 'tvexp_rm1_scg_pwr_lin_tmax_std',\n       'hvins_rp0_scg_pwr_lin_tmin_std', 'mmi_iqr',\n       'lvins_grad_p1m1_scg_nrg_lin_den_std', 'rsp_respiratory_rate_ppi_std',\n       'lvins_rm1_scg_pwr_rot_tmin_mean',\n       'tvexp_grad_p1p0_scg_pwr_rot_max_mean'],\n      dtype='object')"
     },
     "execution_count": 7,
     "metadata": {},
     "output_type": "execute_result"
    }
   ],
   "source": [
    "df.columns"
   ],
   "metadata": {
    "collapsed": false,
    "ExecuteTime": {
     "end_time": "2023-08-29T15:19:03.126467030Z",
     "start_time": "2023-08-29T15:19:03.036884938Z"
    }
   },
   "id": "28c07af9ec43c590"
  },
  {
   "cell_type": "code",
   "execution_count": 8,
   "outputs": [
    {
     "data": {
      "text/plain": "True"
     },
     "execution_count": 8,
     "metadata": {},
     "output_type": "execute_result"
    }
   ],
   "source": [
    "'patient_id' in df.columns"
   ],
   "metadata": {
    "collapsed": false,
    "ExecuteTime": {
     "end_time": "2023-08-29T15:19:05.187281926Z",
     "start_time": "2023-08-29T15:19:05.124678800Z"
    }
   },
   "id": "2f973aaa0f2760c0"
  },
  {
   "cell_type": "code",
   "execution_count": 9,
   "outputs": [
    {
     "data": {
      "text/plain": "381"
     },
     "execution_count": 9,
     "metadata": {},
     "output_type": "execute_result"
    }
   ],
   "source": [
    "df.patient_id.nunique()"
   ],
   "metadata": {
    "collapsed": false,
    "ExecuteTime": {
     "end_time": "2023-08-29T15:19:06.523051486Z",
     "start_time": "2023-08-29T15:19:06.500429863Z"
    }
   },
   "id": "9332bacb043fa455"
  },
  {
   "cell_type": "code",
   "execution_count": 10,
   "outputs": [
    {
     "data": {
      "text/plain": "385"
     },
     "execution_count": 10,
     "metadata": {},
     "output_type": "execute_result"
    }
   ],
   "source": [
    "len(df.patient_id)"
   ],
   "metadata": {
    "collapsed": false,
    "ExecuteTime": {
     "end_time": "2023-08-29T15:19:07.320538924Z",
     "start_time": "2023-08-29T15:19:07.282673061Z"
    }
   },
   "id": "265d2d1bae610f74"
  },
  {
   "cell_type": "code",
   "execution_count": 11,
   "outputs": [
    {
     "data": {
      "text/plain": "patient_id\nKINO-DYSPNEA_AB     True\nKINO-DYSPNEA_AF    False\nKINO-DYSPNEA_AG    False\nKINO-DYSPNEA_AH    False\nKINO-DYSPNEA_AI    False\n                   ...  \nKINO-DYSPNEA_ZS    False\nKINO-DYSPNEA_ZU    False\nKINO-DYSPNEA_ZV    False\nKINO-DYSPNEA_ZY    False\nKINO-DYSPNEA_ZZ    False\nLength: 381, dtype: bool"
     },
     "execution_count": 11,
     "metadata": {},
     "output_type": "execute_result"
    }
   ],
   "source": [
    "df.groupby(['patient_id']).apply(len) != 1"
   ],
   "metadata": {
    "collapsed": false,
    "ExecuteTime": {
     "end_time": "2023-08-29T15:19:09.459087161Z",
     "start_time": "2023-08-29T15:19:09.436854310Z"
    }
   },
   "id": "1fe76010a0dbddc0"
  },
  {
   "cell_type": "code",
   "execution_count": 12,
   "outputs": [],
   "source": [
    "# Fttb, make sure no records are reused from the same patient\n",
    "df = df.drop_duplicates(subset=[\"patient_id\"], keep='first')"
   ],
   "metadata": {
    "collapsed": false,
    "ExecuteTime": {
     "end_time": "2023-08-29T15:19:10.266878439Z",
     "start_time": "2023-08-29T15:19:10.231264341Z"
    }
   },
   "id": "ca773c40c1a36e56"
  },
  {
   "cell_type": "code",
   "execution_count": 13,
   "outputs": [
    {
     "data": {
      "text/plain": "(381, 55)"
     },
     "execution_count": 13,
     "metadata": {},
     "output_type": "execute_result"
    }
   ],
   "source": [
    "df.shape"
   ],
   "metadata": {
    "collapsed": false,
    "ExecuteTime": {
     "end_time": "2023-08-29T15:19:11.172120584Z",
     "start_time": "2023-08-29T15:19:11.140185282Z"
    }
   },
   "id": "b05b5d49298aaa76"
  },
  {
   "cell_type": "code",
   "execution_count": 15,
   "outputs": [],
   "source": [
    "X_df = df.drop(columns=[\"HF\", \"patient_id\"])\n",
    "y_df = df[\"HF\"]"
   ],
   "metadata": {
    "collapsed": false,
    "ExecuteTime": {
     "end_time": "2023-08-29T15:19:24.966864575Z",
     "start_time": "2023-08-29T15:19:24.912570548Z"
    }
   },
   "id": "a6f6c5b7257a05e1"
  },
  {
   "cell_type": "code",
   "execution_count": 17,
   "outputs": [
    {
     "name": "stderr",
     "output_type": "stream",
     "text": [
      "/home/yoeriapts/workspace/tabnet/pytorch_tabnet/abstract_model.py:82: UserWarning: Device used : cuda\n",
      "  warnings.warn(f\"Device used : {self.device}\")\n"
     ]
    }
   ],
   "source": [
    "tabnet_params = {\"cat_emb_dim\":2,\n",
    "                 \"optimizer_fn\":torch.optim.Adam,\n",
    "                 \"optimizer_params\":dict(lr=2e-2),\n",
    "                 \"scheduler_params\":{\"step_size\":50, # how to use learning rate scheduler\n",
    "                                 \"gamma\":0.9},\n",
    "                 \"scheduler_fn\":torch.optim.lr_scheduler.StepLR,\n",
    "                 \"mask_type\":'entmax', # \"sparsemax\"\n",
    "                }\n",
    "\n",
    "clf = TabNetClassifier(**tabnet_params\n",
    "                      )"
   ],
   "metadata": {
    "collapsed": false,
    "ExecuteTime": {
     "end_time": "2023-08-29T15:19:38.076386174Z",
     "start_time": "2023-08-29T15:19:38.006441426Z"
    }
   },
   "id": "c6f02a9deaafa7c5"
  },
  {
   "cell_type": "code",
   "execution_count": null,
   "outputs": [],
   "source": [
    "clf.device"
   ],
   "metadata": {
    "collapsed": false
   },
   "id": "d4bd323b3d70a3a7"
  },
  {
   "cell_type": "code",
   "execution_count": 19,
   "outputs": [],
   "source": [
    "max_epochs = 1000"
   ],
   "metadata": {
    "collapsed": false,
    "ExecuteTime": {
     "end_time": "2023-08-29T15:19:47.773856532Z",
     "start_time": "2023-08-29T15:19:47.737300462Z"
    }
   },
   "id": "eec7e1d82a3a06d5"
  },
  {
   "cell_type": "code",
   "execution_count": 20,
   "outputs": [],
   "source": [
    "from pytorch_tabnet.augmentations import ClassificationSMOTE\n",
    "aug = ClassificationSMOTE(p=0.2)"
   ],
   "metadata": {
    "collapsed": false,
    "ExecuteTime": {
     "end_time": "2023-08-29T15:19:49.567667502Z",
     "start_time": "2023-08-29T15:19:49.522066675Z"
    }
   },
   "id": "9a6e272eaab9cc5"
  },
  {
   "cell_type": "code",
   "execution_count": null,
   "outputs": [],
   "source": [
    "# TypeError: Pandas DataFrame are not supported: apply X.values when calling fit"
   ],
   "metadata": {
    "collapsed": false
   },
   "id": "b0272bfcc34fd496"
  },
  {
   "cell_type": "code",
   "execution_count": 21,
   "outputs": [
    {
     "name": "stdout",
     "output_type": "stream",
     "text": [
      "epoch 0  | loss: 0.91311 | train_auc: 0.51285 |  0:00:00s\n",
      "epoch 1  | loss: 0.84108 | train_auc: 0.58118 |  0:00:00s\n",
      "epoch 2  | loss: 0.78516 | train_auc: 0.53819 |  0:00:00s\n",
      "epoch 3  | loss: 0.73598 | train_auc: 0.60438 |  0:00:00s\n",
      "epoch 4  | loss: 0.66907 | train_auc: 0.54539 |  0:00:00s\n",
      "epoch 5  | loss: 0.72649 | train_auc: 0.50815 |  0:00:00s\n",
      "epoch 6  | loss: 0.66414 | train_auc: 0.46676 |  0:00:00s\n",
      "epoch 7  | loss: 0.65336 | train_auc: 0.47557 |  0:00:00s\n",
      "epoch 8  | loss: 0.63281 | train_auc: 0.42614 |  0:00:00s\n",
      "epoch 9  | loss: 0.64637 | train_auc: 0.43197 |  0:00:00s\n",
      "epoch 10 | loss: 0.63543 | train_auc: 0.43533 |  0:00:00s\n",
      "epoch 11 | loss: 0.65438 | train_auc: 0.46748 |  0:00:00s\n",
      "epoch 12 | loss: 0.60984 | train_auc: 0.48247 |  0:00:00s\n",
      "epoch 13 | loss: 0.6216  | train_auc: 0.50189 |  0:00:00s\n",
      "epoch 14 | loss: 0.59749 | train_auc: 0.51545 |  0:00:00s\n",
      "epoch 15 | loss: 0.58958 | train_auc: 0.53345 |  0:00:00s\n",
      "epoch 16 | loss: 0.59658 | train_auc: 0.52702 |  0:00:00s\n",
      "epoch 17 | loss: 0.557   | train_auc: 0.53633 |  0:00:00s\n",
      "epoch 18 | loss: 0.54599 | train_auc: 0.49173 |  0:00:00s\n",
      "epoch 19 | loss: 0.54809 | train_auc: 0.49837 |  0:00:00s\n",
      "epoch 20 | loss: 0.53267 | train_auc: 0.52673 |  0:00:00s\n",
      "epoch 21 | loss: 0.5661  | train_auc: 0.52772 |  0:00:00s\n",
      "epoch 22 | loss: 0.55463 | train_auc: 0.5081  |  0:00:00s\n",
      "epoch 23 | loss: 0.5291  | train_auc: 0.54069 |  0:00:00s\n",
      "epoch 24 | loss: 0.56763 | train_auc: 0.53115 |  0:00:00s\n",
      "epoch 25 | loss: 0.54037 | train_auc: 0.53402 |  0:00:00s\n",
      "epoch 26 | loss: 0.52189 | train_auc: 0.55527 |  0:00:00s\n",
      "epoch 27 | loss: 0.50957 | train_auc: 0.56321 |  0:00:00s\n",
      "epoch 28 | loss: 0.48914 | train_auc: 0.54387 |  0:00:00s\n",
      "epoch 29 | loss: 0.50381 | train_auc: 0.55612 |  0:00:00s\n",
      "epoch 30 | loss: 0.51719 | train_auc: 0.55597 |  0:00:00s\n",
      "epoch 31 | loss: 0.48221 | train_auc: 0.53084 |  0:00:00s\n",
      "epoch 32 | loss: 0.46114 | train_auc: 0.52761 |  0:00:00s\n",
      "epoch 33 | loss: 0.45998 | train_auc: 0.53516 |  0:00:00s\n",
      "epoch 34 | loss: 0.54945 | train_auc: 0.51166 |  0:00:00s\n",
      "epoch 35 | loss: 0.46811 | train_auc: 0.50543 |  0:00:00s\n",
      "epoch 36 | loss: 0.45943 | train_auc: 0.51625 |  0:00:00s\n",
      "epoch 37 | loss: 0.42552 | train_auc: 0.50414 |  0:00:00s\n",
      "epoch 38 | loss: 0.39961 | train_auc: 0.48874 |  0:00:01s\n",
      "epoch 39 | loss: 0.43162 | train_auc: 0.50459 |  0:00:01s\n",
      "epoch 40 | loss: 0.36907 | train_auc: 0.48462 |  0:00:01s\n",
      "epoch 41 | loss: 0.39026 | train_auc: 0.47978 |  0:00:01s\n",
      "epoch 42 | loss: 0.41862 | train_auc: 0.44798 |  0:00:01s\n",
      "epoch 43 | loss: 0.35413 | train_auc: 0.45442 |  0:00:01s\n",
      "epoch 44 | loss: 0.35907 | train_auc: 0.45971 |  0:00:01s\n",
      "epoch 45 | loss: 0.38626 | train_auc: 0.46052 |  0:00:01s\n",
      "epoch 46 | loss: 0.39115 | train_auc: 0.46548 |  0:00:01s\n",
      "epoch 47 | loss: 0.34953 | train_auc: 0.47417 |  0:00:01s\n",
      "epoch 48 | loss: 0.32644 | train_auc: 0.4757  |  0:00:01s\n",
      "epoch 49 | loss: 0.35046 | train_auc: 0.4862  |  0:00:01s\n",
      "epoch 50 | loss: 0.34287 | train_auc: 0.495   |  0:00:01s\n",
      "epoch 51 | loss: 0.31908 | train_auc: 0.50179 |  0:00:01s\n",
      "epoch 52 | loss: 0.28595 | train_auc: 0.49085 |  0:00:01s\n",
      "epoch 53 | loss: 0.29591 | train_auc: 0.47607 |  0:00:01s\n",
      "epoch 54 | loss: 0.27447 | train_auc: 0.46934 |  0:00:01s\n",
      "epoch 55 | loss: 0.26605 | train_auc: 0.46147 |  0:00:01s\n",
      "epoch 56 | loss: 0.31515 | train_auc: 0.47279 |  0:00:01s\n",
      "epoch 57 | loss: 0.33106 | train_auc: 0.47404 |  0:00:01s\n",
      "epoch 58 | loss: 0.26427 | train_auc: 0.46415 |  0:00:01s\n",
      "epoch 59 | loss: 0.31291 | train_auc: 0.45686 |  0:00:01s\n",
      "epoch 60 | loss: 0.26715 | train_auc: 0.46157 |  0:00:01s\n",
      "epoch 61 | loss: 0.31932 | train_auc: 0.45614 |  0:00:01s\n",
      "epoch 62 | loss: 0.25167 | train_auc: 0.4538  |  0:00:01s\n",
      "epoch 63 | loss: 0.27639 | train_auc: 0.45434 |  0:00:01s\n",
      "epoch 64 | loss: 0.27737 | train_auc: 0.45624 |  0:00:01s\n",
      "epoch 65 | loss: 0.28857 | train_auc: 0.45535 |  0:00:01s\n",
      "epoch 66 | loss: 0.29595 | train_auc: 0.4561  |  0:00:01s\n",
      "epoch 67 | loss: 0.31116 | train_auc: 0.45914 |  0:00:01s\n",
      "epoch 68 | loss: 0.26417 | train_auc: 0.46347 |  0:00:01s\n",
      "epoch 69 | loss: 0.20653 | train_auc: 0.47535 |  0:00:01s\n",
      "epoch 70 | loss: 0.23984 | train_auc: 0.47287 |  0:00:01s\n",
      "epoch 71 | loss: 0.2301  | train_auc: 0.48428 |  0:00:01s\n",
      "epoch 72 | loss: 0.24458 | train_auc: 0.48943 |  0:00:01s\n",
      "epoch 73 | loss: 0.2347  | train_auc: 0.50381 |  0:00:01s\n",
      "epoch 74 | loss: 0.22888 | train_auc: 0.49624 |  0:00:01s\n",
      "epoch 75 | loss: 0.24529 | train_auc: 0.50305 |  0:00:01s\n",
      "epoch 76 | loss: 0.25226 | train_auc: 0.48949 |  0:00:01s\n",
      "epoch 77 | loss: 0.21486 | train_auc: 0.50058 |  0:00:01s\n",
      "epoch 78 | loss: 0.23782 | train_auc: 0.50211 |  0:00:01s\n",
      "epoch 79 | loss: 0.18663 | train_auc: 0.49916 |  0:00:01s\n",
      "epoch 80 | loss: 0.23617 | train_auc: 0.51805 |  0:00:01s\n",
      "epoch 81 | loss: 0.15453 | train_auc: 0.52244 |  0:00:01s\n",
      "epoch 82 | loss: 0.15157 | train_auc: 0.52595 |  0:00:01s\n",
      "epoch 83 | loss: 0.17089 | train_auc: 0.53383 |  0:00:01s\n",
      "epoch 84 | loss: 0.16669 | train_auc: 0.53197 |  0:00:01s\n",
      "epoch 85 | loss: 0.18786 | train_auc: 0.54555 |  0:00:01s\n",
      "epoch 86 | loss: 0.18459 | train_auc: 0.55386 |  0:00:01s\n",
      "epoch 87 | loss: 0.27322 | train_auc: 0.57308 |  0:00:01s\n",
      "epoch 88 | loss: 0.19269 | train_auc: 0.59573 |  0:00:01s\n",
      "epoch 89 | loss: 0.2121  | train_auc: 0.61267 |  0:00:01s\n",
      "epoch 90 | loss: 0.19346 | train_auc: 0.61088 |  0:00:01s\n",
      "epoch 91 | loss: 0.19629 | train_auc: 0.60187 |  0:00:01s\n",
      "epoch 92 | loss: 0.1979  | train_auc: 0.59613 |  0:00:01s\n",
      "epoch 93 | loss: 0.19511 | train_auc: 0.5947  |  0:00:01s\n",
      "epoch 94 | loss: 0.25848 | train_auc: 0.58817 |  0:00:01s\n",
      "epoch 95 | loss: 0.15283 | train_auc: 0.57296 |  0:00:01s\n",
      "epoch 96 | loss: 0.16105 | train_auc: 0.57088 |  0:00:01s\n",
      "epoch 97 | loss: 0.19811 | train_auc: 0.5696  |  0:00:01s\n",
      "epoch 98 | loss: 0.16046 | train_auc: 0.57536 |  0:00:01s\n",
      "epoch 99 | loss: 0.18448 | train_auc: 0.58306 |  0:00:01s\n",
      "epoch 100| loss: 0.20246 | train_auc: 0.59419 |  0:00:01s\n",
      "epoch 101| loss: 0.23784 | train_auc: 0.59741 |  0:00:01s\n",
      "epoch 102| loss: 0.17393 | train_auc: 0.60275 |  0:00:01s\n",
      "epoch 103| loss: 0.20547 | train_auc: 0.60432 |  0:00:01s\n",
      "epoch 104| loss: 0.15173 | train_auc: 0.60555 |  0:00:02s\n",
      "epoch 105| loss: 0.15961 | train_auc: 0.60452 |  0:00:02s\n",
      "epoch 106| loss: 0.17037 | train_auc: 0.61088 |  0:00:02s\n",
      "epoch 107| loss: 0.15888 | train_auc: 0.61208 |  0:00:02s\n",
      "epoch 108| loss: 0.14786 | train_auc: 0.61198 |  0:00:02s\n",
      "epoch 109| loss: 0.14127 | train_auc: 0.61444 |  0:00:02s\n",
      "epoch 110| loss: 0.27301 | train_auc: 0.61746 |  0:00:02s\n",
      "epoch 111| loss: 0.16631 | train_auc: 0.61915 |  0:00:02s\n",
      "epoch 112| loss: 0.1783  | train_auc: 0.62055 |  0:00:02s\n",
      "epoch 113| loss: 0.15717 | train_auc: 0.61868 |  0:00:02s\n",
      "epoch 114| loss: 0.15172 | train_auc: 0.61562 |  0:00:02s\n",
      "epoch 115| loss: 0.18639 | train_auc: 0.60829 |  0:00:02s\n",
      "epoch 116| loss: 0.15431 | train_auc: 0.60377 |  0:00:02s\n",
      "epoch 117| loss: 0.13209 | train_auc: 0.5955  |  0:00:02s\n",
      "epoch 118| loss: 0.11725 | train_auc: 0.58559 |  0:00:02s\n",
      "epoch 119| loss: 0.1432  | train_auc: 0.58528 |  0:00:02s\n",
      "epoch 120| loss: 0.11    | train_auc: 0.58863 |  0:00:02s\n",
      "epoch 121| loss: 0.14232 | train_auc: 0.59481 |  0:00:02s\n",
      "epoch 122| loss: 0.15178 | train_auc: 0.60033 |  0:00:02s\n",
      "epoch 123| loss: 0.15614 | train_auc: 0.60289 |  0:00:02s\n",
      "epoch 124| loss: 0.15463 | train_auc: 0.60829 |  0:00:02s\n",
      "epoch 125| loss: 0.11089 | train_auc: 0.60792 |  0:00:02s\n",
      "epoch 126| loss: 0.14017 | train_auc: 0.60618 |  0:00:02s\n",
      "epoch 127| loss: 0.21188 | train_auc: 0.60541 |  0:00:02s\n",
      "epoch 128| loss: 0.18153 | train_auc: 0.60473 |  0:00:02s\n",
      "epoch 129| loss: 0.16761 | train_auc: 0.60487 |  0:00:02s\n",
      "epoch 130| loss: 0.18598 | train_auc: 0.60349 |  0:00:02s\n",
      "epoch 131| loss: 0.12795 | train_auc: 0.60104 |  0:00:02s\n",
      "epoch 132| loss: 0.13966 | train_auc: 0.59962 |  0:00:02s\n",
      "epoch 133| loss: 0.17702 | train_auc: 0.60339 |  0:00:02s\n",
      "epoch 134| loss: 0.10372 | train_auc: 0.60795 |  0:00:02s\n",
      "epoch 135| loss: 0.11407 | train_auc: 0.61336 |  0:00:02s\n",
      "epoch 136| loss: 0.131   | train_auc: 0.62104 |  0:00:02s\n",
      "epoch 137| loss: 0.1796  | train_auc: 0.63137 |  0:00:02s\n",
      "epoch 138| loss: 0.10694 | train_auc: 0.63624 |  0:00:02s\n",
      "epoch 139| loss: 0.12241 | train_auc: 0.64158 |  0:00:02s\n",
      "epoch 140| loss: 0.16315 | train_auc: 0.64119 |  0:00:02s\n",
      "epoch 141| loss: 0.13756 | train_auc: 0.6395  |  0:00:02s\n",
      "epoch 142| loss: 0.12909 | train_auc: 0.6388  |  0:00:02s\n",
      "epoch 143| loss: 0.12933 | train_auc: 0.63844 |  0:00:02s\n",
      "epoch 144| loss: 0.18682 | train_auc: 0.63566 |  0:00:02s\n",
      "epoch 145| loss: 0.1367  | train_auc: 0.63601 |  0:00:02s\n",
      "epoch 146| loss: 0.15862 | train_auc: 0.63396 |  0:00:02s\n",
      "epoch 147| loss: 0.15122 | train_auc: 0.63365 |  0:00:02s\n",
      "epoch 148| loss: 0.17761 | train_auc: 0.63396 |  0:00:02s\n",
      "epoch 149| loss: 0.10939 | train_auc: 0.63237 |  0:00:02s\n",
      "epoch 150| loss: 0.12624 | train_auc: 0.63111 |  0:00:02s\n",
      "epoch 151| loss: 0.13096 | train_auc: 0.6303  |  0:00:02s\n",
      "epoch 152| loss: 0.09492 | train_auc: 0.63061 |  0:00:02s\n",
      "epoch 153| loss: 0.12572 | train_auc: 0.6299  |  0:00:02s\n",
      "epoch 154| loss: 0.19859 | train_auc: 0.63083 |  0:00:02s\n",
      "epoch 155| loss: 0.15345 | train_auc: 0.63246 |  0:00:02s\n",
      "epoch 156| loss: 0.11136 | train_auc: 0.63491 |  0:00:02s\n",
      "epoch 157| loss: 0.10431 | train_auc: 0.63733 |  0:00:02s\n",
      "epoch 158| loss: 0.08905 | train_auc: 0.64175 |  0:00:02s\n",
      "epoch 159| loss: 0.11848 | train_auc: 0.64493 |  0:00:02s\n",
      "epoch 160| loss: 0.15975 | train_auc: 0.64589 |  0:00:02s\n",
      "epoch 161| loss: 0.15692 | train_auc: 0.64918 |  0:00:02s\n",
      "epoch 162| loss: 0.17772 | train_auc: 0.65422 |  0:00:02s\n",
      "epoch 163| loss: 0.10133 | train_auc: 0.65855 |  0:00:02s\n",
      "epoch 164| loss: 0.17435 | train_auc: 0.66235 |  0:00:02s\n",
      "epoch 165| loss: 0.21015 | train_auc: 0.66494 |  0:00:02s\n",
      "epoch 166| loss: 0.16499 | train_auc: 0.66576 |  0:00:03s\n",
      "epoch 167| loss: 0.10179 | train_auc: 0.66581 |  0:00:03s\n",
      "epoch 168| loss: 0.05588 | train_auc: 0.66759 |  0:00:03s\n",
      "epoch 169| loss: 0.13278 | train_auc: 0.66722 |  0:00:03s\n",
      "epoch 170| loss: 0.14083 | train_auc: 0.66514 |  0:00:03s\n",
      "epoch 171| loss: 0.09612 | train_auc: 0.66221 |  0:00:03s\n",
      "epoch 172| loss: 0.11058 | train_auc: 0.66166 |  0:00:03s\n",
      "epoch 173| loss: 0.10974 | train_auc: 0.66548 |  0:00:03s\n",
      "epoch 174| loss: 0.13051 | train_auc: 0.67139 |  0:00:03s\n",
      "epoch 175| loss: 0.09365 | train_auc: 0.678   |  0:00:03s\n",
      "epoch 176| loss: 0.10867 | train_auc: 0.68517 |  0:00:03s\n",
      "epoch 177| loss: 0.1093  | train_auc: 0.69153 |  0:00:03s\n",
      "epoch 178| loss: 0.10706 | train_auc: 0.7004  |  0:00:03s\n",
      "epoch 179| loss: 0.10573 | train_auc: 0.70867 |  0:00:03s\n",
      "epoch 180| loss: 0.10754 | train_auc: 0.71751 |  0:00:03s\n",
      "epoch 181| loss: 0.11584 | train_auc: 0.723   |  0:00:03s\n",
      "epoch 182| loss: 0.12228 | train_auc: 0.72989 |  0:00:03s\n",
      "epoch 183| loss: 0.07106 | train_auc: 0.73566 |  0:00:03s\n",
      "epoch 184| loss: 0.11285 | train_auc: 0.73921 |  0:00:03s\n",
      "epoch 185| loss: 0.09096 | train_auc: 0.74129 |  0:00:03s\n",
      "epoch 186| loss: 0.14429 | train_auc: 0.74253 |  0:00:03s\n",
      "epoch 187| loss: 0.10248 | train_auc: 0.7425  |  0:00:03s\n",
      "epoch 188| loss: 0.09642 | train_auc: 0.7405  |  0:00:03s\n",
      "epoch 189| loss: 0.11281 | train_auc: 0.7387  |  0:00:03s\n",
      "epoch 190| loss: 0.22053 | train_auc: 0.73729 |  0:00:03s\n",
      "epoch 191| loss: 0.1056  | train_auc: 0.73501 |  0:00:03s\n",
      "epoch 192| loss: 0.13835 | train_auc: 0.72919 |  0:00:03s\n",
      "epoch 193| loss: 0.08714 | train_auc: 0.72531 |  0:00:03s\n",
      "epoch 194| loss: 0.08281 | train_auc: 0.72218 |  0:00:03s\n",
      "epoch 195| loss: 0.09517 | train_auc: 0.71959 |  0:00:03s\n",
      "epoch 196| loss: 0.1235  | train_auc: 0.71654 |  0:00:03s\n",
      "epoch 197| loss: 0.1366  | train_auc: 0.71526 |  0:00:03s\n",
      "epoch 198| loss: 0.13871 | train_auc: 0.71422 |  0:00:03s\n",
      "epoch 199| loss: 0.13041 | train_auc: 0.71356 |  0:00:03s\n",
      "epoch 200| loss: 0.09175 | train_auc: 0.71456 |  0:00:03s\n",
      "epoch 201| loss: 0.11713 | train_auc: 0.71647 |  0:00:03s\n",
      "epoch 202| loss: 0.09653 | train_auc: 0.72011 |  0:00:03s\n",
      "epoch 203| loss: 0.1087  | train_auc: 0.72284 |  0:00:03s\n",
      "epoch 204| loss: 0.08159 | train_auc: 0.72626 |  0:00:03s\n",
      "epoch 205| loss: 0.11212 | train_auc: 0.72939 |  0:00:03s\n",
      "epoch 206| loss: 0.11632 | train_auc: 0.732   |  0:00:03s\n",
      "epoch 207| loss: 0.09128 | train_auc: 0.73465 |  0:00:03s\n",
      "epoch 208| loss: 0.08082 | train_auc: 0.74244 |  0:00:03s\n",
      "epoch 209| loss: 0.07715 | train_auc: 0.74979 |  0:00:03s\n",
      "epoch 210| loss: 0.11527 | train_auc: 0.75899 |  0:00:03s\n",
      "epoch 211| loss: 0.09681 | train_auc: 0.76814 |  0:00:03s\n",
      "epoch 212| loss: 0.10994 | train_auc: 0.77875 |  0:00:03s\n",
      "epoch 213| loss: 0.06117 | train_auc: 0.79107 |  0:00:03s\n",
      "epoch 214| loss: 0.10144 | train_auc: 0.79862 |  0:00:03s\n",
      "epoch 215| loss: 0.10787 | train_auc: 0.8043  |  0:00:03s\n",
      "epoch 216| loss: 0.08851 | train_auc: 0.80858 |  0:00:03s\n",
      "epoch 217| loss: 0.09135 | train_auc: 0.81311 |  0:00:03s\n",
      "epoch 218| loss: 0.07953 | train_auc: 0.81725 |  0:00:03s\n",
      "epoch 219| loss: 0.08358 | train_auc: 0.82031 |  0:00:03s\n",
      "epoch 220| loss: 0.15801 | train_auc: 0.82465 |  0:00:03s\n",
      "epoch 221| loss: 0.07847 | train_auc: 0.82774 |  0:00:03s\n",
      "epoch 222| loss: 0.13087 | train_auc: 0.82816 |  0:00:03s\n",
      "epoch 223| loss: 0.09387 | train_auc: 0.82985 |  0:00:03s\n",
      "epoch 224| loss: 0.07906 | train_auc: 0.83163 |  0:00:03s\n",
      "epoch 225| loss: 0.07073 | train_auc: 0.83315 |  0:00:03s\n",
      "epoch 226| loss: 0.06081 | train_auc: 0.83503 |  0:00:03s\n",
      "epoch 227| loss: 0.09635 | train_auc: 0.83647 |  0:00:04s\n",
      "epoch 228| loss: 0.15918 | train_auc: 0.83922 |  0:00:04s\n",
      "epoch 229| loss: 0.06759 | train_auc: 0.84209 |  0:00:04s\n",
      "epoch 230| loss: 0.08995 | train_auc: 0.84623 |  0:00:04s\n",
      "epoch 231| loss: 0.06873 | train_auc: 0.84882 |  0:00:04s\n",
      "epoch 232| loss: 0.09401 | train_auc: 0.85054 |  0:00:04s\n",
      "epoch 233| loss: 0.0791  | train_auc: 0.85144 |  0:00:04s\n",
      "epoch 234| loss: 0.12489 | train_auc: 0.85391 |  0:00:04s\n",
      "epoch 235| loss: 0.12053 | train_auc: 0.85625 |  0:00:04s\n",
      "epoch 236| loss: 0.13149 | train_auc: 0.86036 |  0:00:04s\n",
      "epoch 237| loss: 0.10956 | train_auc: 0.8652  |  0:00:04s\n",
      "epoch 238| loss: 0.09648 | train_auc: 0.87029 |  0:00:04s\n",
      "epoch 239| loss: 0.07502 | train_auc: 0.87544 |  0:00:04s\n",
      "epoch 240| loss: 0.09155 | train_auc: 0.87935 |  0:00:04s\n",
      "epoch 241| loss: 0.12214 | train_auc: 0.88276 |  0:00:04s\n",
      "epoch 242| loss: 0.08088 | train_auc: 0.88667 |  0:00:04s\n",
      "epoch 243| loss: 0.11167 | train_auc: 0.88783 |  0:00:04s\n",
      "epoch 244| loss: 0.05661 | train_auc: 0.88791 |  0:00:04s\n",
      "epoch 245| loss: 0.07655 | train_auc: 0.8883  |  0:00:04s\n",
      "epoch 246| loss: 0.07183 | train_auc: 0.88853 |  0:00:04s\n",
      "epoch 247| loss: 0.10974 | train_auc: 0.89016 |  0:00:04s\n",
      "epoch 248| loss: 0.11314 | train_auc: 0.89216 |  0:00:04s\n",
      "epoch 249| loss: 0.10277 | train_auc: 0.8952  |  0:00:04s\n",
      "epoch 250| loss: 0.06566 | train_auc: 0.89835 |  0:00:04s\n",
      "epoch 251| loss: 0.07518 | train_auc: 0.90164 |  0:00:04s\n",
      "epoch 252| loss: 0.06014 | train_auc: 0.9042  |  0:00:04s\n",
      "epoch 253| loss: 0.13667 | train_auc: 0.9057  |  0:00:04s\n",
      "epoch 254| loss: 0.15268 | train_auc: 0.90817 |  0:00:04s\n",
      "epoch 255| loss: 0.08766 | train_auc: 0.91279 |  0:00:04s\n",
      "epoch 256| loss: 0.04982 | train_auc: 0.91681 |  0:00:04s\n",
      "epoch 257| loss: 0.10206 | train_auc: 0.92103 |  0:00:04s\n",
      "epoch 258| loss: 0.14274 | train_auc: 0.92399 |  0:00:04s\n",
      "epoch 259| loss: 0.07353 | train_auc: 0.92514 |  0:00:04s\n",
      "epoch 260| loss: 0.05053 | train_auc: 0.92692 |  0:00:04s\n",
      "epoch 261| loss: 0.09069 | train_auc: 0.92869 |  0:00:04s\n",
      "epoch 262| loss: 0.1047  | train_auc: 0.93102 |  0:00:04s\n",
      "epoch 263| loss: 0.12207 | train_auc: 0.93139 |  0:00:04s\n",
      "epoch 264| loss: 0.1566  | train_auc: 0.93173 |  0:00:04s\n",
      "epoch 265| loss: 0.12355 | train_auc: 0.93409 |  0:00:04s\n",
      "epoch 266| loss: 0.07228 | train_auc: 0.9364  |  0:00:04s\n",
      "epoch 267| loss: 0.09177 | train_auc: 0.93862 |  0:00:04s\n",
      "epoch 268| loss: 0.05342 | train_auc: 0.93786 |  0:00:04s\n",
      "epoch 269| loss: 0.12704 | train_auc: 0.93716 |  0:00:04s\n",
      "epoch 270| loss: 0.11669 | train_auc: 0.93772 |  0:00:04s\n",
      "epoch 271| loss: 0.11268 | train_auc: 0.93828 |  0:00:04s\n",
      "epoch 272| loss: 0.06899 | train_auc: 0.93919 |  0:00:04s\n",
      "epoch 273| loss: 0.06117 | train_auc: 0.93944 |  0:00:04s\n",
      "epoch 274| loss: 0.07755 | train_auc: 0.94087 |  0:00:04s\n",
      "epoch 275| loss: 0.09035 | train_auc: 0.9422  |  0:00:04s\n",
      "epoch 276| loss: 0.09642 | train_auc: 0.94369 |  0:00:04s\n",
      "epoch 277| loss: 0.1018  | train_auc: 0.94369 |  0:00:04s\n",
      "epoch 278| loss: 0.11108 | train_auc: 0.94585 |  0:00:04s\n",
      "epoch 279| loss: 0.10821 | train_auc: 0.94752 |  0:00:04s\n",
      "epoch 280| loss: 0.13203 | train_auc: 0.94946 |  0:00:04s\n",
      "epoch 281| loss: 0.06858 | train_auc: 0.95053 |  0:00:04s\n",
      "epoch 282| loss: 0.06689 | train_auc: 0.95044 |  0:00:04s\n",
      "epoch 283| loss: 0.15111 | train_auc: 0.95129 |  0:00:05s\n",
      "epoch 284| loss: 0.09837 | train_auc: 0.95312 |  0:00:05s\n",
      "epoch 285| loss: 0.07377 | train_auc: 0.95435 |  0:00:05s\n",
      "epoch 286| loss: 0.07895 | train_auc: 0.95551 |  0:00:05s\n",
      "epoch 287| loss: 0.07186 | train_auc: 0.95621 |  0:00:05s\n",
      "epoch 288| loss: 0.10486 | train_auc: 0.95706 |  0:00:05s\n",
      "epoch 289| loss: 0.0799  | train_auc: 0.95798 |  0:00:05s\n",
      "epoch 290| loss: 0.07864 | train_auc: 0.95798 |  0:00:05s\n",
      "epoch 291| loss: 0.07903 | train_auc: 0.95832 |  0:00:05s\n",
      "epoch 292| loss: 0.07195 | train_auc: 0.95914 |  0:00:05s\n",
      "epoch 293| loss: 0.09231 | train_auc: 0.95998 |  0:00:05s\n",
      "epoch 294| loss: 0.10588 | train_auc: 0.95914 |  0:00:05s\n",
      "epoch 295| loss: 0.12243 | train_auc: 0.95886 |  0:00:05s\n",
      "epoch 296| loss: 0.0729  | train_auc: 0.95832 |  0:00:05s\n",
      "epoch 297| loss: 0.1001  | train_auc: 0.95812 |  0:00:05s\n",
      "epoch 298| loss: 0.1045  | train_auc: 0.95857 |  0:00:05s\n",
      "epoch 299| loss: 0.13757 | train_auc: 0.9599  |  0:00:05s\n",
      "epoch 300| loss: 0.09748 | train_auc: 0.96111 |  0:00:05s\n",
      "epoch 301| loss: 0.08294 | train_auc: 0.96192 |  0:00:05s\n",
      "epoch 302| loss: 0.07999 | train_auc: 0.96302 |  0:00:05s\n",
      "epoch 303| loss: 0.1012  | train_auc: 0.96389 |  0:00:05s\n",
      "epoch 304| loss: 0.10366 | train_auc: 0.96502 |  0:00:05s\n",
      "epoch 305| loss: 0.11674 | train_auc: 0.96533 |  0:00:05s\n",
      "epoch 306| loss: 0.09905 | train_auc: 0.9642  |  0:00:05s\n",
      "epoch 307| loss: 0.0546  | train_auc: 0.96401 |  0:00:05s\n",
      "epoch 308| loss: 0.07689 | train_auc: 0.96446 |  0:00:05s\n",
      "epoch 309| loss: 0.06297 | train_auc: 0.96477 |  0:00:05s\n",
      "epoch 310| loss: 0.11209 | train_auc: 0.96477 |  0:00:05s\n",
      "epoch 311| loss: 0.10179 | train_auc: 0.96451 |  0:00:05s\n",
      "epoch 312| loss: 0.08646 | train_auc: 0.96429 |  0:00:05s\n",
      "epoch 313| loss: 0.11951 | train_auc: 0.96498 |  0:00:05s\n",
      "epoch 314| loss: 0.12892 | train_auc: 0.96555 |  0:00:05s\n",
      "epoch 315| loss: 0.088   | train_auc: 0.96598 |  0:00:05s\n",
      "epoch 316| loss: 0.16431 | train_auc: 0.96592 |  0:00:05s\n",
      "epoch 317| loss: 0.08981 | train_auc: 0.96674 |  0:00:05s\n",
      "epoch 318| loss: 0.12342 | train_auc: 0.96774 |  0:00:05s\n",
      "epoch 319| loss: 0.08231 | train_auc: 0.96862 |  0:00:05s\n",
      "epoch 320| loss: 0.07523 | train_auc: 0.96893 |  0:00:05s\n",
      "epoch 321| loss: 0.06499 | train_auc: 0.96907 |  0:00:05s\n",
      "epoch 322| loss: 0.07193 | train_auc: 0.96961 |  0:00:05s\n",
      "epoch 323| loss: 0.06288 | train_auc: 0.96947 |  0:00:05s\n",
      "epoch 324| loss: 0.08256 | train_auc: 0.9702  |  0:00:05s\n",
      "epoch 325| loss: 0.08119 | train_auc: 0.97402 |  0:00:05s\n",
      "epoch 326| loss: 0.05761 | train_auc: 0.97464 |  0:00:05s\n",
      "epoch 327| loss: 0.07672 | train_auc: 0.9747  |  0:00:05s\n",
      "epoch 328| loss: 0.08145 | train_auc: 0.97501 |  0:00:05s\n",
      "epoch 329| loss: 0.09531 | train_auc: 0.97464 |  0:00:05s\n",
      "epoch 330| loss: 0.13229 | train_auc: 0.97498 |  0:00:05s\n",
      "epoch 331| loss: 0.087   | train_auc: 0.97495 |  0:00:05s\n",
      "epoch 332| loss: 0.10425 | train_auc: 0.97493 |  0:00:05s\n",
      "epoch 333| loss: 0.08092 | train_auc: 0.97515 |  0:00:05s\n",
      "epoch 334| loss: 0.06983 | train_auc: 0.97487 |  0:00:05s\n",
      "epoch 335| loss: 0.09388 | train_auc: 0.97464 |  0:00:05s\n",
      "epoch 336| loss: 0.06161 | train_auc: 0.9749  |  0:00:05s\n",
      "epoch 337| loss: 0.11195 | train_auc: 0.97467 |  0:00:05s\n",
      "epoch 338| loss: 0.1161  | train_auc: 0.97501 |  0:00:05s\n",
      "epoch 339| loss: 0.08955 | train_auc: 0.97493 |  0:00:05s\n",
      "epoch 340| loss: 0.06644 | train_auc: 0.97462 |  0:00:05s\n",
      "epoch 341| loss: 0.0975  | train_auc: 0.97433 |  0:00:05s\n",
      "epoch 342| loss: 0.0997  | train_auc: 0.97453 |  0:00:05s\n",
      "epoch 343| loss: 0.07378 | train_auc: 0.97495 |  0:00:05s\n",
      "epoch 344| loss: 0.10552 | train_auc: 0.9758  |  0:00:05s\n",
      "epoch 345| loss: 0.10902 | train_auc: 0.97566 |  0:00:05s\n",
      "epoch 346| loss: 0.06776 | train_auc: 0.9749  |  0:00:06s\n",
      "epoch 347| loss: 0.08812 | train_auc: 0.97448 |  0:00:06s\n",
      "epoch 348| loss: 0.11747 | train_auc: 0.97431 |  0:00:06s\n",
      "epoch 349| loss: 0.05694 | train_auc: 0.97431 |  0:00:06s\n",
      "epoch 350| loss: 0.07039 | train_auc: 0.97408 |  0:00:06s\n",
      "epoch 351| loss: 0.06508 | train_auc: 0.97453 |  0:00:06s\n",
      "epoch 352| loss: 0.09583 | train_auc: 0.97431 |  0:00:06s\n",
      "epoch 353| loss: 0.08218 | train_auc: 0.97459 |  0:00:06s\n",
      "epoch 354| loss: 0.07657 | train_auc: 0.97529 |  0:00:06s\n",
      "epoch 355| loss: 0.10232 | train_auc: 0.97602 |  0:00:06s\n",
      "epoch 356| loss: 0.05837 | train_auc: 0.9769  |  0:00:06s\n",
      "epoch 357| loss: 0.10086 | train_auc: 0.97771 |  0:00:06s\n",
      "epoch 358| loss: 0.10143 | train_auc: 0.97858 |  0:00:06s\n",
      "epoch 359| loss: 0.10359 | train_auc: 0.97912 |  0:00:06s\n",
      "epoch 360| loss: 0.06019 | train_auc: 0.97993 |  0:00:06s\n",
      "epoch 361| loss: 0.06554 | train_auc: 0.98038 |  0:00:06s\n",
      "epoch 362| loss: 0.06332 | train_auc: 0.98069 |  0:00:06s\n",
      "epoch 363| loss: 0.09909 | train_auc: 0.98106 |  0:00:06s\n",
      "epoch 364| loss: 0.09544 | train_auc: 0.98182 |  0:00:06s\n",
      "epoch 365| loss: 0.07117 | train_auc: 0.98247 |  0:00:06s\n",
      "epoch 366| loss: 0.08272 | train_auc: 0.98281 |  0:00:06s\n",
      "epoch 367| loss: 0.06303 | train_auc: 0.98337 |  0:00:06s\n",
      "epoch 368| loss: 0.07369 | train_auc: 0.98427 |  0:00:06s\n",
      "epoch 369| loss: 0.08163 | train_auc: 0.98542 |  0:00:06s\n",
      "epoch 370| loss: 0.10197 | train_auc: 0.98655 |  0:00:06s\n",
      "epoch 371| loss: 0.09257 | train_auc: 0.987   |  0:00:06s\n",
      "epoch 372| loss: 0.05754 | train_auc: 0.98801 |  0:00:06s\n",
      "epoch 373| loss: 0.06202 | train_auc: 0.98843 |  0:00:06s\n",
      "epoch 374| loss: 0.08626 | train_auc: 0.98888 |  0:00:06s\n",
      "epoch 375| loss: 0.05899 | train_auc: 0.98917 |  0:00:06s\n",
      "epoch 376| loss: 0.06394 | train_auc: 0.98936 |  0:00:06s\n",
      "epoch 377| loss: 0.09038 | train_auc: 0.98942 |  0:00:06s\n",
      "epoch 378| loss: 0.10667 | train_auc: 0.98959 |  0:00:06s\n",
      "epoch 379| loss: 0.03538 | train_auc: 0.98953 |  0:00:06s\n",
      "epoch 380| loss: 0.07888 | train_auc: 0.98956 |  0:00:06s\n",
      "epoch 381| loss: 0.11482 | train_auc: 0.98945 |  0:00:06s\n",
      "epoch 382| loss: 0.07745 | train_auc: 0.98928 |  0:00:06s\n",
      "epoch 383| loss: 0.13846 | train_auc: 0.98917 |  0:00:06s\n",
      "epoch 384| loss: 0.07333 | train_auc: 0.98877 |  0:00:06s\n",
      "epoch 385| loss: 0.06748 | train_auc: 0.9886  |  0:00:06s\n",
      "epoch 386| loss: 0.0473  | train_auc: 0.98874 |  0:00:06s\n",
      "epoch 387| loss: 0.03871 | train_auc: 0.98902 |  0:00:06s\n",
      "epoch 388| loss: 0.10284 | train_auc: 0.98939 |  0:00:06s\n",
      "epoch 389| loss: 0.06193 | train_auc: 0.99012 |  0:00:06s\n",
      "epoch 390| loss: 0.09959 | train_auc: 0.9904  |  0:00:06s\n",
      "epoch 391| loss: 0.07524 | train_auc: 0.99063 |  0:00:06s\n",
      "epoch 392| loss: 0.07899 | train_auc: 0.9908  |  0:00:06s\n",
      "epoch 393| loss: 0.11695 | train_auc: 0.9908  |  0:00:06s\n",
      "epoch 394| loss: 0.07086 | train_auc: 0.99088 |  0:00:06s\n",
      "epoch 395| loss: 0.07327 | train_auc: 0.99108 |  0:00:06s\n",
      "epoch 396| loss: 0.05111 | train_auc: 0.99153 |  0:00:06s\n",
      "epoch 397| loss: 0.11267 | train_auc: 0.99187 |  0:00:06s\n",
      "epoch 398| loss: 0.09295 | train_auc: 0.99229 |  0:00:06s\n",
      "epoch 399| loss: 0.11285 | train_auc: 0.99364 |  0:00:06s\n",
      "epoch 400| loss: 0.10762 | train_auc: 0.99434 |  0:00:06s\n",
      "epoch 401| loss: 0.10983 | train_auc: 0.99479 |  0:00:06s\n",
      "epoch 402| loss: 0.06114 | train_auc: 0.99485 |  0:00:06s\n",
      "epoch 403| loss: 0.10304 | train_auc: 0.9951  |  0:00:06s\n",
      "epoch 404| loss: 0.05962 | train_auc: 0.99502 |  0:00:06s\n",
      "epoch 405| loss: 0.1616  | train_auc: 0.99493 |  0:00:07s\n",
      "epoch 406| loss: 0.07519 | train_auc: 0.99491 |  0:00:07s\n",
      "epoch 407| loss: 0.10582 | train_auc: 0.99493 |  0:00:07s\n",
      "epoch 408| loss: 0.07296 | train_auc: 0.9953  |  0:00:07s\n",
      "epoch 409| loss: 0.056   | train_auc: 0.9953  |  0:00:07s\n",
      "epoch 410| loss: 0.06988 | train_auc: 0.99547 |  0:00:07s\n",
      "epoch 411| loss: 0.09669 | train_auc: 0.99569 |  0:00:07s\n",
      "epoch 412| loss: 0.09084 | train_auc: 0.99606 |  0:00:07s\n",
      "epoch 413| loss: 0.10092 | train_auc: 0.99648 |  0:00:07s\n",
      "epoch 414| loss: 0.05757 | train_auc: 0.9969  |  0:00:07s\n",
      "epoch 415| loss: 0.0882  | train_auc: 0.99702 |  0:00:07s\n",
      "epoch 416| loss: 0.08616 | train_auc: 0.99702 |  0:00:07s\n",
      "epoch 417| loss: 0.07684 | train_auc: 0.99721 |  0:00:07s\n",
      "epoch 418| loss: 0.06285 | train_auc: 0.99713 |  0:00:07s\n",
      "epoch 419| loss: 0.11023 | train_auc: 0.99727 |  0:00:07s\n",
      "epoch 420| loss: 0.08578 | train_auc: 0.9975  |  0:00:07s\n",
      "epoch 421| loss: 0.07548 | train_auc: 0.99758 |  0:00:07s\n",
      "epoch 422| loss: 0.08348 | train_auc: 0.9978  |  0:00:07s\n",
      "epoch 423| loss: 0.05504 | train_auc: 0.99786 |  0:00:07s\n",
      "epoch 424| loss: 0.0595  | train_auc: 0.99789 |  0:00:07s\n",
      "epoch 425| loss: 0.06762 | train_auc: 0.9982  |  0:00:07s\n",
      "epoch 426| loss: 0.08114 | train_auc: 0.99851 |  0:00:07s\n",
      "epoch 427| loss: 0.09873 | train_auc: 0.99873 |  0:00:07s\n",
      "epoch 428| loss: 0.04568 | train_auc: 0.99893 |  0:00:07s\n",
      "epoch 429| loss: 0.08109 | train_auc: 0.99887 |  0:00:07s\n",
      "epoch 430| loss: 0.10717 | train_auc: 0.99868 |  0:00:07s\n",
      "epoch 431| loss: 0.10038 | train_auc: 0.99862 |  0:00:07s\n",
      "epoch 432| loss: 0.07478 | train_auc: 0.99859 |  0:00:07s\n",
      "epoch 433| loss: 0.05344 | train_auc: 0.99859 |  0:00:07s\n",
      "epoch 434| loss: 0.07687 | train_auc: 0.99859 |  0:00:07s\n",
      "epoch 435| loss: 0.08251 | train_auc: 0.99868 |  0:00:07s\n",
      "epoch 436| loss: 0.12724 | train_auc: 0.99879 |  0:00:07s\n",
      "epoch 437| loss: 0.07349 | train_auc: 0.99893 |  0:00:07s\n",
      "epoch 438| loss: 0.10461 | train_auc: 0.9989  |  0:00:07s\n",
      "epoch 439| loss: 0.11947 | train_auc: 0.99902 |  0:00:07s\n",
      "epoch 440| loss: 0.07585 | train_auc: 0.99907 |  0:00:07s\n",
      "epoch 441| loss: 0.10212 | train_auc: 0.9991  |  0:00:07s\n",
      "epoch 442| loss: 0.08517 | train_auc: 0.99907 |  0:00:07s\n",
      "epoch 443| loss: 0.0985  | train_auc: 0.99904 |  0:00:07s\n",
      "epoch 444| loss: 0.09066 | train_auc: 0.99902 |  0:00:07s\n",
      "epoch 445| loss: 0.0645  | train_auc: 0.99893 |  0:00:07s\n",
      "epoch 446| loss: 0.05902 | train_auc: 0.99896 |  0:00:07s\n",
      "epoch 447| loss: 0.08257 | train_auc: 0.99893 |  0:00:07s\n",
      "epoch 448| loss: 0.04633 | train_auc: 0.99885 |  0:00:07s\n",
      "epoch 449| loss: 0.04533 | train_auc: 0.99885 |  0:00:07s\n",
      "epoch 450| loss: 0.04806 | train_auc: 0.99882 |  0:00:07s\n",
      "epoch 451| loss: 0.05832 | train_auc: 0.99879 |  0:00:07s\n",
      "epoch 452| loss: 0.09468 | train_auc: 0.99893 |  0:00:07s\n",
      "epoch 453| loss: 0.0568  | train_auc: 0.99902 |  0:00:07s\n",
      "epoch 454| loss: 0.09844 | train_auc: 0.99904 |  0:00:07s\n",
      "epoch 455| loss: 0.14156 | train_auc: 0.99893 |  0:00:07s\n",
      "epoch 456| loss: 0.08637 | train_auc: 0.99896 |  0:00:07s\n",
      "epoch 457| loss: 0.05289 | train_auc: 0.99879 |  0:00:07s\n",
      "epoch 458| loss: 0.10159 | train_auc: 0.99879 |  0:00:07s\n",
      "epoch 459| loss: 0.05453 | train_auc: 0.99871 |  0:00:07s\n",
      "epoch 460| loss: 0.07618 | train_auc: 0.99871 |  0:00:07s\n",
      "epoch 461| loss: 0.05436 | train_auc: 0.99868 |  0:00:07s\n",
      "epoch 462| loss: 0.06478 | train_auc: 0.99907 |  0:00:07s\n",
      "epoch 463| loss: 0.09448 | train_auc: 0.99935 |  0:00:07s\n",
      "epoch 464| loss: 0.03641 | train_auc: 0.99941 |  0:00:07s\n",
      "epoch 465| loss: 0.09489 | train_auc: 0.99952 |  0:00:07s\n",
      "epoch 466| loss: 0.09916 | train_auc: 0.99961 |  0:00:07s\n",
      "epoch 467| loss: 0.08745 | train_auc: 0.99972 |  0:00:07s\n",
      "epoch 468| loss: 0.09558 | train_auc: 0.9998  |  0:00:08s\n",
      "epoch 469| loss: 0.11608 | train_auc: 0.99983 |  0:00:08s\n",
      "epoch 470| loss: 0.06127 | train_auc: 0.99986 |  0:00:08s\n",
      "epoch 471| loss: 0.08216 | train_auc: 0.99989 |  0:00:08s\n",
      "epoch 472| loss: 0.05632 | train_auc: 0.99992 |  0:00:08s\n",
      "epoch 473| loss: 0.07432 | train_auc: 0.99992 |  0:00:08s\n",
      "epoch 474| loss: 0.04274 | train_auc: 0.99992 |  0:00:08s\n",
      "epoch 475| loss: 0.08596 | train_auc: 0.99994 |  0:00:08s\n",
      "epoch 476| loss: 0.07462 | train_auc: 0.99994 |  0:00:08s\n",
      "epoch 477| loss: 0.04488 | train_auc: 0.99989 |  0:00:08s\n",
      "epoch 478| loss: 0.04955 | train_auc: 0.99989 |  0:00:08s\n",
      "epoch 479| loss: 0.07098 | train_auc: 0.99989 |  0:00:08s\n",
      "epoch 480| loss: 0.09057 | train_auc: 0.99989 |  0:00:08s\n",
      "epoch 481| loss: 0.07172 | train_auc: 0.99989 |  0:00:08s\n",
      "epoch 482| loss: 0.07659 | train_auc: 0.99989 |  0:00:08s\n",
      "epoch 483| loss: 0.08691 | train_auc: 0.99989 |  0:00:08s\n",
      "epoch 484| loss: 0.05366 | train_auc: 0.99992 |  0:00:08s\n",
      "epoch 485| loss: 0.09664 | train_auc: 0.99992 |  0:00:08s\n",
      "epoch 486| loss: 0.11672 | train_auc: 0.99994 |  0:00:08s\n",
      "epoch 487| loss: 0.053   | train_auc: 0.99994 |  0:00:08s\n",
      "epoch 488| loss: 0.04537 | train_auc: 0.99994 |  0:00:08s\n",
      "epoch 489| loss: 0.07599 | train_auc: 0.99994 |  0:00:08s\n",
      "epoch 490| loss: 0.06896 | train_auc: 0.99994 |  0:00:08s\n",
      "epoch 491| loss: 0.06518 | train_auc: 1.0     |  0:00:08s\n",
      "epoch 492| loss: 0.10139 | train_auc: 1.0     |  0:00:08s\n",
      "epoch 493| loss: 0.09928 | train_auc: 1.0     |  0:00:08s\n",
      "epoch 494| loss: 0.06321 | train_auc: 1.0     |  0:00:08s\n",
      "epoch 495| loss: 0.07045 | train_auc: 1.0     |  0:00:08s\n",
      "epoch 496| loss: 0.11666 | train_auc: 1.0     |  0:00:08s\n",
      "epoch 497| loss: 0.11421 | train_auc: 1.0     |  0:00:08s\n",
      "epoch 498| loss: 0.08221 | train_auc: 1.0     |  0:00:08s\n",
      "epoch 499| loss: 0.0793  | train_auc: 1.0     |  0:00:08s\n",
      "epoch 500| loss: 0.04232 | train_auc: 1.0     |  0:00:08s\n",
      "epoch 501| loss: 0.05299 | train_auc: 1.0     |  0:00:08s\n",
      "epoch 502| loss: 0.06921 | train_auc: 1.0     |  0:00:08s\n",
      "epoch 503| loss: 0.08828 | train_auc: 1.0     |  0:00:08s\n",
      "epoch 504| loss: 0.11225 | train_auc: 1.0     |  0:00:08s\n",
      "epoch 505| loss: 0.04019 | train_auc: 1.0     |  0:00:08s\n",
      "epoch 506| loss: 0.11864 | train_auc: 1.0     |  0:00:08s\n",
      "epoch 507| loss: 0.04671 | train_auc: 1.0     |  0:00:08s\n",
      "epoch 508| loss: 0.04363 | train_auc: 1.0     |  0:00:08s\n",
      "epoch 509| loss: 0.04966 | train_auc: 1.0     |  0:00:08s\n",
      "epoch 510| loss: 0.06721 | train_auc: 1.0     |  0:00:08s\n",
      "epoch 511| loss: 0.04775 | train_auc: 1.0     |  0:00:08s\n",
      "epoch 512| loss: 0.13337 | train_auc: 1.0     |  0:00:08s\n",
      "epoch 513| loss: 0.06309 | train_auc: 1.0     |  0:00:08s\n",
      "epoch 514| loss: 0.06211 | train_auc: 1.0     |  0:00:08s\n",
      "epoch 515| loss: 0.07893 | train_auc: 1.0     |  0:00:08s\n",
      "epoch 516| loss: 0.11214 | train_auc: 1.0     |  0:00:08s\n",
      "epoch 517| loss: 0.06227 | train_auc: 1.0     |  0:00:08s\n",
      "epoch 518| loss: 0.07357 | train_auc: 1.0     |  0:00:08s\n",
      "epoch 519| loss: 0.06574 | train_auc: 1.0     |  0:00:08s\n",
      "epoch 520| loss: 0.0766  | train_auc: 1.0     |  0:00:08s\n",
      "epoch 521| loss: 0.11565 | train_auc: 1.0     |  0:00:08s\n",
      "epoch 522| loss: 0.07346 | train_auc: 1.0     |  0:00:08s\n",
      "epoch 523| loss: 0.09631 | train_auc: 1.0     |  0:00:08s\n",
      "epoch 524| loss: 0.07741 | train_auc: 1.0     |  0:00:08s\n",
      "epoch 525| loss: 0.06893 | train_auc: 1.0     |  0:00:08s\n",
      "epoch 526| loss: 0.0892  | train_auc: 1.0     |  0:00:08s\n",
      "epoch 527| loss: 0.09231 | train_auc: 1.0     |  0:00:08s\n",
      "epoch 528| loss: 0.03876 | train_auc: 1.0     |  0:00:08s\n",
      "epoch 529| loss: 0.04204 | train_auc: 1.0     |  0:00:08s\n",
      "epoch 530| loss: 0.06776 | train_auc: 1.0     |  0:00:08s\n",
      "epoch 531| loss: 0.06246 | train_auc: 1.0     |  0:00:09s\n",
      "epoch 532| loss: 0.06544 | train_auc: 1.0     |  0:00:09s\n",
      "epoch 533| loss: 0.04667 | train_auc: 1.0     |  0:00:09s\n",
      "epoch 534| loss: 0.07083 | train_auc: 1.0     |  0:00:09s\n",
      "epoch 535| loss: 0.07019 | train_auc: 1.0     |  0:00:09s\n",
      "epoch 536| loss: 0.07368 | train_auc: 1.0     |  0:00:09s\n",
      "epoch 537| loss: 0.05573 | train_auc: 1.0     |  0:00:09s\n",
      "epoch 538| loss: 0.09349 | train_auc: 1.0     |  0:00:09s\n",
      "epoch 539| loss: 0.05951 | train_auc: 1.0     |  0:00:09s\n",
      "epoch 540| loss: 0.05805 | train_auc: 1.0     |  0:00:09s\n",
      "epoch 541| loss: 0.06154 | train_auc: 1.0     |  0:00:09s\n",
      "epoch 542| loss: 0.10484 | train_auc: 1.0     |  0:00:09s\n",
      "epoch 543| loss: 0.12272 | train_auc: 1.0     |  0:00:09s\n",
      "epoch 544| loss: 0.04203 | train_auc: 1.0     |  0:00:09s\n",
      "epoch 545| loss: 0.08532 | train_auc: 1.0     |  0:00:09s\n",
      "epoch 546| loss: 0.05574 | train_auc: 1.0     |  0:00:09s\n",
      "epoch 547| loss: 0.0597  | train_auc: 1.0     |  0:00:09s\n",
      "epoch 548| loss: 0.07309 | train_auc: 1.0     |  0:00:09s\n",
      "epoch 549| loss: 0.08843 | train_auc: 1.0     |  0:00:09s\n",
      "epoch 550| loss: 0.0563  | train_auc: 1.0     |  0:00:09s\n",
      "epoch 551| loss: 0.06796 | train_auc: 1.0     |  0:00:09s\n",
      "epoch 552| loss: 0.0545  | train_auc: 1.0     |  0:00:09s\n",
      "epoch 553| loss: 0.09824 | train_auc: 1.0     |  0:00:09s\n",
      "epoch 554| loss: 0.05214 | train_auc: 1.0     |  0:00:09s\n",
      "epoch 555| loss: 0.05845 | train_auc: 1.0     |  0:00:09s\n",
      "epoch 556| loss: 0.07276 | train_auc: 1.0     |  0:00:09s\n",
      "epoch 557| loss: 0.10621 | train_auc: 1.0     |  0:00:09s\n",
      "epoch 558| loss: 0.07537 | train_auc: 1.0     |  0:00:09s\n",
      "epoch 559| loss: 0.08015 | train_auc: 1.0     |  0:00:09s\n",
      "epoch 560| loss: 0.12401 | train_auc: 1.0     |  0:00:09s\n",
      "epoch 561| loss: 0.10338 | train_auc: 1.0     |  0:00:09s\n",
      "epoch 562| loss: 0.10475 | train_auc: 1.0     |  0:00:09s\n",
      "epoch 563| loss: 0.08617 | train_auc: 1.0     |  0:00:09s\n",
      "epoch 564| loss: 0.05889 | train_auc: 1.0     |  0:00:09s\n",
      "epoch 565| loss: 0.06955 | train_auc: 1.0     |  0:00:09s\n",
      "epoch 566| loss: 0.05373 | train_auc: 1.0     |  0:00:09s\n",
      "epoch 567| loss: 0.0967  | train_auc: 1.0     |  0:00:09s\n",
      "epoch 568| loss: 0.07442 | train_auc: 1.0     |  0:00:09s\n",
      "epoch 569| loss: 0.05629 | train_auc: 1.0     |  0:00:09s\n",
      "epoch 570| loss: 0.08973 | train_auc: 1.0     |  0:00:09s\n",
      "epoch 571| loss: 0.06863 | train_auc: 1.0     |  0:00:09s\n",
      "epoch 572| loss: 0.07772 | train_auc: 1.0     |  0:00:09s\n",
      "epoch 573| loss: 0.0689  | train_auc: 1.0     |  0:00:09s\n",
      "epoch 574| loss: 0.07388 | train_auc: 1.0     |  0:00:09s\n",
      "epoch 575| loss: 0.05535 | train_auc: 1.0     |  0:00:09s\n",
      "epoch 576| loss: 0.03487 | train_auc: 1.0     |  0:00:09s\n",
      "epoch 577| loss: 0.08049 | train_auc: 1.0     |  0:00:09s\n",
      "epoch 578| loss: 0.05345 | train_auc: 1.0     |  0:00:09s\n",
      "epoch 579| loss: 0.09241 | train_auc: 1.0     |  0:00:09s\n",
      "epoch 580| loss: 0.10308 | train_auc: 1.0     |  0:00:09s\n",
      "epoch 581| loss: 0.10629 | train_auc: 1.0     |  0:00:09s\n",
      "epoch 582| loss: 0.0544  | train_auc: 1.0     |  0:00:09s\n",
      "epoch 583| loss: 0.09942 | train_auc: 1.0     |  0:00:09s\n",
      "epoch 584| loss: 0.07864 | train_auc: 1.0     |  0:00:09s\n",
      "epoch 585| loss: 0.07311 | train_auc: 1.0     |  0:00:09s\n",
      "epoch 586| loss: 0.08664 | train_auc: 1.0     |  0:00:09s\n",
      "epoch 587| loss: 0.07715 | train_auc: 1.0     |  0:00:09s\n",
      "epoch 588| loss: 0.04397 | train_auc: 1.0     |  0:00:09s\n",
      "epoch 589| loss: 0.07126 | train_auc: 1.0     |  0:00:09s\n",
      "epoch 590| loss: 0.07644 | train_auc: 1.0     |  0:00:09s\n",
      "epoch 591| loss: 0.0659  | train_auc: 1.0     |  0:00:09s\n",
      "\n",
      "Early stopping occurred at epoch 591 with best_epoch = 491 and best_train_auc = 1.0\n"
     ]
    },
    {
     "name": "stderr",
     "output_type": "stream",
     "text": [
      "/home/yoeriapts/workspace/tabnet/pytorch_tabnet/callbacks.py:172: UserWarning: Best weights from best epoch are automatically used!\n",
      "  warnings.warn(wrn_msg)\n"
     ]
    }
   ],
   "source": [
    "clf.fit(\n",
    "        X_train=X_df.values, y_train=y_df.values,\n",
    "        eval_set=[(X_df.values, y_df.values)],\n",
    "        eval_name=['train'],\n",
    "        eval_metric=['auc'],\n",
    "        max_epochs=max_epochs , patience=100,\n",
    "        batch_size=1024, virtual_batch_size=128,\n",
    "        num_workers=0,\n",
    "        weights=1,\n",
    "        drop_last=False,\n",
    "        augmentations=aug, #aug, None\n",
    "        compute_importance=False\n",
    "    )"
   ],
   "metadata": {
    "collapsed": false,
    "ExecuteTime": {
     "end_time": "2023-08-29T15:20:02.666476210Z",
     "start_time": "2023-08-29T15:19:52.079358194Z"
    }
   },
   "id": "1d6fe6a9aafad676"
  },
  {
   "cell_type": "code",
   "execution_count": null,
   "outputs": [],
   "source": [
    "# Train-Validation-Test spli"
   ],
   "metadata": {
    "collapsed": false
   },
   "id": "b64afd923108f94a"
  },
  {
   "cell_type": "code",
   "execution_count": 22,
   "outputs": [],
   "source": [
    "if 'set' not in df.columns:\n",
    "    df['set'] = np.random.choice([\"train\", \"valid\", \"test\"], p=[.8, .1, .1], size=(df.shape[0],))\n",
    "\n",
    "train_indices = df[df.set==\"train\"].index\n",
    "valid_indices = df[df.set==\"valid\"].index\n",
    "test_indices = df[df.set==\"test\"].index"
   ],
   "metadata": {
    "collapsed": false,
    "ExecuteTime": {
     "end_time": "2023-08-29T15:23:09.353775748Z",
     "start_time": "2023-08-29T15:23:09.293917416Z"
    }
   },
   "id": "9ebe7db5175f9edc"
  },
  {
   "cell_type": "code",
   "execution_count": 23,
   "outputs": [],
   "source": [
    "X_df = df.drop(columns=[\"HF\", \"patient_id\", \"set\"])\n",
    "y_df = df[\"HF\"]"
   ],
   "metadata": {
    "collapsed": false,
    "ExecuteTime": {
     "end_time": "2023-08-29T15:23:10.584100311Z",
     "start_time": "2023-08-29T15:23:10.556986916Z"
    }
   },
   "id": "a15ba7772da5d981"
  },
  {
   "cell_type": "code",
   "execution_count": 40,
   "outputs": [],
   "source": [
    "X_train = X_df.loc[train_indices]\n",
    "y_train = y_df.loc[train_indices]\n",
    "\n",
    "X_valid = X_df.loc[valid_indices]\n",
    "y_valid = y_df.loc[valid_indices]\n",
    "\n",
    "X_test = X_df.loc[test_indices]\n",
    "y_test = y_df.loc[test_indices]"
   ],
   "metadata": {
    "collapsed": false,
    "ExecuteTime": {
     "end_time": "2023-08-29T15:28:10.388210046Z",
     "start_time": "2023-08-29T15:28:10.353081658Z"
    }
   },
   "id": "45214e9b0ce04a54"
  },
  {
   "cell_type": "code",
   "execution_count": 74,
   "outputs": [
    {
     "name": "stderr",
     "output_type": "stream",
     "text": [
      "/home/yoeriapts/workspace/tabnet/pytorch_tabnet/abstract_model.py:82: UserWarning: Device used : cuda\n",
      "  warnings.warn(f\"Device used : {self.device}\")\n"
     ]
    }
   ],
   "source": [
    "tabnet_params = {\"cat_emb_dim\":2,\n",
    "                 \"optimizer_fn\":torch.optim.Adam,\n",
    "                 \"optimizer_params\":dict(lr=3e-2),\n",
    "                 \"scheduler_params\":{\"step_size\":25, # how to use learning rate scheduler\n",
    "                                 \"gamma\":0.95},\n",
    "                 \"scheduler_fn\":torch.optim.lr_scheduler.StepLR,\n",
    "                 \"mask_type\":'entmax', # \"sparsemax\"\n",
    "                }\n",
    "\n",
    "clf2 = TabNetClassifier(**tabnet_params)"
   ],
   "metadata": {
    "collapsed": false,
    "ExecuteTime": {
     "end_time": "2023-08-29T15:36:37.813022847Z",
     "start_time": "2023-08-29T15:36:37.764324385Z"
    }
   },
   "id": "631eba8ef79ea33f"
  },
  {
   "cell_type": "code",
   "execution_count": 76,
   "outputs": [],
   "source": [
    "max_epochs = 2000"
   ],
   "metadata": {
    "collapsed": false,
    "ExecuteTime": {
     "end_time": "2023-08-29T15:36:44.173697864Z",
     "start_time": "2023-08-29T15:36:44.137899703Z"
    }
   },
   "id": "ebc6c8de10bdefaf"
  },
  {
   "cell_type": "code",
   "execution_count": 103,
   "outputs": [
    {
     "name": "stdout",
     "output_type": "stream",
     "text": [
      "epoch 0  | loss: 0.94205 | train_auc: 0.48664 | valid_auc: 0.56818 |  0:00:00s\n",
      "epoch 1  | loss: 0.82773 | train_auc: 0.49729 | valid_auc: 0.43636 |  0:00:00s\n",
      "epoch 2  | loss: 0.77196 | train_auc: 0.53776 | valid_auc: 0.48182 |  0:00:00s\n",
      "epoch 3  | loss: 0.65254 | train_auc: 0.53916 | valid_auc: 0.31364 |  0:00:00s\n",
      "epoch 4  | loss: 0.68035 | train_auc: 0.517   | valid_auc: 0.32273 |  0:00:00s\n",
      "epoch 5  | loss: 0.65397 | train_auc: 0.54049 | valid_auc: 0.51364 |  0:00:00s\n",
      "epoch 6  | loss: 0.67125 | train_auc: 0.54834 | valid_auc: 0.40909 |  0:00:00s\n",
      "epoch 7  | loss: 0.63945 | train_auc: 0.54291 | valid_auc: 0.41818 |  0:00:00s\n",
      "epoch 8  | loss: 0.6003  | train_auc: 0.52599 | valid_auc: 0.46818 |  0:00:00s\n",
      "epoch 9  | loss: 0.58947 | train_auc: 0.54126 | valid_auc: 0.48182 |  0:00:00s\n",
      "epoch 10 | loss: 0.64847 | train_auc: 0.53239 | valid_auc: 0.38182 |  0:00:00s\n",
      "epoch 11 | loss: 0.65072 | train_auc: 0.50615 | valid_auc: 0.38636 |  0:00:00s\n",
      "epoch 12 | loss: 0.60419 | train_auc: 0.52158 | valid_auc: 0.59545 |  0:00:00s\n",
      "epoch 13 | loss: 0.60821 | train_auc: 0.46867 | valid_auc: 0.65455 |  0:00:00s\n",
      "epoch 14 | loss: 0.60716 | train_auc: 0.55139 | valid_auc: 0.68182 |  0:00:00s\n",
      "epoch 15 | loss: 0.59955 | train_auc: 0.54126 | valid_auc: 0.62273 |  0:00:00s\n",
      "epoch 16 | loss: 0.59646 | train_auc: 0.47795 | valid_auc: 0.53636 |  0:00:00s\n",
      "epoch 17 | loss: 0.52535 | train_auc: 0.44746 | valid_auc: 0.65455 |  0:00:00s\n",
      "epoch 18 | loss: 0.52107 | train_auc: 0.47702 | valid_auc: 0.53182 |  0:00:00s\n",
      "epoch 19 | loss: 0.50514 | train_auc: 0.42478 | valid_auc: 0.58636 |  0:00:00s\n",
      "epoch 20 | loss: 0.51582 | train_auc: 0.46841 | valid_auc: 0.48182 |  0:00:00s\n",
      "epoch 21 | loss: 0.47401 | train_auc: 0.4771  | valid_auc: 0.49091 |  0:00:00s\n",
      "epoch 22 | loss: 0.50594 | train_auc: 0.51437 | valid_auc: 0.40455 |  0:00:00s\n",
      "epoch 23 | loss: 0.42435 | train_auc: 0.51707 | valid_auc: 0.52273 |  0:00:00s\n",
      "epoch 24 | loss: 0.50284 | train_auc: 0.55805 | valid_auc: 0.47727 |  0:00:00s\n",
      "epoch 25 | loss: 0.53555 | train_auc: 0.59182 | valid_auc: 0.63636 |  0:00:00s\n",
      "epoch 26 | loss: 0.51601 | train_auc: 0.60147 | valid_auc: 0.64091 |  0:00:00s\n",
      "epoch 27 | loss: 0.49412 | train_auc: 0.63041 | valid_auc: 0.76364 |  0:00:00s\n",
      "epoch 28 | loss: 0.49785 | train_auc: 0.61934 | valid_auc: 0.78636 |  0:00:00s\n",
      "epoch 29 | loss: 0.43573 | train_auc: 0.64431 | valid_auc: 0.71364 |  0:00:00s\n",
      "epoch 30 | loss: 0.38944 | train_auc: 0.60912 | valid_auc: 0.70909 |  0:00:00s\n",
      "epoch 31 | loss: 0.40642 | train_auc: 0.56759 | valid_auc: 0.57727 |  0:00:00s\n",
      "epoch 32 | loss: 0.41154 | train_auc: 0.58455 | valid_auc: 0.61818 |  0:00:00s\n",
      "epoch 33 | loss: 0.37936 | train_auc: 0.56918 | valid_auc: 0.55909 |  0:00:00s\n",
      "epoch 34 | loss: 0.43546 | train_auc: 0.58896 | valid_auc: 0.59545 |  0:00:00s\n",
      "epoch 35 | loss: 0.40629 | train_auc: 0.64378 | valid_auc: 0.60909 |  0:00:00s\n",
      "epoch 36 | loss: 0.40979 | train_auc: 0.65193 | valid_auc: 0.65    |  0:00:00s\n",
      "epoch 37 | loss: 0.38297 | train_auc: 0.64817 | valid_auc: 0.8     |  0:00:00s\n",
      "epoch 38 | loss: 0.34229 | train_auc: 0.6628  | valid_auc: 0.85455 |  0:00:00s\n",
      "epoch 39 | loss: 0.3827  | train_auc: 0.62788 | valid_auc: 0.80909 |  0:00:00s\n",
      "epoch 40 | loss: 0.38421 | train_auc: 0.63028 | valid_auc: 0.66818 |  0:00:00s\n",
      "epoch 41 | loss: 0.36825 | train_auc: 0.6187  | valid_auc: 0.58636 |  0:00:00s\n",
      "epoch 42 | loss: 0.42063 | train_auc: 0.61781 | valid_auc: 0.64091 |  0:00:00s\n",
      "epoch 43 | loss: 0.37361 | train_auc: 0.60015 | valid_auc: 0.51364 |  0:00:00s\n",
      "epoch 44 | loss: 0.40759 | train_auc: 0.60089 | valid_auc: 0.60909 |  0:00:00s\n",
      "epoch 45 | loss: 0.39457 | train_auc: 0.5639  | valid_auc: 0.73182 |  0:00:00s\n",
      "epoch 46 | loss: 0.36177 | train_auc: 0.58563 | valid_auc: 0.75455 |  0:00:00s\n",
      "epoch 47 | loss: 0.31453 | train_auc: 0.5675  | valid_auc: 0.63409 |  0:00:00s\n",
      "epoch 48 | loss: 0.3485  | train_auc: 0.59606 | valid_auc: 0.775   |  0:00:00s\n",
      "epoch 49 | loss: 0.35674 | train_auc: 0.58639 | valid_auc: 0.75909 |  0:00:00s\n",
      "epoch 50 | loss: 0.30816 | train_auc: 0.56981 | valid_auc: 0.77273 |  0:00:00s\n",
      "epoch 51 | loss: 0.31604 | train_auc: 0.5576  | valid_auc: 0.73409 |  0:00:00s\n",
      "epoch 52 | loss: 0.31545 | train_auc: 0.55565 | valid_auc: 0.70227 |  0:00:00s\n",
      "epoch 53 | loss: 0.36215 | train_auc: 0.57516 | valid_auc: 0.65455 |  0:00:00s\n",
      "epoch 54 | loss: 0.33359 | train_auc: 0.56127 | valid_auc: 0.675   |  0:00:01s\n",
      "epoch 55 | loss: 0.35117 | train_auc: 0.56002 | valid_auc: 0.60227 |  0:00:01s\n",
      "epoch 56 | loss: 0.31008 | train_auc: 0.56439 | valid_auc: 0.63864 |  0:00:01s\n",
      "epoch 57 | loss: 0.4906  | train_auc: 0.54658 | valid_auc: 0.67955 |  0:00:01s\n",
      "epoch 58 | loss: 0.37896 | train_auc: 0.54386 | valid_auc: 0.63409 |  0:00:01s\n",
      "epoch 59 | loss: 0.34171 | train_auc: 0.56246 | valid_auc: 0.48864 |  0:00:01s\n",
      "epoch 60 | loss: 0.30625 | train_auc: 0.56411 | valid_auc: 0.60455 |  0:00:01s\n",
      "epoch 61 | loss: 0.25504 | train_auc: 0.5689  | valid_auc: 0.63182 |  0:00:01s\n",
      "epoch 62 | loss: 0.30255 | train_auc: 0.5742  | valid_auc: 0.63636 |  0:00:01s\n",
      "epoch 63 | loss: 0.27796 | train_auc: 0.56848 | valid_auc: 0.60682 |  0:00:01s\n",
      "epoch 64 | loss: 0.313   | train_auc: 0.56456 | valid_auc: 0.61364 |  0:00:01s\n",
      "epoch 65 | loss: 0.29905 | train_auc: 0.57041 | valid_auc: 0.57273 |  0:00:01s\n",
      "epoch 66 | loss: 0.30673 | train_auc: 0.56341 | valid_auc: 0.60909 |  0:00:01s\n",
      "epoch 67 | loss: 0.28263 | train_auc: 0.54049 | valid_auc: 0.6     |  0:00:01s\n",
      "epoch 68 | loss: 0.30402 | train_auc: 0.54333 | valid_auc: 0.57727 |  0:00:01s\n",
      "epoch 69 | loss: 0.32061 | train_auc: 0.52926 | valid_auc: 0.6     |  0:00:01s\n",
      "epoch 70 | loss: 0.29731 | train_auc: 0.54762 | valid_auc: 0.54091 |  0:00:01s\n",
      "epoch 71 | loss: 0.29944 | train_auc: 0.54713 | valid_auc: 0.51818 |  0:00:01s\n",
      "epoch 72 | loss: 0.25122 | train_auc: 0.57732 | valid_auc: 0.54545 |  0:00:01s\n",
      "epoch 73 | loss: 0.28254 | train_auc: 0.5921  | valid_auc: 0.58636 |  0:00:01s\n",
      "epoch 74 | loss: 0.25638 | train_auc: 0.60868 | valid_auc: 0.59091 |  0:00:01s\n",
      "epoch 75 | loss: 0.24466 | train_auc: 0.62583 | valid_auc: 0.62273 |  0:00:01s\n",
      "epoch 76 | loss: 0.33883 | train_auc: 0.63774 | valid_auc: 0.52727 |  0:00:01s\n",
      "epoch 77 | loss: 0.28608 | train_auc: 0.65282 | valid_auc: 0.55    |  0:00:01s\n",
      "epoch 78 | loss: 0.24948 | train_auc: 0.64448 | valid_auc: 0.58636 |  0:00:01s\n",
      "epoch 79 | loss: 0.23518 | train_auc: 0.65407 | valid_auc: 0.56818 |  0:00:01s\n",
      "epoch 80 | loss: 0.25377 | train_auc: 0.64802 | valid_auc: 0.58636 |  0:00:01s\n",
      "epoch 81 | loss: 0.23722 | train_auc: 0.63214 | valid_auc: 0.57273 |  0:00:01s\n",
      "epoch 82 | loss: 0.32554 | train_auc: 0.62977 | valid_auc: 0.56591 |  0:00:01s\n",
      "epoch 83 | loss: 0.22812 | train_auc: 0.62449 | valid_auc: 0.6     |  0:00:01s\n",
      "epoch 84 | loss: 0.2734  | train_auc: 0.64421 | valid_auc: 0.62273 |  0:00:01s\n",
      "epoch 85 | loss: 0.18279 | train_auc: 0.66942 | valid_auc: 0.64091 |  0:00:01s\n",
      "epoch 86 | loss: 0.22078 | train_auc: 0.66778 | valid_auc: 0.65455 |  0:00:01s\n",
      "epoch 87 | loss: 0.19112 | train_auc: 0.6561  | valid_auc: 0.66818 |  0:00:01s\n",
      "epoch 88 | loss: 0.21724 | train_auc: 0.65405 | valid_auc: 0.66818 |  0:00:01s\n",
      "epoch 89 | loss: 0.23734 | train_auc: 0.66727 | valid_auc: 0.69091 |  0:00:01s\n",
      "epoch 90 | loss: 0.21319 | train_auc: 0.65441 | valid_auc: 0.71818 |  0:00:01s\n",
      "epoch 91 | loss: 0.2203  | train_auc: 0.63876 | valid_auc: 0.72727 |  0:00:01s\n",
      "epoch 92 | loss: 0.21592 | train_auc: 0.64754 | valid_auc: 0.72727 |  0:00:01s\n",
      "epoch 93 | loss: 0.25282 | train_auc: 0.63234 | valid_auc: 0.67955 |  0:00:01s\n",
      "epoch 94 | loss: 0.24037 | train_auc: 0.62235 | valid_auc: 0.67727 |  0:00:01s\n",
      "epoch 95 | loss: 0.24385 | train_auc: 0.61054 | valid_auc: 0.61818 |  0:00:01s\n",
      "epoch 96 | loss: 0.19096 | train_auc: 0.61862 | valid_auc: 0.56818 |  0:00:01s\n",
      "epoch 97 | loss: 0.264   | train_auc: 0.60778 | valid_auc: 0.63636 |  0:00:01s\n",
      "epoch 98 | loss: 0.32042 | train_auc: 0.60732 | valid_auc: 0.65909 |  0:00:01s\n",
      "epoch 99 | loss: 0.2236  | train_auc: 0.62466 | valid_auc: 0.64545 |  0:00:01s\n",
      "epoch 100| loss: 0.19942 | train_auc: 0.63045 | valid_auc: 0.72727 |  0:00:01s\n",
      "epoch 101| loss: 0.26354 | train_auc: 0.61849 | valid_auc: 0.78182 |  0:00:01s\n",
      "epoch 102| loss: 0.2033  | train_auc: 0.62294 | valid_auc: 0.76818 |  0:00:01s\n",
      "epoch 103| loss: 0.25237 | train_auc: 0.64325 | valid_auc: 0.77273 |  0:00:01s\n",
      "epoch 104| loss: 0.17661 | train_auc: 0.64037 | valid_auc: 0.71818 |  0:00:01s\n",
      "epoch 105| loss: 0.25454 | train_auc: 0.63829 | valid_auc: 0.67273 |  0:00:01s\n",
      "epoch 106| loss: 0.27075 | train_auc: 0.6458  | valid_auc: 0.63636 |  0:00:01s\n",
      "epoch 107| loss: 0.21634 | train_auc: 0.64205 | valid_auc: 0.62273 |  0:00:01s\n",
      "epoch 108| loss: 0.24045 | train_auc: 0.64737 | valid_auc: 0.60455 |  0:00:01s\n",
      "epoch 109| loss: 0.237   | train_auc: 0.64807 | valid_auc: 0.60909 |  0:00:02s\n",
      "epoch 110| loss: 0.17477 | train_auc: 0.64226 | valid_auc: 0.6     |  0:00:02s\n",
      "epoch 111| loss: 0.25345 | train_auc: 0.64408 | valid_auc: 0.61364 |  0:00:02s\n",
      "epoch 112| loss: 0.24024 | train_auc: 0.65951 | valid_auc: 0.65455 |  0:00:02s\n",
      "epoch 113| loss: 0.23212 | train_auc: 0.66339 | valid_auc: 0.66364 |  0:00:02s\n",
      "epoch 114| loss: 0.21731 | train_auc: 0.66757 | valid_auc: 0.70455 |  0:00:02s\n",
      "epoch 115| loss: 0.16679 | train_auc: 0.67321 | valid_auc: 0.76818 |  0:00:02s\n",
      "epoch 116| loss: 0.31455 | train_auc: 0.67406 | valid_auc: 0.78636 |  0:00:02s\n",
      "epoch 117| loss: 0.18945 | train_auc: 0.67567 | valid_auc: 0.86364 |  0:00:02s\n",
      "epoch 118| loss: 0.20487 | train_auc: 0.68837 | valid_auc: 0.84545 |  0:00:02s\n",
      "epoch 119| loss: 0.21307 | train_auc: 0.70153 | valid_auc: 0.86364 |  0:00:02s\n",
      "epoch 120| loss: 0.1786  | train_auc: 0.69382 | valid_auc: 0.87273 |  0:00:02s\n",
      "epoch 121| loss: 0.18628 | train_auc: 0.69587 | valid_auc: 0.89091 |  0:00:02s\n",
      "epoch 122| loss: 0.18974 | train_auc: 0.6893  | valid_auc: 0.87273 |  0:00:02s\n",
      "epoch 123| loss: 0.17206 | train_auc: 0.68956 | valid_auc: 0.88182 |  0:00:02s\n",
      "epoch 124| loss: 0.217   | train_auc: 0.69545 | valid_auc: 0.88636 |  0:00:02s\n",
      "epoch 125| loss: 0.20013 | train_auc: 0.69409 | valid_auc: 0.88182 |  0:00:02s\n",
      "epoch 126| loss: 0.23202 | train_auc: 0.69744 | valid_auc: 0.85    |  0:00:02s\n",
      "epoch 127| loss: 0.25424 | train_auc: 0.68334 | valid_auc: 0.81818 |  0:00:02s\n",
      "epoch 128| loss: 0.14191 | train_auc: 0.679   | valid_auc: 0.78182 |  0:00:02s\n",
      "epoch 129| loss: 0.14711 | train_auc: 0.67616 | valid_auc: 0.71364 |  0:00:02s\n",
      "epoch 130| loss: 0.16073 | train_auc: 0.66973 | valid_auc: 0.68182 |  0:00:02s\n",
      "epoch 131| loss: 0.16082 | train_auc: 0.67652 | valid_auc: 0.64545 |  0:00:02s\n",
      "epoch 132| loss: 0.18282 | train_auc: 0.6794  | valid_auc: 0.66364 |  0:00:02s\n",
      "epoch 133| loss: 0.19671 | train_auc: 0.67715 | valid_auc: 0.67727 |  0:00:02s\n",
      "epoch 134| loss: 0.2021  | train_auc: 0.67499 | valid_auc: 0.70455 |  0:00:02s\n",
      "epoch 135| loss: 0.25464 | train_auc: 0.67056 | valid_auc: 0.73182 |  0:00:02s\n",
      "epoch 136| loss: 0.17911 | train_auc: 0.67101 | valid_auc: 0.77273 |  0:00:02s\n",
      "epoch 137| loss: 0.22563 | train_auc: 0.66882 | valid_auc: 0.77727 |  0:00:02s\n",
      "epoch 138| loss: 0.11899 | train_auc: 0.67397 | valid_auc: 0.78182 |  0:00:02s\n",
      "epoch 139| loss: 0.18883 | train_auc: 0.67968 | valid_auc: 0.77273 |  0:00:02s\n",
      "epoch 140| loss: 0.18388 | train_auc: 0.67465 | valid_auc: 0.75909 |  0:00:02s\n",
      "epoch 141| loss: 0.17087 | train_auc: 0.67351 | valid_auc: 0.75455 |  0:00:02s\n",
      "epoch 142| loss: 0.13654 | train_auc: 0.66549 | valid_auc: 0.73636 |  0:00:02s\n",
      "epoch 143| loss: 0.19535 | train_auc: 0.65748 | valid_auc: 0.71818 |  0:00:02s\n",
      "epoch 144| loss: 0.17219 | train_auc: 0.64694 | valid_auc: 0.67273 |  0:00:02s\n",
      "epoch 145| loss: 0.14987 | train_auc: 0.65042 | valid_auc: 0.64545 |  0:00:02s\n",
      "epoch 146| loss: 0.16831 | train_auc: 0.64927 | valid_auc: 0.63182 |  0:00:02s\n",
      "epoch 147| loss: 0.13886 | train_auc: 0.64542 | valid_auc: 0.57273 |  0:00:02s\n",
      "epoch 148| loss: 0.14276 | train_auc: 0.63925 | valid_auc: 0.55909 |  0:00:02s\n",
      "epoch 149| loss: 0.12962 | train_auc: 0.63677 | valid_auc: 0.55    |  0:00:02s\n",
      "epoch 150| loss: 0.18776 | train_auc: 0.64817 | valid_auc: 0.52727 |  0:00:02s\n",
      "epoch 151| loss: 0.15413 | train_auc: 0.64679 | valid_auc: 0.53636 |  0:00:02s\n",
      "epoch 152| loss: 0.17026 | train_auc: 0.64658 | valid_auc: 0.57273 |  0:00:02s\n",
      "epoch 153| loss: 0.19246 | train_auc: 0.64514 | valid_auc: 0.56364 |  0:00:02s\n",
      "epoch 154| loss: 0.16263 | train_auc: 0.64247 | valid_auc: 0.60909 |  0:00:02s\n",
      "epoch 155| loss: 0.13411 | train_auc: 0.64624 | valid_auc: 0.60455 |  0:00:02s\n",
      "epoch 156| loss: 0.11343 | train_auc: 0.65082 | valid_auc: 0.63182 |  0:00:02s\n",
      "epoch 157| loss: 0.12194 | train_auc: 0.64938 | valid_auc: 0.64545 |  0:00:02s\n",
      "epoch 158| loss: 0.15167 | train_auc: 0.65888 | valid_auc: 0.63636 |  0:00:02s\n",
      "epoch 159| loss: 0.19689 | train_auc: 0.66566 | valid_auc: 0.64545 |  0:00:02s\n",
      "epoch 160| loss: 0.10095 | train_auc: 0.66804 | valid_auc: 0.63636 |  0:00:02s\n",
      "epoch 161| loss: 0.16256 | train_auc: 0.67542 | valid_auc: 0.63636 |  0:00:02s\n",
      "epoch 162| loss: 0.10915 | train_auc: 0.67766 | valid_auc: 0.62273 |  0:00:02s\n",
      "epoch 163| loss: 0.16601 | train_auc: 0.67978 | valid_auc: 0.6     |  0:00:02s\n",
      "epoch 164| loss: 0.10797 | train_auc: 0.68992 | valid_auc: 0.61364 |  0:00:03s\n",
      "epoch 165| loss: 0.13229 | train_auc: 0.6868  | valid_auc: 0.60455 |  0:00:03s\n",
      "epoch 166| loss: 0.21547 | train_auc: 0.68457 | valid_auc: 0.61364 |  0:00:03s\n",
      "epoch 167| loss: 0.13473 | train_auc: 0.68131 | valid_auc: 0.61364 |  0:00:03s\n",
      "epoch 168| loss: 0.09957 | train_auc: 0.67813 | valid_auc: 0.61364 |  0:00:03s\n",
      "epoch 169| loss: 0.19617 | train_auc: 0.67872 | valid_auc: 0.60909 |  0:00:03s\n",
      "epoch 170| loss: 0.12087 | train_auc: 0.67813 | valid_auc: 0.62727 |  0:00:03s\n",
      "epoch 171| loss: 0.13425 | train_auc: 0.67919 | valid_auc: 0.62727 |  0:00:03s\n",
      "epoch 172| loss: 0.14142 | train_auc: 0.68754 | valid_auc: 0.61818 |  0:00:03s\n",
      "epoch 173| loss: 0.14304 | train_auc: 0.69004 | valid_auc: 0.61818 |  0:00:03s\n",
      "epoch 174| loss: 0.17511 | train_auc: 0.71124 | valid_auc: 0.62273 |  0:00:03s\n",
      "epoch 175| loss: 0.21514 | train_auc: 0.72693 | valid_auc: 0.60909 |  0:00:03s\n",
      "epoch 176| loss: 0.17368 | train_auc: 0.73452 | valid_auc: 0.62273 |  0:00:03s\n",
      "epoch 177| loss: 0.14236 | train_auc: 0.74453 | valid_auc: 0.64545 |  0:00:03s\n",
      "epoch 178| loss: 0.16196 | train_auc: 0.74941 | valid_auc: 0.67273 |  0:00:03s\n",
      "epoch 179| loss: 0.16152 | train_auc: 0.74949 | valid_auc: 0.68182 |  0:00:03s\n",
      "epoch 180| loss: 0.16435 | train_auc: 0.74614 | valid_auc: 0.69091 |  0:00:03s\n",
      "epoch 181| loss: 0.11838 | train_auc: 0.74623 | valid_auc: 0.70455 |  0:00:03s\n",
      "epoch 182| loss: 0.11384 | train_auc: 0.74449 | valid_auc: 0.69091 |  0:00:03s\n",
      "epoch 183| loss: 0.18283 | train_auc: 0.74517 | valid_auc: 0.68636 |  0:00:03s\n",
      "epoch 184| loss: 0.13069 | train_auc: 0.74351 | valid_auc: 0.67273 |  0:00:03s\n",
      "epoch 185| loss: 0.06717 | train_auc: 0.74355 | valid_auc: 0.67273 |  0:00:03s\n",
      "epoch 186| loss: 0.16718 | train_auc: 0.74372 | valid_auc: 0.66364 |  0:00:03s\n",
      "epoch 187| loss: 0.157   | train_auc: 0.7352  | valid_auc: 0.65909 |  0:00:03s\n",
      "epoch 188| loss: 0.16023 | train_auc: 0.72324 | valid_auc: 0.67727 |  0:00:03s\n",
      "epoch 189| loss: 0.14455 | train_auc: 0.71307 | valid_auc: 0.63182 |  0:00:03s\n",
      "epoch 190| loss: 0.13627 | train_auc: 0.71646 | valid_auc: 0.63182 |  0:00:03s\n",
      "epoch 191| loss: 0.12954 | train_auc: 0.71845 | valid_auc: 0.63182 |  0:00:03s\n",
      "epoch 192| loss: 0.11528 | train_auc: 0.72006 | valid_auc: 0.61818 |  0:00:03s\n",
      "epoch 193| loss: 0.14923 | train_auc: 0.72409 | valid_auc: 0.62273 |  0:00:03s\n",
      "epoch 194| loss: 0.08037 | train_auc: 0.73274 | valid_auc: 0.60909 |  0:00:03s\n",
      "epoch 195| loss: 0.18293 | train_auc: 0.74275 | valid_auc: 0.6     |  0:00:03s\n",
      "epoch 196| loss: 0.17743 | train_auc: 0.74924 | valid_auc: 0.60909 |  0:00:03s\n",
      "epoch 197| loss: 0.16002 | train_auc: 0.75055 | valid_auc: 0.59545 |  0:00:03s\n",
      "epoch 198| loss: 0.13296 | train_auc: 0.74979 | valid_auc: 0.6     |  0:00:03s\n",
      "epoch 199| loss: 0.09889 | train_auc: 0.75085 | valid_auc: 0.59091 |  0:00:03s\n",
      "epoch 200| loss: 0.09382 | train_auc: 0.75216 | valid_auc: 0.6     |  0:00:03s\n",
      "epoch 201| loss: 0.08349 | train_auc: 0.75704 | valid_auc: 0.60455 |  0:00:03s\n",
      "epoch 202| loss: 0.12144 | train_auc: 0.76357 | valid_auc: 0.61364 |  0:00:03s\n",
      "epoch 203| loss: 0.11522 | train_auc: 0.76967 | valid_auc: 0.62273 |  0:00:03s\n",
      "epoch 204| loss: 0.1573  | train_auc: 0.77319 | valid_auc: 0.62727 |  0:00:03s\n",
      "epoch 205| loss: 0.15032 | train_auc: 0.77841 | valid_auc: 0.63636 |  0:00:03s\n",
      "epoch 206| loss: 0.10811 | train_auc: 0.78036 | valid_auc: 0.63182 |  0:00:03s\n",
      "epoch 207| loss: 0.0681  | train_auc: 0.78362 | valid_auc: 0.64091 |  0:00:03s\n",
      "epoch 208| loss: 0.1437  | train_auc: 0.78613 | valid_auc: 0.63636 |  0:00:03s\n",
      "epoch 209| loss: 0.12725 | train_auc: 0.78952 | valid_auc: 0.64091 |  0:00:03s\n",
      "epoch 210| loss: 0.09446 | train_auc: 0.79215 | valid_auc: 0.65    |  0:00:03s\n",
      "epoch 211| loss: 0.17265 | train_auc: 0.80589 | valid_auc: 0.65909 |  0:00:03s\n",
      "epoch 212| loss: 0.14663 | train_auc: 0.81805 | valid_auc: 0.65455 |  0:00:03s\n",
      "epoch 213| loss: 0.11365 | train_auc: 0.8267  | valid_auc: 0.65455 |  0:00:03s\n",
      "epoch 214| loss: 0.1063  | train_auc: 0.83001 | valid_auc: 0.64545 |  0:00:03s\n",
      "epoch 215| loss: 0.12453 | train_auc: 0.83281 | valid_auc: 0.63636 |  0:00:03s\n",
      "epoch 216| loss: 0.1244  | train_auc: 0.83391 | valid_auc: 0.63636 |  0:00:03s\n",
      "epoch 217| loss: 0.07796 | train_auc: 0.8365  | valid_auc: 0.63182 |  0:00:03s\n",
      "epoch 218| loss: 0.13573 | train_auc: 0.83612 | valid_auc: 0.63182 |  0:00:03s\n",
      "epoch 219| loss: 0.16569 | train_auc: 0.83476 | valid_auc: 0.63182 |  0:00:04s\n",
      "epoch 220| loss: 0.13087 | train_auc: 0.83408 | valid_auc: 0.63182 |  0:00:04s\n",
      "epoch 221| loss: 0.07115 | train_auc: 0.83192 | valid_auc: 0.62727 |  0:00:04s\n",
      "epoch 222| loss: 0.12083 | train_auc: 0.83124 | valid_auc: 0.62273 |  0:00:04s\n",
      "epoch 223| loss: 0.12302 | train_auc: 0.83158 | valid_auc: 0.61364 |  0:00:04s\n",
      "epoch 224| loss: 0.10618 | train_auc: 0.83285 | valid_auc: 0.61364 |  0:00:04s\n",
      "epoch 225| loss: 0.11372 | train_auc: 0.83705 | valid_auc: 0.61364 |  0:00:04s\n",
      "epoch 226| loss: 0.07637 | train_auc: 0.839   | valid_auc: 0.61364 |  0:00:04s\n",
      "epoch 227| loss: 0.15611 | train_auc: 0.84277 | valid_auc: 0.61364 |  0:00:04s\n",
      "epoch 228| loss: 0.1218  | train_auc: 0.84674 | valid_auc: 0.62727 |  0:00:04s\n",
      "epoch 229| loss: 0.13063 | train_auc: 0.8474  | valid_auc: 0.64091 |  0:00:04s\n",
      "epoch 230| loss: 0.14185 | train_auc: 0.85138 | valid_auc: 0.66364 |  0:00:04s\n",
      "epoch 231| loss: 0.13543 | train_auc: 0.85516 | valid_auc: 0.65909 |  0:00:04s\n",
      "epoch 232| loss: 0.08641 | train_auc: 0.86071 | valid_auc: 0.66818 |  0:00:04s\n",
      "epoch 233| loss: 0.16778 | train_auc: 0.86448 | valid_auc: 0.66818 |  0:00:04s\n",
      "epoch 234| loss: 0.06482 | train_auc: 0.86733 | valid_auc: 0.67273 |  0:00:04s\n",
      "epoch 235| loss: 0.12976 | train_auc: 0.87068 | valid_auc: 0.67727 |  0:00:04s\n",
      "epoch 236| loss: 0.13832 | train_auc: 0.8739  | valid_auc: 0.67273 |  0:00:04s\n",
      "epoch 237| loss: 0.1142  | train_auc: 0.87687 | valid_auc: 0.68182 |  0:00:04s\n",
      "epoch 238| loss: 0.08464 | train_auc: 0.88094 | valid_auc: 0.69091 |  0:00:04s\n",
      "epoch 239| loss: 0.09666 | train_auc: 0.88242 | valid_auc: 0.7     |  0:00:04s\n",
      "epoch 240| loss: 0.16936 | train_auc: 0.8831  | valid_auc: 0.7     |  0:00:04s\n",
      "epoch 241| loss: 0.14474 | train_auc: 0.88251 | valid_auc: 0.70909 |  0:00:04s\n",
      "epoch 242| loss: 0.1394  | train_auc: 0.88267 | valid_auc: 0.71364 |  0:00:04s\n",
      "epoch 243| loss: 0.13205 | train_auc: 0.8834  | valid_auc: 0.71818 |  0:00:04s\n",
      "epoch 244| loss: 0.12337 | train_auc: 0.88344 | valid_auc: 0.72273 |  0:00:04s\n",
      "epoch 245| loss: 0.10144 | train_auc: 0.88359 | valid_auc: 0.71364 |  0:00:04s\n",
      "epoch 246| loss: 0.08988 | train_auc: 0.88361 | valid_auc: 0.73182 |  0:00:04s\n",
      "epoch 247| loss: 0.14855 | train_auc: 0.88467 | valid_auc: 0.74545 |  0:00:04s\n",
      "epoch 248| loss: 0.12692 | train_auc: 0.88649 | valid_auc: 0.74545 |  0:00:04s\n",
      "epoch 249| loss: 0.11776 | train_auc: 0.88937 | valid_auc: 0.75    |  0:00:04s\n",
      "epoch 250| loss: 0.18009 | train_auc: 0.88971 | valid_auc: 0.74091 |  0:00:04s\n",
      "epoch 251| loss: 0.12415 | train_auc: 0.89128 | valid_auc: 0.73636 |  0:00:04s\n",
      "epoch 252| loss: 0.11636 | train_auc: 0.89217 | valid_auc: 0.72727 |  0:00:04s\n",
      "epoch 253| loss: 0.10762 | train_auc: 0.89395 | valid_auc: 0.72273 |  0:00:04s\n",
      "epoch 254| loss: 0.10641 | train_auc: 0.89637 | valid_auc: 0.70909 |  0:00:04s\n",
      "epoch 255| loss: 0.08875 | train_auc: 0.89819 | valid_auc: 0.70909 |  0:00:04s\n",
      "epoch 256| loss: 0.09066 | train_auc: 0.89819 | valid_auc: 0.70455 |  0:00:04s\n",
      "epoch 257| loss: 0.09531 | train_auc: 0.89849 | valid_auc: 0.70455 |  0:00:04s\n",
      "epoch 258| loss: 0.14333 | train_auc: 0.89925 | valid_auc: 0.70455 |  0:00:04s\n",
      "epoch 259| loss: 0.11649 | train_auc: 0.89989 | valid_auc: 0.70455 |  0:00:04s\n",
      "epoch 260| loss: 0.08065 | train_auc: 0.90137 | valid_auc: 0.70455 |  0:00:04s\n",
      "epoch 261| loss: 0.05098 | train_auc: 0.90337 | valid_auc: 0.70455 |  0:00:04s\n",
      "epoch 262| loss: 0.10546 | train_auc: 0.90608 | valid_auc: 0.7     |  0:00:04s\n",
      "epoch 263| loss: 0.12841 | train_auc: 0.90782 | valid_auc: 0.69545 |  0:00:04s\n",
      "epoch 264| loss: 0.11628 | train_auc: 0.91155 | valid_auc: 0.69091 |  0:00:04s\n",
      "epoch 265| loss: 0.11077 | train_auc: 0.91655 | valid_auc: 0.69091 |  0:00:04s\n",
      "epoch 266| loss: 0.07926 | train_auc: 0.92173 | valid_auc: 0.68182 |  0:00:04s\n",
      "epoch 267| loss: 0.07324 | train_auc: 0.92554 | valid_auc: 0.67727 |  0:00:04s\n",
      "epoch 268| loss: 0.08163 | train_auc: 0.92949 | valid_auc: 0.67273 |  0:00:04s\n",
      "epoch 269| loss: 0.09463 | train_auc: 0.93148 | valid_auc: 0.67273 |  0:00:04s\n",
      "epoch 270| loss: 0.11229 | train_auc: 0.93351 | valid_auc: 0.69091 |  0:00:04s\n",
      "epoch 271| loss: 0.13258 | train_auc: 0.93502 | valid_auc: 0.7     |  0:00:04s\n",
      "epoch 272| loss: 0.12245 | train_auc: 0.93546 | valid_auc: 0.70455 |  0:00:04s\n",
      "epoch 273| loss: 0.10567 | train_auc: 0.93513 | valid_auc: 0.70455 |  0:00:04s\n",
      "epoch 274| loss: 0.08394 | train_auc: 0.93542 | valid_auc: 0.70909 |  0:00:05s\n",
      "epoch 275| loss: 0.10225 | train_auc: 0.9344  | valid_auc: 0.71364 |  0:00:05s\n",
      "epoch 276| loss: 0.06664 | train_auc: 0.93377 | valid_auc: 0.70909 |  0:00:05s\n",
      "epoch 277| loss: 0.07404 | train_auc: 0.93241 | valid_auc: 0.72273 |  0:00:05s\n",
      "epoch 278| loss: 0.09574 | train_auc: 0.9325  | valid_auc: 0.72727 |  0:00:05s\n",
      "epoch 279| loss: 0.06205 | train_auc: 0.93254 | valid_auc: 0.73636 |  0:00:05s\n",
      "epoch 280| loss: 0.10348 | train_auc: 0.9319  | valid_auc: 0.73636 |  0:00:05s\n",
      "epoch 281| loss: 0.10401 | train_auc: 0.93072 | valid_auc: 0.73636 |  0:00:05s\n",
      "epoch 282| loss: 0.09086 | train_auc: 0.93254 | valid_auc: 0.73636 |  0:00:05s\n",
      "epoch 283| loss: 0.07617 | train_auc: 0.93407 | valid_auc: 0.74091 |  0:00:05s\n",
      "epoch 284| loss: 0.10355 | train_auc: 0.93593 | valid_auc: 0.74545 |  0:00:05s\n",
      "epoch 285| loss: 0.09465 | train_auc: 0.93805 | valid_auc: 0.75455 |  0:00:05s\n",
      "epoch 286| loss: 0.16324 | train_auc: 0.93924 | valid_auc: 0.75455 |  0:00:05s\n",
      "epoch 287| loss: 0.11815 | train_auc: 0.9403  | valid_auc: 0.75455 |  0:00:05s\n",
      "epoch 288| loss: 0.11665 | train_auc: 0.94119 | valid_auc: 0.75455 |  0:00:05s\n",
      "epoch 289| loss: 0.14294 | train_auc: 0.9417  | valid_auc: 0.74545 |  0:00:05s\n",
      "epoch 290| loss: 0.08577 | train_auc: 0.9439  | valid_auc: 0.72273 |  0:00:05s\n",
      "epoch 291| loss: 0.14126 | train_auc: 0.94462 | valid_auc: 0.72273 |  0:00:05s\n",
      "epoch 292| loss: 0.06876 | train_auc: 0.94585 | valid_auc: 0.72273 |  0:00:05s\n",
      "epoch 293| loss: 0.16519 | train_auc: 0.94852 | valid_auc: 0.72273 |  0:00:05s\n",
      "epoch 294| loss: 0.14041 | train_auc: 0.95022 | valid_auc: 0.71818 |  0:00:05s\n",
      "epoch 295| loss: 0.07088 | train_auc: 0.95069 | valid_auc: 0.72273 |  0:00:05s\n",
      "epoch 296| loss: 0.06183 | train_auc: 0.95162 | valid_auc: 0.71818 |  0:00:05s\n",
      "epoch 297| loss: 0.08576 | train_auc: 0.95281 | valid_auc: 0.71364 |  0:00:05s\n",
      "epoch 298| loss: 0.07966 | train_auc: 0.95531 | valid_auc: 0.71364 |  0:00:05s\n",
      "epoch 299| loss: 0.10537 | train_auc: 0.95573 | valid_auc: 0.71364 |  0:00:05s\n",
      "epoch 300| loss: 0.03992 | train_auc: 0.957   | valid_auc: 0.71818 |  0:00:05s\n",
      "epoch 301| loss: 0.04934 | train_auc: 0.95747 | valid_auc: 0.71818 |  0:00:05s\n",
      "epoch 302| loss: 0.11319 | train_auc: 0.95819 | valid_auc: 0.71364 |  0:00:05s\n",
      "epoch 303| loss: 0.07728 | train_auc: 0.95951 | valid_auc: 0.70909 |  0:00:05s\n",
      "epoch 304| loss: 0.10319 | train_auc: 0.96116 | valid_auc: 0.71364 |  0:00:05s\n",
      "epoch 305| loss: 0.12553 | train_auc: 0.96188 | valid_auc: 0.71364 |  0:00:05s\n",
      "epoch 306| loss: 0.123   | train_auc: 0.96298 | valid_auc: 0.71818 |  0:00:05s\n",
      "epoch 307| loss: 0.14755 | train_auc: 0.96341 | valid_auc: 0.71364 |  0:00:05s\n",
      "epoch 308| loss: 0.11773 | train_auc: 0.96307 | valid_auc: 0.71364 |  0:00:05s\n",
      "epoch 309| loss: 0.06146 | train_auc: 0.96307 | valid_auc: 0.70909 |  0:00:05s\n",
      "epoch 310| loss: 0.08475 | train_auc: 0.96273 | valid_auc: 0.72273 |  0:00:05s\n",
      "epoch 311| loss: 0.14463 | train_auc: 0.95925 | valid_auc: 0.72727 |  0:00:05s\n",
      "epoch 312| loss: 0.1022  | train_auc: 0.95611 | valid_auc: 0.73182 |  0:00:05s\n",
      "epoch 313| loss: 0.09166 | train_auc: 0.95459 | valid_auc: 0.71364 |  0:00:05s\n",
      "epoch 314| loss: 0.14888 | train_auc: 0.95319 | valid_auc: 0.7     |  0:00:05s\n",
      "epoch 315| loss: 0.11723 | train_auc: 0.95213 | valid_auc: 0.7     |  0:00:05s\n",
      "epoch 316| loss: 0.13626 | train_auc: 0.95323 | valid_auc: 0.69091 |  0:00:05s\n",
      "epoch 317| loss: 0.08645 | train_auc: 0.95518 | valid_auc: 0.68182 |  0:00:05s\n",
      "epoch 318| loss: 0.07516 | train_auc: 0.95556 | valid_auc: 0.67273 |  0:00:05s\n",
      "epoch 319| loss: 0.14316 | train_auc: 0.95565 | valid_auc: 0.67273 |  0:00:05s\n",
      "epoch 320| loss: 0.09686 | train_auc: 0.95535 | valid_auc: 0.66818 |  0:00:05s\n",
      "epoch 321| loss: 0.13574 | train_auc: 0.95531 | valid_auc: 0.65455 |  0:00:05s\n",
      "\n",
      "Early stopping occurred at epoch 321 with best_epoch = 121 and best_valid_auc = 0.89091\n"
     ]
    },
    {
     "name": "stderr",
     "output_type": "stream",
     "text": [
      "/home/yoeriapts/workspace/tabnet/pytorch_tabnet/callbacks.py:172: UserWarning: Best weights from best epoch are automatically used!\n",
      "  warnings.warn(wrn_msg)\n"
     ]
    }
   ],
   "source": [
    "clf2.fit(\n",
    "        X_train=X_train.values, y_train=y_train.values,\n",
    "        eval_set=[(X_train.values, y_train.values), (X_valid.values, y_valid.values)],\n",
    "        eval_name=['train', 'valid'],\n",
    "        eval_metric=['auc'],\n",
    "        max_epochs=max_epochs , patience=200,\n",
    "        batch_size=1024, virtual_batch_size=128,\n",
    "        num_workers=0,\n",
    "        weights=1,\n",
    "        drop_last=False,\n",
    "        augmentations=aug, #aug, None\n",
    "        compute_importance=False\n",
    "    )"
   ],
   "metadata": {
    "collapsed": false,
    "ExecuteTime": {
     "end_time": "2023-08-29T15:42:43.305494332Z",
     "start_time": "2023-08-29T15:42:37.385190019Z"
    }
   },
   "id": "c789d095fa45f6a0"
  },
  {
   "cell_type": "code",
   "execution_count": 104,
   "outputs": [],
   "source": [
    "import matplotlib.pyplot as plt"
   ],
   "metadata": {
    "collapsed": false,
    "ExecuteTime": {
     "end_time": "2023-08-29T15:42:44.589573188Z",
     "start_time": "2023-08-29T15:42:44.551502829Z"
    }
   },
   "id": "e4e0af4fe36eabf2"
  },
  {
   "cell_type": "code",
   "execution_count": 105,
   "outputs": [
    {
     "data": {
      "text/plain": "dict_keys(['loss', 'lr', 'train_auc', 'valid_auc'])"
     },
     "execution_count": 105,
     "metadata": {},
     "output_type": "execute_result"
    }
   ],
   "source": [
    "# What's in the history\n",
    "clf2.history.__dict__['history'].keys()"
   ],
   "metadata": {
    "collapsed": false,
    "ExecuteTime": {
     "end_time": "2023-08-29T15:42:45.969503046Z",
     "start_time": "2023-08-29T15:42:45.923686342Z"
    }
   },
   "id": "bc6b129c929b6841"
  },
  {
   "cell_type": "code",
   "execution_count": 106,
   "outputs": [
    {
     "data": {
      "text/plain": "[<matplotlib.lines.Line2D at 0x7fe266dc7be0>]"
     },
     "execution_count": 106,
     "metadata": {},
     "output_type": "execute_result"
    },
    {
     "data": {
      "text/plain": "<Figure size 640x480 with 1 Axes>",
      "image/png": "[encoded data removed]"
     },
     "metadata": {},
     "output_type": "display_data"
    }
   ],
   "source": [
    "plt.plot(clf2.history['loss'])"
   ],
   "metadata": {
    "collapsed": false,
    "ExecuteTime": {
     "end_time": "2023-08-29T15:42:48.713695634Z",
     "start_time": "2023-08-29T15:42:48.652885358Z"
    }
   },
   "id": "eaa85e7fac26c277"
  },
  {
   "cell_type": "code",
   "execution_count": 107,
   "outputs": [
    {
     "data": {
      "text/plain": "[<matplotlib.lines.Line2D at 0x7fe267123130>]"
     },
     "execution_count": 107,
     "metadata": {},
     "output_type": "execute_result"
    },
    {
     "data": {
      "text/plain": "<Figure size 640x480 with 1 Axes>",
      "image/png": "[encoded data removed]"
     },
     "metadata": {},
     "output_type": "display_data"
    }
   ],
   "source": [
    "# plot auc\n",
    "plt.plot(clf2.history['train_auc'])\n",
    "plt.plot(clf2.history['valid_auc'])"
   ],
   "metadata": {
    "collapsed": false,
    "ExecuteTime": {
     "end_time": "2023-08-29T15:42:49.658236417Z",
     "start_time": "2023-08-29T15:42:49.603554978Z"
    }
   },
   "id": "275d71320ab1a0d7"
  },
  {
   "cell_type": "code",
   "execution_count": 108,
   "outputs": [
    {
     "data": {
      "text/plain": "[<matplotlib.lines.Line2D at 0x7fe266cd40d0>]"
     },
     "execution_count": 108,
     "metadata": {},
     "output_type": "execute_result"
    },
    {
     "data": {
      "text/plain": "<Figure size 640x480 with 1 Axes>",
      "image/png": "[encoded data removed]"
     },
     "metadata": {},
     "output_type": "display_data"
    }
   ],
   "source": [
    "# plot learning rates\n",
    "plt.plot(clf2.history['lr'])"
   ],
   "metadata": {
    "collapsed": false,
    "ExecuteTime": {
     "end_time": "2023-08-29T15:42:51.178786804Z",
     "start_time": "2023-08-29T15:42:51.122544328Z"
    }
   },
   "id": "c8bf220b0ed739ca"
  },
  {
   "cell_type": "code",
   "execution_count": null,
   "outputs": [],
   "source": [],
   "metadata": {
    "collapsed": false
   },
   "id": "276d545f246066d8"
  }
 ],
 "metadata": {
  "kernelspec": {
   "display_name": "Python 3",
   "language": "python",
   "name": "python3"
  },
  "language_info": {
   "codemirror_mode": {
    "name": "ipython",
    "version": 2
   },
   "file_extension": ".py",
   "mimetype": "text/x-python",
   "name": "python",
   "nbconvert_exporter": "python",
   "pygments_lexer": "ipython2",
   "version": "2.7.6"
  }
 },
 "nbformat": 4,
 "nbformat_minor": 5
}
