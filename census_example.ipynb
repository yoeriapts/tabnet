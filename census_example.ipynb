{
 "cells": [
  {
   "cell_type": "code",
   "execution_count": 2,
   "metadata": {
    "ExecuteTime": {
     "end_time": "2023-08-18T14:54:04.579517194Z",
     "start_time": "2023-08-18T14:54:04.430678871Z"
    }
   },
   "outputs": [],
   "source": [
    "from pytorch_tabnet.tab_model import TabNetClassifier\n",
    "\n",
    "import torch\n",
    "from sklearn.preprocessing import LabelEncoder\n",
    "from sklearn.metrics import roc_auc_score\n",
    "\n",
    "import pandas as pd\n",
    "import numpy as np\n",
    "np.random.seed(0)\n",
    "\n",
    "import scipy\n",
    "\n",
    "import os\n",
    "import wget\n",
    "from pathlib import Path\n",
    "\n",
    "from matplotlib import pyplot as plt\n",
    "%matplotlib inline"
   ]
  },
  {
   "cell_type": "code",
   "execution_count": 3,
   "metadata": {
    "ExecuteTime": {
     "end_time": "2023-08-18T14:54:07.815866946Z",
     "start_time": "2023-08-18T14:54:07.794546372Z"
    }
   },
   "outputs": [],
   "source": [
    "import os\n",
    "os.environ['CUDA_VISIBLE_DEVICES'] = f\"1\""
   ]
  },
  {
   "cell_type": "code",
   "execution_count": 4,
   "metadata": {
    "ExecuteTime": {
     "end_time": "2023-08-18T14:54:10.989535241Z",
     "start_time": "2023-08-18T14:54:10.958091944Z"
    }
   },
   "outputs": [
    {
     "data": {
      "text/plain": "'1.13.1'"
     },
     "execution_count": 4,
     "metadata": {},
     "output_type": "execute_result"
    }
   ],
   "source": [
    "import torch\n",
    "torch.__version__"
   ]
  },
  {
   "cell_type": "markdown",
   "metadata": {},
   "source": [
    "# Download census-income dataset"
   ]
  },
  {
   "cell_type": "code",
   "execution_count": 0,
   "metadata": {},
   "outputs": [],
   "source": [
    "# Found another version of the dataset here: what is the difference?\n",
    "# https://www.kaggle.com/datasets/uciml/adult-census-income?resource=download"
   ]
  },
  {
   "cell_type": "code",
   "execution_count": 5,
   "outputs": [],
   "source": [
    "url = \"https://archive.ics.uci.edu/ml/machine-learning-databases/adult/adult.data\"\n",
    "dataset_name = 'census-income'\n",
    "out = Path(os.getcwd()+'/data/'+dataset_name+'.csv')"
   ],
   "metadata": {
    "collapsed": false,
    "ExecuteTime": {
     "start_time": "2023-08-18T14:54:22.504500959Z"
    }
   }
  },
  {
   "cell_type": "code",
   "execution_count": 0,
   "metadata": {},
   "outputs": [],
   "source": [
    "out.parent.mkdir(parents=True, exist_ok=True)\n",
    "if out.exists():\n",
    "    print(\"File already exists.\")\n",
    "else:\n",
    "    print(\"Downloading file...\")\n",
    "    wget.download(url, out.as_posix())"
   ]
  },
  {
   "cell_type": "code",
   "execution_count": 9,
   "outputs": [],
   "source": [
    "#out"
   ],
   "metadata": {
    "collapsed": false,
    "ExecuteTime": {
     "end_time": "2023-08-18T14:55:45.288838295Z",
     "start_time": "2023-08-18T14:55:45.246373289Z"
    }
   }
  },
  {
   "cell_type": "markdown",
   "metadata": {},
   "source": [
    "# Load data and split"
   ]
  },
  {
   "cell_type": "code",
   "execution_count": 0,
   "metadata": {},
   "outputs": [],
   "source": [
    "train = pd.read_csv(out)\n",
    "target = ' <=50K'\n",
    "if \"Set\" not in train.columns:\n",
    "    train[\"Set\"] = np.random.choice([\"train\", \"valid\", \"test\"], p =[.8, .1, .1], size=(train.shape[0],))\n",
    "\n",
    "train_indices = train[train.Set==\"train\"].index\n",
    "valid_indices = train[train.Set==\"valid\"].index\n",
    "test_indices = train[train.Set==\"test\"].index"
   ]
  },
  {
   "cell_type": "code",
   "execution_count": 61,
   "outputs": [
    {
     "data": {
      "text/plain": "       39   State-gov   77516   Bachelors   13   Never-married   Adm-clerical  \\\n0      33           6   83311           9   12               2              4   \n1      21           4  215646          11    8               0              6   \n2      36           4  234721           1    6               2              6   \n3      11           4  338409           9   12               2             10   \n4      20           4  284582          12   13               2              4   \n...    ..         ...     ...         ...  ...             ...            ...   \n32555  10           4  257302           7   11               2             13   \n32556  23           4  154374          11    8               2              7   \n32557  41           4  151910          11    8               6              1   \n32558   5           4  201490          11    8               4              1   \n32559  35           5  287927          11    8               2              4   \n\n        Not-in-family   White   Male   2174   0   40   United-States  \\\n0                   0       4      1      0   0   12              39   \n1                   1       4      1      0   0   39              39   \n2                   0       2      1      0   0   39              39   \n3                   5       2      0      0   0   39               5   \n4                   5       4      0      0   0   39              39   \n...               ...     ...    ...    ...  ..  ...             ...   \n32555               5       4      0      0   0   37              39   \n32556               0       4      1      0   0   39              39   \n32557               4       4      0      0   0   39              39   \n32558               3       4      1      0   0   19              39   \n32559               5       4      0    108   0   39              39   \n\n             <=50K  Set  \n0          wealthy    1  \n1          wealthy    1  \n2          wealthy    1  \n3          wealthy    1  \n4          wealthy    1  \n...            ...  ...  \n32555      wealthy    1  \n32556  not_wealthy    2  \n32557      wealthy    1  \n32558      wealthy    1  \n32559  not_wealthy    1  \n\n[32560 rows x 16 columns]",
      "text/html": "<div>\n<style scoped>\n    .dataframe tbody tr th:only-of-type {\n        vertical-align: middle;\n    }\n\n    .dataframe tbody tr th {\n        vertical-align: top;\n    }\n\n    .dataframe thead th {\n        text-align: right;\n    }\n</style>\n<table border=\"1\" class=\"dataframe\">\n  <thead>\n    <tr style=\"text-align: right;\">\n      <th></th>\n      <th>39</th>\n      <th>State-gov</th>\n      <th>77516</th>\n      <th>Bachelors</th>\n      <th>13</th>\n      <th>Never-married</th>\n      <th>Adm-clerical</th>\n      <th>Not-in-family</th>\n      <th>White</th>\n      <th>Male</th>\n      <th>2174</th>\n      <th>0</th>\n      <th>40</th>\n      <th>United-States</th>\n      <th>&lt;=50K</th>\n      <th>Set</th>\n    </tr>\n  </thead>\n  <tbody>\n    <tr>\n      <th>0</th>\n      <td>33</td>\n      <td>6</td>\n      <td>83311</td>\n      <td>9</td>\n      <td>12</td>\n      <td>2</td>\n      <td>4</td>\n      <td>0</td>\n      <td>4</td>\n      <td>1</td>\n      <td>0</td>\n      <td>0</td>\n      <td>12</td>\n      <td>39</td>\n      <td>wealthy</td>\n      <td>1</td>\n    </tr>\n    <tr>\n      <th>1</th>\n      <td>21</td>\n      <td>4</td>\n      <td>215646</td>\n      <td>11</td>\n      <td>8</td>\n      <td>0</td>\n      <td>6</td>\n      <td>1</td>\n      <td>4</td>\n      <td>1</td>\n      <td>0</td>\n      <td>0</td>\n      <td>39</td>\n      <td>39</td>\n      <td>wealthy</td>\n      <td>1</td>\n    </tr>\n    <tr>\n      <th>2</th>\n      <td>36</td>\n      <td>4</td>\n      <td>234721</td>\n      <td>1</td>\n      <td>6</td>\n      <td>2</td>\n      <td>6</td>\n      <td>0</td>\n      <td>2</td>\n      <td>1</td>\n      <td>0</td>\n      <td>0</td>\n      <td>39</td>\n      <td>39</td>\n      <td>wealthy</td>\n      <td>1</td>\n    </tr>\n    <tr>\n      <th>3</th>\n      <td>11</td>\n      <td>4</td>\n      <td>338409</td>\n      <td>9</td>\n      <td>12</td>\n      <td>2</td>\n      <td>10</td>\n      <td>5</td>\n      <td>2</td>\n      <td>0</td>\n      <td>0</td>\n      <td>0</td>\n      <td>39</td>\n      <td>5</td>\n      <td>wealthy</td>\n      <td>1</td>\n    </tr>\n    <tr>\n      <th>4</th>\n      <td>20</td>\n      <td>4</td>\n      <td>284582</td>\n      <td>12</td>\n      <td>13</td>\n      <td>2</td>\n      <td>4</td>\n      <td>5</td>\n      <td>4</td>\n      <td>0</td>\n      <td>0</td>\n      <td>0</td>\n      <td>39</td>\n      <td>39</td>\n      <td>wealthy</td>\n      <td>1</td>\n    </tr>\n    <tr>\n      <th>...</th>\n      <td>...</td>\n      <td>...</td>\n      <td>...</td>\n      <td>...</td>\n      <td>...</td>\n      <td>...</td>\n      <td>...</td>\n      <td>...</td>\n      <td>...</td>\n      <td>...</td>\n      <td>...</td>\n      <td>...</td>\n      <td>...</td>\n      <td>...</td>\n      <td>...</td>\n      <td>...</td>\n    </tr>\n    <tr>\n      <th>32555</th>\n      <td>10</td>\n      <td>4</td>\n      <td>257302</td>\n      <td>7</td>\n      <td>11</td>\n      <td>2</td>\n      <td>13</td>\n      <td>5</td>\n      <td>4</td>\n      <td>0</td>\n      <td>0</td>\n      <td>0</td>\n      <td>37</td>\n      <td>39</td>\n      <td>wealthy</td>\n      <td>1</td>\n    </tr>\n    <tr>\n      <th>32556</th>\n      <td>23</td>\n      <td>4</td>\n      <td>154374</td>\n      <td>11</td>\n      <td>8</td>\n      <td>2</td>\n      <td>7</td>\n      <td>0</td>\n      <td>4</td>\n      <td>1</td>\n      <td>0</td>\n      <td>0</td>\n      <td>39</td>\n      <td>39</td>\n      <td>not_wealthy</td>\n      <td>2</td>\n    </tr>\n    <tr>\n      <th>32557</th>\n      <td>41</td>\n      <td>4</td>\n      <td>151910</td>\n      <td>11</td>\n      <td>8</td>\n      <td>6</td>\n      <td>1</td>\n      <td>4</td>\n      <td>4</td>\n      <td>0</td>\n      <td>0</td>\n      <td>0</td>\n      <td>39</td>\n      <td>39</td>\n      <td>wealthy</td>\n      <td>1</td>\n    </tr>\n    <tr>\n      <th>32558</th>\n      <td>5</td>\n      <td>4</td>\n      <td>201490</td>\n      <td>11</td>\n      <td>8</td>\n      <td>4</td>\n      <td>1</td>\n      <td>3</td>\n      <td>4</td>\n      <td>1</td>\n      <td>0</td>\n      <td>0</td>\n      <td>19</td>\n      <td>39</td>\n      <td>wealthy</td>\n      <td>1</td>\n    </tr>\n    <tr>\n      <th>32559</th>\n      <td>35</td>\n      <td>5</td>\n      <td>287927</td>\n      <td>11</td>\n      <td>8</td>\n      <td>2</td>\n      <td>4</td>\n      <td>5</td>\n      <td>4</td>\n      <td>0</td>\n      <td>108</td>\n      <td>0</td>\n      <td>39</td>\n      <td>39</td>\n      <td>not_wealthy</td>\n      <td>1</td>\n    </tr>\n  </tbody>\n</table>\n<p>32560 rows × 16 columns</p>\n</div>"
     },
     "execution_count": 61,
     "metadata": {},
     "output_type": "execute_result"
    }
   ],
   "source": [
    "train"
   ],
   "metadata": {
    "collapsed": false,
    "ExecuteTime": {
     "end_time": "2023-08-18T15:28:41.417799505Z",
     "start_time": "2023-08-18T15:28:41.375913720Z"
    }
   }
  },
  {
   "cell_type": "code",
   "execution_count": 13,
   "outputs": [],
   "source": [
    "#len(train_indices), len(valid_indices), len(test_indices)"
   ],
   "metadata": {
    "collapsed": false,
    "ExecuteTime": {
     "end_time": "2023-08-18T14:56:20.062944902Z",
     "start_time": "2023-08-18T14:56:20.034718455Z"
    }
   }
  },
  {
   "cell_type": "markdown",
   "metadata": {},
   "source": [
    "# Simple preprocessing\n",
    "\n",
    "Label encode categorical features and fill empty cells."
   ]
  },
  {
   "cell_type": "code",
   "execution_count": 14,
   "metadata": {
    "ExecuteTime": {
     "end_time": "2023-08-18T14:57:50.663764697Z",
     "start_time": "2023-08-18T14:57:50.590809904Z"
    }
   },
   "outputs": [
    {
     "name": "stdout",
     "output_type": "stream",
     "text": [
      "39 73\n",
      " State-gov 9\n",
      " Bachelors 16\n",
      " 13 16\n",
      " Never-married 7\n",
      " Adm-clerical 15\n",
      " Not-in-family 6\n",
      " White 5\n",
      " Male 2\n",
      " 2174 119\n",
      " 0 92\n",
      " 40 94\n",
      " United-States 42\n",
      " <=50K 2\n",
      "Set 3\n"
     ]
    }
   ],
   "source": [
    "nunique = train.nunique()\n",
    "types = train.dtypes\n",
    "\n",
    "categorical_columns = []\n",
    "categorical_dims =  {}\n",
    "for col in train.columns:\n",
    "    if types[col] == 'object' or nunique[col] < 200:\n",
    "        print(col, train[col].nunique())\n",
    "        l_enc = LabelEncoder()\n",
    "        train[col] = train[col].fillna(\"VV_likely\")\n",
    "        train[col] = l_enc.fit_transform(train[col].values)\n",
    "        categorical_columns.append(col)\n",
    "        categorical_dims[col] = len(l_enc.classes_)\n",
    "    else:\n",
    "        train.fillna(train.loc[train_indices, col].mean(), inplace=True)"
   ]
  },
  {
   "cell_type": "code",
   "execution_count": 15,
   "metadata": {
    "ExecuteTime": {
     "end_time": "2023-08-18T14:58:03.362231056Z",
     "start_time": "2023-08-18T14:58:03.334376802Z"
    }
   },
   "outputs": [],
   "source": [
    "# check that pipeline accepts strings\n",
    "train.loc[train[target]==0, target] = \"wealthy\"\n",
    "train.loc[train[target]==1, target] = \"not_wealthy\""
   ]
  },
  {
   "cell_type": "markdown",
   "metadata": {},
   "source": [
    "# Define categorical features for categorical embeddings"
   ]
  },
  {
   "cell_type": "code",
   "execution_count": 16,
   "metadata": {
    "ExecuteTime": {
     "end_time": "2023-08-18T14:58:17.998334488Z",
     "start_time": "2023-08-18T14:58:17.942363225Z"
    }
   },
   "outputs": [],
   "source": [
    "unused_feat = ['Set']\n",
    "\n",
    "features = [ col for col in train.columns if col not in unused_feat+[target]] \n",
    "\n",
    "cat_idxs = [ i for i, f in enumerate(features) if f in categorical_columns]\n",
    "\n",
    "cat_dims = [ categorical_dims[f] for i, f in enumerate(features) if f in categorical_columns]\n"
   ]
  },
  {
   "cell_type": "markdown",
   "metadata": {},
   "source": [
    "# Grouped features\n",
    "\n",
    "You can now specify groups of feature which will share a common attention.\n",
    "\n",
    "This may be very usefull for features comming from a same preprocessing technique like PCA for example."
   ]
  },
  {
   "cell_type": "code",
   "execution_count": 0,
   "metadata": {},
   "outputs": [],
   "source": [
    "len(features)"
   ]
  },
  {
   "cell_type": "code",
   "execution_count": 20,
   "outputs": [
    {
     "name": "stdout",
     "output_type": "stream",
     "text": [
      "0 39\n",
      "1  State-gov\n",
      "2  77516\n",
      "3  Bachelors\n",
      "4  13\n",
      "5  Never-married\n",
      "6  Adm-clerical\n",
      "7  Not-in-family\n",
      "8  White\n",
      "9  Male\n",
      "10  2174\n",
      "11  0\n",
      "12  40\n",
      "13  United-States\n"
     ]
    }
   ],
   "source": [
    "for i, f in enumerate(features):\n",
    "    print(i, f)"
   ],
   "metadata": {
    "collapsed": false,
    "ExecuteTime": {
     "end_time": "2023-08-18T14:59:34.575176846Z",
     "start_time": "2023-08-18T14:59:34.546741675Z"
    }
   }
  },
  {
   "cell_type": "code",
   "execution_count": 21,
   "metadata": {
    "ExecuteTime": {
     "end_time": "2023-08-18T15:00:13.868655141Z",
     "start_time": "2023-08-18T15:00:13.821705744Z"
    }
   },
   "outputs": [],
   "source": [
    "grouped_features = [[0, 1, 2], [8, 9, 10]]"
   ]
  },
  {
   "cell_type": "markdown",
   "metadata": {},
   "source": [
    "# Network parameters"
   ]
  },
  {
   "cell_type": "code",
   "execution_count": 22,
   "metadata": {
    "ExecuteTime": {
     "end_time": "2023-08-18T15:00:15.453777921Z",
     "start_time": "2023-08-18T15:00:15.409888367Z"
    }
   },
   "outputs": [
    {
     "name": "stderr",
     "output_type": "stream",
     "text": [
      "/home/yoeriapts/workspace/tabnet/pytorch_tabnet/abstract_model.py:82: UserWarning: Device used : cuda\n",
      "  warnings.warn(f\"Device used : {self.device}\")\n"
     ]
    }
   ],
   "source": [
    "tabnet_params = {\"cat_idxs\":cat_idxs,\n",
    "                 \"cat_dims\":cat_dims,\n",
    "                 \"cat_emb_dim\":2,\n",
    "                 \"optimizer_fn\":torch.optim.Adam,\n",
    "                 \"optimizer_params\":dict(lr=2e-2),\n",
    "                 \"scheduler_params\":{\"step_size\":50, # how to use learning rate scheduler\n",
    "                                 \"gamma\":0.9},\n",
    "                 \"scheduler_fn\":torch.optim.lr_scheduler.StepLR,\n",
    "                 \"mask_type\":'entmax', # \"sparsemax\"\n",
    "                 \"grouped_features\" : grouped_features\n",
    "                }\n",
    "\n",
    "clf = TabNetClassifier(**tabnet_params\n",
    "                      )"
   ]
  },
  {
   "cell_type": "markdown",
   "metadata": {},
   "source": [
    "# Training"
   ]
  },
  {
   "cell_type": "code",
   "execution_count": 23,
   "metadata": {
    "ExecuteTime": {
     "end_time": "2023-08-18T15:00:18.012664743Z",
     "start_time": "2023-08-18T15:00:17.995796903Z"
    }
   },
   "outputs": [],
   "source": [
    "X_train = train[features].values[train_indices]\n",
    "y_train = train[target].values[train_indices]\n",
    "\n",
    "X_valid = train[features].values[valid_indices]\n",
    "y_valid = train[target].values[valid_indices]\n",
    "\n",
    "X_test = train[features].values[test_indices]\n",
    "y_test = train[target].values[test_indices]"
   ]
  },
  {
   "cell_type": "code",
   "execution_count": 27,
   "metadata": {
    "ExecuteTime": {
     "end_time": "2023-08-18T15:02:04.007256864Z",
     "start_time": "2023-08-18T15:02:03.951420663Z"
    }
   },
   "outputs": [
    {
     "data": {
      "text/plain": "50"
     },
     "execution_count": 27,
     "metadata": {},
     "output_type": "execute_result"
    }
   ],
   "source": [
    "max_epochs = 50 if not os.getenv(\"CI\", False) else 2 # In 'Contineuos Intergration' env, use only 2 epochs\n",
    "max_epochs"
   ]
  },
  {
   "cell_type": "code",
   "execution_count": 28,
   "metadata": {
    "ExecuteTime": {
     "end_time": "2023-08-18T15:02:10.399961872Z",
     "start_time": "2023-08-18T15:02:10.374405908Z"
    }
   },
   "outputs": [],
   "source": [
    "from pytorch_tabnet.augmentations import ClassificationSMOTE\n",
    "aug = ClassificationSMOTE(p=0.2)"
   ]
  },
  {
   "cell_type": "code",
   "execution_count": 29,
   "metadata": {
    "ExecuteTime": {
     "end_time": "2023-08-18T15:03:35.038007982Z",
     "start_time": "2023-08-18T15:02:11.950461717Z"
    }
   },
   "outputs": [
    {
     "name": "stdout",
     "output_type": "stream",
     "text": [
      "epoch 0  | loss: 0.58973 | train_auc: 0.83053 | valid_auc: 0.83009 |  0:00:03s\n",
      "epoch 1  | loss: 0.48149 | train_auc: 0.85865 | valid_auc: 0.86324 |  0:00:05s\n",
      "epoch 2  | loss: 0.45014 | train_auc: 0.8792  | valid_auc: 0.88146 |  0:00:07s\n",
      "epoch 3  | loss: 0.43423 | train_auc: 0.89359 | valid_auc: 0.8969  |  0:00:09s\n",
      "epoch 4  | loss: 0.41808 | train_auc: 0.90046 | valid_auc: 0.90128 |  0:00:11s\n",
      "epoch 5  | loss: 0.41224 | train_auc: 0.90935 | valid_auc: 0.90779 |  0:00:13s\n",
      "epoch 6  | loss: 0.39707 | train_auc: 0.91414 | valid_auc: 0.91294 |  0:00:15s\n",
      "epoch 7  | loss: 0.39091 | train_auc: 0.91767 | valid_auc: 0.91609 |  0:00:17s\n",
      "epoch 8  | loss: 0.38811 | train_auc: 0.92011 | valid_auc: 0.92051 |  0:00:19s\n",
      "epoch 9  | loss: 0.37849 | train_auc: 0.9225  | valid_auc: 0.92103 |  0:00:21s\n",
      "epoch 10 | loss: 0.38374 | train_auc: 0.92399 | valid_auc: 0.92277 |  0:00:23s\n",
      "epoch 11 | loss: 0.37438 | train_auc: 0.92559 | valid_auc: 0.92437 |  0:00:25s\n",
      "epoch 12 | loss: 0.36963 | train_auc: 0.92694 | valid_auc: 0.92372 |  0:00:27s\n",
      "epoch 13 | loss: 0.36739 | train_auc: 0.92889 | valid_auc: 0.9239  |  0:00:29s\n",
      "epoch 14 | loss: 0.37055 | train_auc: 0.92938 | valid_auc: 0.9257  |  0:00:31s\n",
      "epoch 15 | loss: 0.36743 | train_auc: 0.92953 | valid_auc: 0.92562 |  0:00:33s\n",
      "epoch 16 | loss: 0.37039 | train_auc: 0.93141 | valid_auc: 0.92655 |  0:00:35s\n",
      "epoch 17 | loss: 0.35982 | train_auc: 0.93104 | valid_auc: 0.92742 |  0:00:37s\n",
      "epoch 18 | loss: 0.36653 | train_auc: 0.93098 | valid_auc: 0.92816 |  0:00:39s\n",
      "epoch 19 | loss: 0.3678  | train_auc: 0.93289 | valid_auc: 0.92943 |  0:00:41s\n",
      "epoch 20 | loss: 0.35988 | train_auc: 0.93294 | valid_auc: 0.92639 |  0:00:43s\n",
      "epoch 21 | loss: 0.35803 | train_auc: 0.93241 | valid_auc: 0.92702 |  0:00:45s\n",
      "epoch 22 | loss: 0.35775 | train_auc: 0.93379 | valid_auc: 0.92868 |  0:00:47s\n",
      "epoch 23 | loss: 0.36031 | train_auc: 0.93341 | valid_auc: 0.92676 |  0:00:49s\n",
      "epoch 24 | loss: 0.36324 | train_auc: 0.93454 | valid_auc: 0.92911 |  0:00:51s\n",
      "epoch 25 | loss: 0.35617 | train_auc: 0.93441 | valid_auc: 0.92881 |  0:00:53s\n",
      "epoch 26 | loss: 0.34569 | train_auc: 0.93548 | valid_auc: 0.92857 |  0:00:55s\n",
      "epoch 27 | loss: 0.35124 | train_auc: 0.93399 | valid_auc: 0.92604 |  0:00:57s\n",
      "epoch 28 | loss: 0.35563 | train_auc: 0.93605 | valid_auc: 0.92853 |  0:00:59s\n",
      "epoch 29 | loss: 0.35631 | train_auc: 0.93506 | valid_auc: 0.92875 |  0:01:01s\n",
      "epoch 30 | loss: 0.35246 | train_auc: 0.9363  | valid_auc: 0.92752 |  0:01:03s\n",
      "epoch 31 | loss: 0.35196 | train_auc: 0.93695 | valid_auc: 0.92704 |  0:01:05s\n",
      "epoch 32 | loss: 0.35164 | train_auc: 0.93641 | valid_auc: 0.92654 |  0:01:07s\n",
      "epoch 33 | loss: 0.35242 | train_auc: 0.93676 | valid_auc: 0.9263  |  0:01:09s\n",
      "epoch 34 | loss: 0.35333 | train_auc: 0.93738 | valid_auc: 0.9269  |  0:01:11s\n",
      "epoch 35 | loss: 0.352   | train_auc: 0.93761 | valid_auc: 0.92548 |  0:01:13s\n",
      "epoch 36 | loss: 0.35175 | train_auc: 0.93854 | valid_auc: 0.92548 |  0:01:15s\n",
      "epoch 37 | loss: 0.34782 | train_auc: 0.93808 | valid_auc: 0.92668 |  0:01:17s\n",
      "epoch 38 | loss: 0.35528 | train_auc: 0.93747 | valid_auc: 0.9259  |  0:01:19s\n",
      "epoch 39 | loss: 0.34377 | train_auc: 0.93862 | valid_auc: 0.92782 |  0:01:21s\n",
      "\n",
      "Early stopping occurred at epoch 39 with best_epoch = 19 and best_valid_auc = 0.92943\n"
     ]
    },
    {
     "name": "stderr",
     "output_type": "stream",
     "text": [
      "/home/yoeriapts/workspace/tabnet/pytorch_tabnet/callbacks.py:172: UserWarning: Best weights from best epoch are automatically used!\n",
      "  warnings.warn(wrn_msg)\n"
     ]
    }
   ],
   "source": [
    "# This illustrates the behaviour of the model's fit method using Compressed Sparse Row matrices\n",
    "sparse_X_train = scipy.sparse.csr_matrix(X_train)  # Create a CSR matrix from X_train\n",
    "sparse_X_valid = scipy.sparse.csr_matrix(X_valid)  # Create a CSR matrix from X_valid\n",
    "\n",
    "# Fitting the model\n",
    "clf.fit(\n",
    "    X_train=sparse_X_train, y_train=y_train,\n",
    "    eval_set=[(sparse_X_train, y_train), (sparse_X_valid, y_valid)],\n",
    "    eval_name=['train', 'valid'],\n",
    "    eval_metric=['auc'],\n",
    "    max_epochs=max_epochs , patience=20,\n",
    "    batch_size=1024, virtual_batch_size=128,\n",
    "    num_workers=0,\n",
    "    weights=1,\n",
    "    drop_last=False,\n",
    "    augmentations=aug, #aug, None\n",
    ")"
   ]
  },
  {
   "cell_type": "code",
   "execution_count": null,
   "metadata": {
    "scrolled": true,
    "ExecuteTime": {
     "start_time": "2023-08-18T14:48:17.556849668Z"
    }
   },
   "outputs": [],
   "source": [
    "# This illustrates the warm_start=False behaviour\n",
    "save_history = []\n",
    "\n",
    "# Fitting the model without starting from a warm start nor computing the feature importance\n",
    "for _ in range(2):\n",
    "    clf.fit(\n",
    "        X_train=X_train, y_train=y_train,\n",
    "        eval_set=[(X_train, y_train), (X_valid, y_valid)],\n",
    "        eval_name=['train', 'valid'],\n",
    "        eval_metric=['auc'],\n",
    "        max_epochs=max_epochs , patience=20,\n",
    "        batch_size=1024, virtual_batch_size=128,\n",
    "        num_workers=0,\n",
    "        weights=1,\n",
    "        drop_last=False,\n",
    "        augmentations=aug, #aug, None\n",
    "        compute_importance=False\n",
    "    )\n",
    "    save_history.append(clf.history[\"valid_auc\"])\n",
    "\n",
    "assert(np.all(np.array(save_history[0]==np.array(save_history[1]))))\n",
    "\n",
    "save_history = []  # Resetting the list to show that it also works when computing feature importance\n",
    "\n",
    "# Fitting the model without starting from a warm start but with the computing of the feature importance activated\n",
    "for _ in range(2):\n",
    "    clf.fit(\n",
    "        X_train=X_train, y_train=y_train,\n",
    "        eval_set=[(X_train, y_train), (X_valid, y_valid)],\n",
    "        eval_name=['train', 'valid'],\n",
    "        eval_metric=['auc'],\n",
    "        max_epochs=max_epochs , patience=20,\n",
    "        batch_size=1024, virtual_batch_size=128,\n",
    "        num_workers=0,\n",
    "        weights=1,\n",
    "        drop_last=False,\n",
    "        augmentations=aug, #aug, None\n",
    "        compute_importance=True # True by default so not needed\n",
    "    )\n",
    "    save_history.append(clf.history[\"valid_auc\"])\n",
    "\n",
    "assert(np.all(np.array(save_history[0]==np.array(save_history[1]))))"
   ]
  },
  {
   "cell_type": "code",
   "execution_count": 30,
   "metadata": {
    "ExecuteTime": {
     "end_time": "2023-08-18T15:04:17.929064252Z",
     "start_time": "2023-08-18T15:04:17.835083452Z"
    }
   },
   "outputs": [
    {
     "data": {
      "text/plain": "[<matplotlib.lines.Line2D at 0x7f944572eac0>]"
     },
     "execution_count": 30,
     "metadata": {},
     "output_type": "execute_result"
    },
    {
     "data": {
      "text/plain": "<Figure size 640x480 with 1 Axes>",
      "image/png": "[encoded data removed]"
     },
     "metadata": {},
     "output_type": "display_data"
    }
   ],
   "source": [
    "# plot losses\n",
    "plt.plot(clf.history['loss'])"
   ]
  },
  {
   "cell_type": "code",
   "execution_count": 31,
   "metadata": {
    "ExecuteTime": {
     "end_time": "2023-08-18T15:04:22.890405980Z",
     "start_time": "2023-08-18T15:04:22.783277622Z"
    }
   },
   "outputs": [
    {
     "data": {
      "text/plain": "[<matplotlib.lines.Line2D at 0x7f943c367160>]"
     },
     "execution_count": 31,
     "metadata": {},
     "output_type": "execute_result"
    },
    {
     "data": {
      "text/plain": "<Figure size 640x480 with 1 Axes>",
      "image/png": "[encoded data removed]"
     },
     "metadata": {},
     "output_type": "display_data"
    }
   ],
   "source": [
    "# plot auc\n",
    "plt.plot(clf.history['train_auc'])\n",
    "plt.plot(clf.history['valid_auc'])"
   ]
  },
  {
   "cell_type": "code",
   "execution_count": 32,
   "metadata": {
    "ExecuteTime": {
     "end_time": "2023-08-18T15:04:41.501006662Z",
     "start_time": "2023-08-18T15:04:41.442575521Z"
    }
   },
   "outputs": [
    {
     "data": {
      "text/plain": "[<matplotlib.lines.Line2D at 0x7f94456a1b80>]"
     },
     "execution_count": 32,
     "metadata": {},
     "output_type": "execute_result"
    },
    {
     "data": {
      "text/plain": "<Figure size 640x480 with 1 Axes>",
      "image/png": "[encoded data removed]"
     },
     "metadata": {},
     "output_type": "display_data"
    }
   ],
   "source": [
    "# plot learning rates\n",
    "plt.plot(clf.history['lr'])"
   ]
  },
  {
   "cell_type": "markdown",
   "metadata": {},
   "source": [
    "## Predictions"
   ]
  },
  {
   "cell_type": "code",
   "execution_count": 33,
   "metadata": {
    "ExecuteTime": {
     "end_time": "2023-08-18T15:04:52.151878517Z",
     "start_time": "2023-08-18T15:04:52.078588670Z"
    }
   },
   "outputs": [
    {
     "name": "stdout",
     "output_type": "stream",
     "text": [
      "BEST VALID SCORE FOR census-income : 0.9294301781212776\n",
      "FINAL TEST SCORE FOR census-income : 0.9269001395113527\n"
     ]
    }
   ],
   "source": [
    "preds = clf.predict_proba(X_test)\n",
    "test_auc = roc_auc_score(y_score=preds[:,1], y_true=y_test)\n",
    "\n",
    "\n",
    "preds_valid = clf.predict_proba(X_valid)\n",
    "valid_auc = roc_auc_score(y_score=preds_valid[:,1], y_true=y_valid)\n",
    "\n",
    "print(f\"BEST VALID SCORE FOR {dataset_name} : {clf.best_cost}\")\n",
    "print(f\"FINAL TEST SCORE FOR {dataset_name} : {test_auc}\")"
   ]
  },
  {
   "cell_type": "code",
   "execution_count": 34,
   "metadata": {
    "ExecuteTime": {
     "end_time": "2023-08-18T15:05:05.919454290Z",
     "start_time": "2023-08-18T15:05:05.903081949Z"
    }
   },
   "outputs": [],
   "source": [
    "# check that best weights are used\n",
    "assert np.isclose(valid_auc, np.max(clf.history['valid_auc']), atol=1e-6)"
   ]
  },
  {
   "cell_type": "code",
   "execution_count": 35,
   "metadata": {
    "ExecuteTime": {
     "end_time": "2023-08-18T15:05:11.097312263Z",
     "start_time": "2023-08-18T15:05:11.056709466Z"
    }
   },
   "outputs": [
    {
     "data": {
      "text/plain": "array(['not_wealthy', 'not_wealthy', 'wealthy', ..., 'not_wealthy',\n       'wealthy', 'wealthy'], dtype='<U11')"
     },
     "execution_count": 35,
     "metadata": {},
     "output_type": "execute_result"
    }
   ],
   "source": [
    "clf.predict(X_test)"
   ]
  },
  {
   "cell_type": "markdown",
   "metadata": {},
   "source": [
    "# Save and load Model"
   ]
  },
  {
   "cell_type": "code",
   "execution_count": 36,
   "metadata": {
    "ExecuteTime": {
     "end_time": "2023-08-18T15:05:15.424699353Z",
     "start_time": "2023-08-18T15:05:15.380888221Z"
    }
   },
   "outputs": [
    {
     "name": "stdout",
     "output_type": "stream",
     "text": [
      "Successfully saved model at ./tabnet_model_test_1.zip\n"
     ]
    }
   ],
   "source": [
    "# save tabnet model\n",
    "saving_path_name = \"./tabnet_model_test_1\"\n",
    "saved_filepath = clf.save_model(saving_path_name)"
   ]
  },
  {
   "cell_type": "code",
   "execution_count": 37,
   "metadata": {
    "ExecuteTime": {
     "end_time": "2023-08-18T15:05:20.051838398Z",
     "start_time": "2023-08-18T15:05:20.029277508Z"
    }
   },
   "outputs": [
    {
     "name": "stderr",
     "output_type": "stream",
     "text": [
      "/home/yoeriapts/workspace/tabnet/pytorch_tabnet/abstract_model.py:82: UserWarning: Device used : cuda\n",
      "  warnings.warn(f\"Device used : {self.device}\")\n"
     ]
    }
   ],
   "source": [
    "# define new model with basic parameters and load state dict weights\n",
    "loaded_clf = TabNetClassifier()\n",
    "loaded_clf.load_model(saved_filepath)"
   ]
  },
  {
   "cell_type": "code",
   "execution_count": 38,
   "metadata": {
    "ExecuteTime": {
     "end_time": "2023-08-18T15:05:25.310045946Z",
     "start_time": "2023-08-18T15:05:25.280321390Z"
    }
   },
   "outputs": [
    {
     "name": "stdout",
     "output_type": "stream",
     "text": [
      "FINAL TEST SCORE FOR census-income : 0.9269001395113527\n"
     ]
    }
   ],
   "source": [
    "loaded_preds = loaded_clf.predict_proba(X_test)\n",
    "loaded_test_auc = roc_auc_score(y_score=loaded_preds[:,1], y_true=y_test)\n",
    "\n",
    "print(f\"FINAL TEST SCORE FOR {dataset_name} : {loaded_test_auc}\")"
   ]
  },
  {
   "cell_type": "code",
   "execution_count": 39,
   "metadata": {
    "ExecuteTime": {
     "end_time": "2023-08-18T15:05:26.514926360Z",
     "start_time": "2023-08-18T15:05:26.511674230Z"
    }
   },
   "outputs": [],
   "source": [
    "assert(test_auc == loaded_test_auc)"
   ]
  },
  {
   "cell_type": "code",
   "execution_count": 40,
   "metadata": {
    "ExecuteTime": {
     "end_time": "2023-08-18T15:05:29.206716618Z",
     "start_time": "2023-08-18T15:05:29.171280586Z"
    }
   },
   "outputs": [
    {
     "data": {
      "text/plain": "array(['not_wealthy', 'not_wealthy', 'wealthy', ..., 'not_wealthy',\n       'wealthy', 'wealthy'], dtype='<U11')"
     },
     "execution_count": 40,
     "metadata": {},
     "output_type": "execute_result"
    }
   ],
   "source": [
    "loaded_clf.predict(X_test)"
   ]
  },
  {
   "cell_type": "markdown",
   "metadata": {},
   "source": [
    "# Global explainability : feat importance summing to 1"
   ]
  },
  {
   "cell_type": "code",
   "execution_count": 41,
   "metadata": {
    "ExecuteTime": {
     "end_time": "2023-08-18T15:05:34.040560963Z",
     "start_time": "2023-08-18T15:05:34.035780959Z"
    }
   },
   "outputs": [
    {
     "data": {
      "text/plain": "array([0.03610309, 0.03610309, 0.03610309, 0.07889002, 0.15689536,\n       0.27743735, 0.04600724, 0.06286622, 0.03285259, 0.03285259,\n       0.03285259, 0.08224051, 0.07296272, 0.01583355])"
     },
     "execution_count": 41,
     "metadata": {},
     "output_type": "execute_result"
    }
   ],
   "source": [
    "clf.feature_importances_"
   ]
  },
  {
   "cell_type": "markdown",
   "metadata": {},
   "source": [
    "# Local explainability and masks"
   ]
  },
  {
   "cell_type": "code",
   "execution_count": 42,
   "metadata": {
    "ExecuteTime": {
     "end_time": "2023-08-18T15:05:40.540948051Z",
     "start_time": "2023-08-18T15:05:40.505457086Z"
    }
   },
   "outputs": [],
   "source": [
    "explain_matrix, masks = clf.explain(X_test)"
   ]
  },
  {
   "cell_type": "code",
   "execution_count": 43,
   "metadata": {
    "ExecuteTime": {
     "end_time": "2023-08-18T15:05:42.423181047Z",
     "start_time": "2023-08-18T15:05:42.126643280Z"
    }
   },
   "outputs": [
    {
     "name": "stderr",
     "output_type": "stream",
     "text": [
      "/tmp/ipykernel_1400782/3942983082.py:7: UserWarning: FixedFormatter should only be used together with FixedLocator\n",
      "  axs[i].set_xticklabels(labels = features, rotation=45)\n"
     ]
    },
    {
     "data": {
      "text/plain": "<Figure size 2000x2000 with 3 Axes>",
      "image/png": "[encoded data removed]"
     },
     "metadata": {},
     "output_type": "display_data"
    }
   ],
   "source": [
    "fig, axs = plt.subplots(1, 3, figsize=(20,20))\n",
    "\n",
    "\n",
    "for i in range(3):\n",
    "    axs[i].imshow(masks[i][:50])\n",
    "    axs[i].set_title(f\"mask {i}\")\n",
    "    axs[i].set_xticklabels(labels = features, rotation=45)"
   ]
  },
  {
   "cell_type": "markdown",
   "metadata": {},
   "source": [
    "# XGB"
   ]
  },
  {
   "cell_type": "code",
   "execution_count": 47,
   "metadata": {
    "scrolled": true,
    "ExecuteTime": {
     "end_time": "2023-08-18T15:09:08.261858189Z",
     "start_time": "2023-08-18T15:09:08.237279882Z"
    }
   },
   "outputs": [],
   "source": [
    "from xgboost import XGBClassifier\n",
    "\n",
    "clf_xgb = XGBClassifier(max_depth=8,\n",
    "    learning_rate=0.1,\n",
    "    n_estimators=1000,\n",
    "    verbosity=0,\n",
    "    silent=None,\n",
    "    objective='binary:logistic',\n",
    "    booster='gbtree',\n",
    "    n_jobs=-1,\n",
    "    nthread=None,\n",
    "    gamma=0,\n",
    "    min_child_weight=1,\n",
    "    max_delta_step=0,\n",
    "    subsample=0.7,\n",
    "    colsample_bytree=1,\n",
    "    colsample_bylevel=1,\n",
    "    colsample_bynode=1,\n",
    "    reg_alpha=0,\n",
    "    reg_lambda=1,\n",
    "    scale_pos_weight=1,\n",
    "    base_score=0.5,\n",
    "    random_state=0,\n",
    "    seed=None,)\n"
   ]
  },
  {
   "cell_type": "code",
   "execution_count": 53,
   "outputs": [
    {
     "data": {
      "text/plain": "array(['not_wealthy', 'not_wealthy', 'wealthy', ..., 'not_wealthy',\n       'wealthy', 'wealthy'], dtype=object)"
     },
     "execution_count": 53,
     "metadata": {},
     "output_type": "execute_result"
    }
   ],
   "source": [
    "y_test"
   ],
   "metadata": {
    "collapsed": false,
    "ExecuteTime": {
     "end_time": "2023-08-18T15:10:03.004694694Z",
     "start_time": "2023-08-18T15:10:02.978829623Z"
    }
   }
  },
  {
   "cell_type": "code",
   "execution_count": 58,
   "outputs": [],
   "source": [
    "y_test_ = y_test == 'wealthy'\n",
    "y_train_ = y_train == 'wealthy'\n",
    "y_valid_ = y_valid == 'wealthy'"
   ],
   "metadata": {
    "collapsed": false,
    "ExecuteTime": {
     "end_time": "2023-08-18T15:13:21.191462260Z",
     "start_time": "2023-08-18T15:13:21.138153396Z"
    }
   }
  },
  {
   "cell_type": "code",
   "execution_count": 59,
   "outputs": [
    {
     "name": "stdout",
     "output_type": "stream",
     "text": [
      "[0]\tvalidation_0-logloss:0.63523\n",
      "[10]\tvalidation_0-logloss:0.37927\n"
     ]
    },
    {
     "name": "stderr",
     "output_type": "stream",
     "text": [
      "/opt/anaconda/envs/juplab_hk_torch/lib/python3.9/site-packages/xgboost/sklearn.py:835: UserWarning: `early_stopping_rounds` in `fit` method is deprecated for better compatibility with scikit-learn, use `early_stopping_rounds` in constructor or`set_params` instead.\n",
      "  warnings.warn(\n"
     ]
    },
    {
     "name": "stdout",
     "output_type": "stream",
     "text": [
      "[20]\tvalidation_0-logloss:0.31122\n",
      "[30]\tvalidation_0-logloss:0.28684\n",
      "[40]\tvalidation_0-logloss:0.27723\n",
      "[50]\tvalidation_0-logloss:0.27253\n",
      "[60]\tvalidation_0-logloss:0.26951\n",
      "[70]\tvalidation_0-logloss:0.26907\n",
      "[80]\tvalidation_0-logloss:0.26752\n",
      "[90]\tvalidation_0-logloss:0.26729\n",
      "[100]\tvalidation_0-logloss:0.26748\n",
      "[110]\tvalidation_0-logloss:0.26783\n",
      "[120]\tvalidation_0-logloss:0.26779\n",
      "[130]\tvalidation_0-logloss:0.26815\n",
      "[140]\tvalidation_0-logloss:0.26878\n",
      "[141]\tvalidation_0-logloss:0.26909\n"
     ]
    },
    {
     "data": {
      "text/plain": "XGBClassifier(base_score=0.5, booster='gbtree', callbacks=None,\n              colsample_bylevel=1, colsample_bynode=1, colsample_bytree=1,\n              early_stopping_rounds=None, enable_categorical=False,\n              eval_metric=None, feature_types=None, gamma=0, gpu_id=None,\n              grow_policy=None, importance_type=None,\n              interaction_constraints=None, learning_rate=0.1, max_bin=None,\n              max_cat_threshold=None, max_cat_to_onehot=None, max_delta_step=0,\n              max_depth=8, max_leaves=None, min_child_weight=1, missing=nan,\n              monotone_constraints=None, n_estimators=1000, n_jobs=-1,\n              nthread=None, num_parallel_tree=None, predictor=None, ...)",
      "text/html": "<style>#sk-container-id-1 {color: black;background-color: white;}#sk-container-id-1 pre{padding: 0;}#sk-container-id-1 div.sk-toggleable {background-color: white;}#sk-container-id-1 label.sk-toggleable__label {cursor: pointer;display: block;width: 100%;margin-bottom: 0;padding: 0.3em;box-sizing: border-box;text-align: center;}#sk-container-id-1 label.sk-toggleable__label-arrow:before {content: \"▸\";float: left;margin-right: 0.25em;color: #696969;}#sk-container-id-1 label.sk-toggleable__label-arrow:hover:before {color: black;}#sk-container-id-1 div.sk-estimator:hover label.sk-toggleable__label-arrow:before {color: black;}#sk-container-id-1 div.sk-toggleable__content {max-height: 0;max-width: 0;overflow: hidden;text-align: left;background-color: #f0f8ff;}#sk-container-id-1 div.sk-toggleable__content pre {margin: 0.2em;color: black;border-radius: 0.25em;background-color: #f0f8ff;}#sk-container-id-1 input.sk-toggleable__control:checked~div.sk-toggleable__content {max-height: 200px;max-width: 100%;overflow: auto;}#sk-container-id-1 input.sk-toggleable__control:checked~label.sk-toggleable__label-arrow:before {content: \"▾\";}#sk-container-id-1 div.sk-estimator input.sk-toggleable__control:checked~label.sk-toggleable__label {background-color: #d4ebff;}#sk-container-id-1 div.sk-label input.sk-toggleable__control:checked~label.sk-toggleable__label {background-color: #d4ebff;}#sk-container-id-1 input.sk-hidden--visually {border: 0;clip: rect(1px 1px 1px 1px);clip: rect(1px, 1px, 1px, 1px);height: 1px;margin: -1px;overflow: hidden;padding: 0;position: absolute;width: 1px;}#sk-container-id-1 div.sk-estimator {font-family: monospace;background-color: #f0f8ff;border: 1px dotted black;border-radius: 0.25em;box-sizing: border-box;margin-bottom: 0.5em;}#sk-container-id-1 div.sk-estimator:hover {background-color: #d4ebff;}#sk-container-id-1 div.sk-parallel-item::after {content: \"\";width: 100%;border-bottom: 1px solid gray;flex-grow: 1;}#sk-container-id-1 div.sk-label:hover label.sk-toggleable__label {background-color: #d4ebff;}#sk-container-id-1 div.sk-serial::before {content: \"\";position: absolute;border-left: 1px solid gray;box-sizing: border-box;top: 0;bottom: 0;left: 50%;z-index: 0;}#sk-container-id-1 div.sk-serial {display: flex;flex-direction: column;align-items: center;background-color: white;padding-right: 0.2em;padding-left: 0.2em;position: relative;}#sk-container-id-1 div.sk-item {position: relative;z-index: 1;}#sk-container-id-1 div.sk-parallel {display: flex;align-items: stretch;justify-content: center;background-color: white;position: relative;}#sk-container-id-1 div.sk-item::before, #sk-container-id-1 div.sk-parallel-item::before {content: \"\";position: absolute;border-left: 1px solid gray;box-sizing: border-box;top: 0;bottom: 0;left: 50%;z-index: -1;}#sk-container-id-1 div.sk-parallel-item {display: flex;flex-direction: column;z-index: 1;position: relative;background-color: white;}#sk-container-id-1 div.sk-parallel-item:first-child::after {align-self: flex-end;width: 50%;}#sk-container-id-1 div.sk-parallel-item:last-child::after {align-self: flex-start;width: 50%;}#sk-container-id-1 div.sk-parallel-item:only-child::after {width: 0;}#sk-container-id-1 div.sk-dashed-wrapped {border: 1px dashed gray;margin: 0 0.4em 0.5em 0.4em;box-sizing: border-box;padding-bottom: 0.4em;background-color: white;}#sk-container-id-1 div.sk-label label {font-family: monospace;font-weight: bold;display: inline-block;line-height: 1.2em;}#sk-container-id-1 div.sk-label-container {text-align: center;}#sk-container-id-1 div.sk-container {/* jupyter's `normalize.less` sets `[hidden] { display: none; }` but bootstrap.min.css set `[hidden] { display: none !important; }` so we also need the `!important` here to be able to override the default hidden behavior on the sphinx rendered scikit-learn.org. See: https://github.com/scikit-learn/scikit-learn/issues/21755 */display: inline-block !important;position: relative;}#sk-container-id-1 div.sk-text-repr-fallback {display: none;}</style><div id=\"sk-container-id-1\" class=\"sk-top-container\"><div class=\"sk-text-repr-fallback\"><pre>XGBClassifier(base_score=0.5, booster=&#x27;gbtree&#x27;, callbacks=None,\n              colsample_bylevel=1, colsample_bynode=1, colsample_bytree=1,\n              early_stopping_rounds=None, enable_categorical=False,\n              eval_metric=None, feature_types=None, gamma=0, gpu_id=None,\n              grow_policy=None, importance_type=None,\n              interaction_constraints=None, learning_rate=0.1, max_bin=None,\n              max_cat_threshold=None, max_cat_to_onehot=None, max_delta_step=0,\n              max_depth=8, max_leaves=None, min_child_weight=1, missing=nan,\n              monotone_constraints=None, n_estimators=1000, n_jobs=-1,\n              nthread=None, num_parallel_tree=None, predictor=None, ...)</pre><b>In a Jupyter environment, please rerun this cell to show the HTML representation or trust the notebook. <br />On GitHub, the HTML representation is unable to render, please try loading this page with nbviewer.org.</b></div><div class=\"sk-container\" hidden><div class=\"sk-item\"><div class=\"sk-estimator sk-toggleable\"><input class=\"sk-toggleable__control sk-hidden--visually\" id=\"sk-estimator-id-1\" type=\"checkbox\" checked><label for=\"sk-estimator-id-1\" class=\"sk-toggleable__label sk-toggleable__label-arrow\">XGBClassifier</label><div class=\"sk-toggleable__content\"><pre>XGBClassifier(base_score=0.5, booster=&#x27;gbtree&#x27;, callbacks=None,\n              colsample_bylevel=1, colsample_bynode=1, colsample_bytree=1,\n              early_stopping_rounds=None, enable_categorical=False,\n              eval_metric=None, feature_types=None, gamma=0, gpu_id=None,\n              grow_policy=None, importance_type=None,\n              interaction_constraints=None, learning_rate=0.1, max_bin=None,\n              max_cat_threshold=None, max_cat_to_onehot=None, max_delta_step=0,\n              max_depth=8, max_leaves=None, min_child_weight=1, missing=nan,\n              monotone_constraints=None, n_estimators=1000, n_jobs=-1,\n              nthread=None, num_parallel_tree=None, predictor=None, ...)</pre></div></div></div></div></div>"
     },
     "execution_count": 59,
     "metadata": {},
     "output_type": "execute_result"
    }
   ],
   "source": [
    "clf_xgb.fit(X_train, y_train_,\n",
    "        eval_set=[(X_valid, y_valid_)],\n",
    "        early_stopping_rounds=40,\n",
    "        verbose=10)"
   ],
   "metadata": {
    "collapsed": false,
    "ExecuteTime": {
     "end_time": "2023-08-18T15:13:36.444764210Z",
     "start_time": "2023-08-18T15:13:35.334416290Z"
    }
   }
  },
  {
   "cell_type": "code",
   "execution_count": 60,
   "metadata": {
    "ExecuteTime": {
     "end_time": "2023-08-18T15:13:52.612646783Z",
     "start_time": "2023-08-18T15:13:52.564367555Z"
    }
   },
   "outputs": [
    {
     "name": "stdout",
     "output_type": "stream",
     "text": [
      "0.9336413537984218\n",
      "0.9244487257452103\n"
     ]
    }
   ],
   "source": [
    "preds = np.array(clf_xgb.predict_proba(X_valid))\n",
    "valid_auc = roc_auc_score(y_score=preds[:,1], y_true=y_valid_)\n",
    "print(valid_auc)\n",
    "\n",
    "preds = np.array(clf_xgb.predict_proba(X_test))\n",
    "test_auc = roc_auc_score(y_score=preds[:,1], y_true=y_test_)\n",
    "print(test_auc)"
   ]
  },
  {
   "cell_type": "code",
   "execution_count": null,
   "outputs": [],
   "source": [],
   "metadata": {
    "collapsed": false
   }
  }
 ],
 "metadata": {
  "kernelspec": {
   "name": "juplab_hk_torch",
   "language": "python",
   "display_name": "juplab_hk_torch"
  },
  "language_info": {
   "codemirror_mode": {
    "name": "ipython",
    "version": 3
   },
   "file_extension": ".py",
   "mimetype": "text/x-python",
   "name": "python",
   "nbconvert_exporter": "python",
   "pygments_lexer": "ipython3",
   "version": "3.7.13"
  },
  "toc": {
   "base_numbering": 1,
   "nav_menu": {},
   "number_sections": true,
   "sideBar": true,
   "skip_h1_title": false,
   "title_cell": "Table of Contents",
   "title_sidebar": "Contents",
   "toc_cell": false,
   "toc_position": {},
   "toc_section_display": true,
   "toc_window_display": false
  }
 },
 "nbformat": 4,
 "nbformat_minor": 2
}
